{
 "cells": [
  {
   "cell_type": "code",
   "execution_count": 1,
   "id": "6e3a8d74",
   "metadata": {},
   "outputs": [],
   "source": [
    "import torch\n",
    "\n",
    "# Проверка доступности GPU\n",
    "device = torch.device(\"cuda\" if torch.cuda.is_available() else \"cpu\")\n"
   ]
  },
  {
   "cell_type": "code",
   "execution_count": 2,
   "id": "d53e543d",
   "metadata": {},
   "outputs": [
    {
     "name": "stdout",
     "output_type": "stream",
     "text": [
      "Device: cuda\n",
      "tensor([[0.1001, 0.8487, 0.7085],\n",
      "        [0.8411, 0.2888, 0.4982],\n",
      "        [0.1436, 0.3218, 0.7651]], device='cuda:0')\n"
     ]
    }
   ],
   "source": [
    "# Создание случайного тензора размером (3, 3)\n",
    "random_tensor = torch.rand(3, 3)\n",
    "\n",
    "# Отправка тензора на GPU\n",
    "random_tensor = random_tensor.to(device)\n",
    "\n",
    "print(f\"Device: {device}\")\n",
    "print(random_tensor)"
   ]
  },
  {
   "cell_type": "code",
   "execution_count": null,
   "id": "43eab55f",
   "metadata": {},
   "outputs": [],
   "source": []
  }
 ],
 "metadata": {
  "kernelspec": {
   "display_name": "DL24",
   "language": "python",
   "name": "dl24"
  },
  "language_info": {
   "codemirror_mode": {
    "name": "ipython",
    "version": 3
   },
   "file_extension": ".py",
   "mimetype": "text/x-python",
   "name": "python",
   "nbconvert_exporter": "python",
   "pygments_lexer": "ipython3",
   "version": "3.10.4"
  }
 },
 "nbformat": 4,
 "nbformat_minor": 5
}
