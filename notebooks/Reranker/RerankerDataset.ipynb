{
 "cells": [
  {
   "cell_type": "code",
   "execution_count": 1,
   "id": "dbfc46df-44cb-4c33-b101-b0fe659bca3a",
   "metadata": {},
   "outputs": [],
   "source": [
    "import sys\n",
    "import os\n",
    "\n",
    "PROJECT_DIR = '/home/evgenshuben/Desktop/gitReps/YandexCup/'\n",
    "sys.path.append(PROJECT_DIR)\n",
    "os.chdir(PROJECT_DIR)"
   ]
  },
  {
   "cell_type": "code",
   "execution_count": 27,
   "id": "cb27f2aa-79f6-4bf0-adde-03323ea5bd3d",
   "metadata": {},
   "outputs": [],
   "source": [
    "from omegaconf import DictConfig, OmegaConf\n",
    "import hydra\n",
    "from hydra import initialize, compose, initialize_config_dir\n",
    "from hydra.utils import instantiate\n",
    "\n",
    "import torch.nn as nn\n",
    "import torch\n",
    "import torch.nn.functional as F\n",
    "import pandas as pd\n",
    "import numpy as np\n",
    "from tqdm import tqdm\n",
    "import faiss\n",
    "from sklearn.model_selection import train_test_split"
   ]
  },
  {
   "cell_type": "code",
   "execution_count": 3,
   "id": "22ff6ef5-4239-4eca-beb3-3b4c00bd17b7",
   "metadata": {},
   "outputs": [],
   "source": [
    "%load_ext autoreload\n",
    "%autoreload 2\n",
    "\n",
    "from scr.train import Trainer\n",
    "from scr.data.dataset import CoverDatasetClassifier"
   ]
  },
  {
   "cell_type": "markdown",
   "id": "6d1ef086-1d54-404e-8907-15e6055e5e0b",
   "metadata": {},
   "source": [
    "# Load data"
   ]
  },
  {
   "cell_type": "code",
   "execution_count": 4,
   "id": "78671f10-adcf-427f-9ebd-d1bfb791c12e",
   "metadata": {},
   "outputs": [],
   "source": [
    "nearest_track_idx_pd = pd.read_parquet('/home/evgenshuben/Desktop/gitReps/YandexCup/outputs_val/reranker/train_dataset_pd.pq')"
   ]
  },
  {
   "cell_type": "code",
   "execution_count": 28,
   "id": "37b56475-868e-487a-9079-a18bdf90fd33",
   "metadata": {},
   "outputs": [
    {
     "data": {
      "text/html": [
       "<div>\n",
       "<style scoped>\n",
       "    .dataframe tbody tr th:only-of-type {\n",
       "        vertical-align: middle;\n",
       "    }\n",
       "\n",
       "    .dataframe tbody tr th {\n",
       "        vertical-align: top;\n",
       "    }\n",
       "\n",
       "    .dataframe thead th {\n",
       "        text-align: right;\n",
       "    }\n",
       "</style>\n",
       "<table border=\"1\" class=\"dataframe\">\n",
       "  <thead>\n",
       "    <tr style=\"text-align: right;\">\n",
       "      <th></th>\n",
       "      <th>track_id</th>\n",
       "      <th>neighbors</th>\n",
       "      <th>negatives</th>\n",
       "      <th>positives</th>\n",
       "    </tr>\n",
       "  </thead>\n",
       "  <tbody>\n",
       "    <tr>\n",
       "      <th>0</th>\n",
       "      <td>343223</td>\n",
       "      <td>[343223, 314991, 254137, 200291, 101812, 12627...</td>\n",
       "      <td>[314991, 254137, 200291, 101812, 126276, 35797...</td>\n",
       "      <td>[307473, 361210, 101132, 343223]</td>\n",
       "    </tr>\n",
       "    <tr>\n",
       "      <th>1</th>\n",
       "      <td>361210</td>\n",
       "      <td>[361210, 101132, 307473, 343223, 281680, 33874...</td>\n",
       "      <td>[281680, 338741, 204228, 182103, 189128, 23351...</td>\n",
       "      <td>[59234, 101132, 307473, 343223, 361210]</td>\n",
       "    </tr>\n",
       "    <tr>\n",
       "      <th>2</th>\n",
       "      <td>114472</td>\n",
       "      <td>[114472, 247079, 109255, 216454, 192349, 13474...</td>\n",
       "      <td>[109255, 192349, 258956, 236469, 221151, 22684...</td>\n",
       "      <td>[59234, 216454, 247079, 114472, 215467, 307473...</td>\n",
       "    </tr>\n",
       "    <tr>\n",
       "      <th>3</th>\n",
       "      <td>134744</td>\n",
       "      <td>[134744, 215467, 258956, 247079, 179511, 30816...</td>\n",
       "      <td>[258956, 179511, 308169, 146032, 136942, 29370...</td>\n",
       "      <td>[59234, 216454, 247079, 114472, 215467, 101132...</td>\n",
       "    </tr>\n",
       "    <tr>\n",
       "      <th>4</th>\n",
       "      <td>271362</td>\n",
       "      <td>[271362, 315298, 144962, 332689, 180183, 19886...</td>\n",
       "      <td>[315298, 144962, 332689, 180183, 198867, 29852...</td>\n",
       "      <td>[271362]</td>\n",
       "    </tr>\n",
       "  </tbody>\n",
       "</table>\n",
       "</div>"
      ],
      "text/plain": [
       "   track_id                                          neighbors  \\\n",
       "0    343223  [343223, 314991, 254137, 200291, 101812, 12627...   \n",
       "1    361210  [361210, 101132, 307473, 343223, 281680, 33874...   \n",
       "2    114472  [114472, 247079, 109255, 216454, 192349, 13474...   \n",
       "3    134744  [134744, 215467, 258956, 247079, 179511, 30816...   \n",
       "4    271362  [271362, 315298, 144962, 332689, 180183, 19886...   \n",
       "\n",
       "                                           negatives  \\\n",
       "0  [314991, 254137, 200291, 101812, 126276, 35797...   \n",
       "1  [281680, 338741, 204228, 182103, 189128, 23351...   \n",
       "2  [109255, 192349, 258956, 236469, 221151, 22684...   \n",
       "3  [258956, 179511, 308169, 146032, 136942, 29370...   \n",
       "4  [315298, 144962, 332689, 180183, 198867, 29852...   \n",
       "\n",
       "                                           positives  \n",
       "0                   [307473, 361210, 101132, 343223]  \n",
       "1            [59234, 101132, 307473, 343223, 361210]  \n",
       "2  [59234, 216454, 247079, 114472, 215467, 307473...  \n",
       "3  [59234, 216454, 247079, 114472, 215467, 101132...  \n",
       "4                                           [271362]  "
      ]
     },
     "execution_count": 28,
     "metadata": {},
     "output_type": "execute_result"
    }
   ],
   "source": [
    "nearest_track_idx_pd.head()"
   ]
  },
  {
   "cell_type": "code",
   "execution_count": 11,
   "id": "b773fc1c-69f4-494a-8136-45c647ca360f",
   "metadata": {},
   "outputs": [
    {
     "data": {
      "text/html": [
       "<div>\n",
       "<style scoped>\n",
       "    .dataframe tbody tr th:only-of-type {\n",
       "        vertical-align: middle;\n",
       "    }\n",
       "\n",
       "    .dataframe tbody tr th {\n",
       "        vertical-align: top;\n",
       "    }\n",
       "\n",
       "    .dataframe thead th {\n",
       "        text-align: right;\n",
       "    }\n",
       "</style>\n",
       "<table border=\"1\" class=\"dataframe\">\n",
       "  <thead>\n",
       "    <tr style=\"text-align: right;\">\n",
       "      <th></th>\n",
       "      <th>track_id</th>\n",
       "      <th>neighbors</th>\n",
       "      <th>negatives</th>\n",
       "      <th>positives</th>\n",
       "    </tr>\n",
       "  </thead>\n",
       "  <tbody>\n",
       "  </tbody>\n",
       "</table>\n",
       "</div>"
      ],
      "text/plain": [
       "Empty DataFrame\n",
       "Columns: [track_id, neighbors, negatives, positives]\n",
       "Index: []"
      ]
     },
     "execution_count": 11,
     "metadata": {},
     "output_type": "execute_result"
    }
   ],
   "source": [
    "nearest_track_idx_pd[nearest_track_idx_pd['positives'].str.len() == 0]"
   ]
  },
  {
   "cell_type": "code",
   "execution_count": 30,
   "id": "883d616f-e598-46b2-89da-ad477764488b",
   "metadata": {},
   "outputs": [],
   "source": [
    "def split_train_val(df, test_size=0.2, random_state=42):  \n",
    "    unique_track_ids = df['track_id'].unique()\n",
    "    train_ids, val_ids = train_test_split(unique_track_ids, test_size=test_size, random_state=random_state)\n",
    "    \n",
    "    train_df = df[df['track_id'].isin(train_ids)].reset_index(drop=True)\n",
    "    val_df = df[df['track_id'].isin(val_ids)].reset_index(drop=True)\n",
    "    return train_df, val_df"
   ]
  },
  {
   "cell_type": "code",
   "execution_count": 31,
   "id": "ac0a3bc3-4134-4cef-a603-a61d994f4cd3",
   "metadata": {},
   "outputs": [],
   "source": [
    "def prepare_reranker_dataset(df, negative_sample_size=None, random_state=42):\n",
    "    np.random.seed(random_state)\n",
    "    \n",
    "\n",
    "    flat_data = []\n",
    "\n",
    "    for _, row in df.iterrows():\n",
    "        track_id = row['track_id']\n",
    "        \n",
    "        for pos_id in row['positives']:\n",
    "            flat_data.append({'track_id': track_id, 'candidate_id': pos_id, 'target': 1})\n",
    "        \n",
    "        if negative_sample_size is not None:\n",
    "            sampled_negatives = np.random.choice(row['negatives'], size=min(negative_sample_size, len(row['negatives'])), replace=False)\n",
    "        else:\n",
    "            sampled_negatives = row['negatives']\n",
    "        \n",
    "        for neg_id in sampled_negatives:\n",
    "            flat_data.append({'track_id': track_id, 'candidate_id': neg_id, 'target': 0})\n",
    "\n",
    "    flat_df = pd.DataFrame(flat_data)\n",
    "\n",
    "    return flat_df"
   ]
  },
  {
   "cell_type": "markdown",
   "id": "057bb401-aa19-4557-a50b-e839141198a9",
   "metadata": {},
   "source": [
    "Нет вообще треков, у которых среди топ-200 не нашлось бы позитивов"
   ]
  },
  {
   "cell_type": "code",
   "execution_count": 44,
   "id": "ad6314c6-4f66-4462-a7b6-53c808571ca8",
   "metadata": {},
   "outputs": [
    {
     "data": {
      "text/plain": [
       "(50000, 4)"
      ]
     },
     "execution_count": 44,
     "metadata": {},
     "output_type": "execute_result"
    }
   ],
   "source": [
    "df_sampled = nearest_track_idx_pd.sample(n=50000, random_state=42)\n",
    "df_sampled.shape"
   ]
  },
  {
   "cell_type": "code",
   "execution_count": 45,
   "id": "b5336e80-90bd-4f51-b883-de5e10698b38",
   "metadata": {},
   "outputs": [],
   "source": [
    "train_df, val_df = split_train_val(df_sampled, test_size=0.1)"
   ]
  },
  {
   "cell_type": "code",
   "execution_count": 46,
   "id": "fc555eca-4a3e-4402-9cc9-30e252171e97",
   "metadata": {},
   "outputs": [
    {
     "name": "stdout",
     "output_type": "stream",
     "text": [
      "train shape: (2346707, 3)\n",
      "val shape: (1000000, 3)\n"
     ]
    }
   ],
   "source": [
    "train_flat_pd = prepare_reranker_dataset(train_df, negative_sample_size=30)\n",
    "val_flat_pd = prepare_reranker_dataset(val_df, negative_sample_size=None)\n",
    "\n",
    "print('train shape:', train_flat_pd.shape)\n",
    "print('val shape:', val_flat_pd.shape)"
   ]
  },
  {
   "cell_type": "markdown",
   "id": "2c282374-348d-4397-814c-46a9c35fde49",
   "metadata": {},
   "source": [
    "###### inferense model\n",
    "\n",
    "теперь осталось проставлять предикты от модели к датасетам\n",
    "\n",
    "Для этого нужно загрузить модель и заинференсить ее на парах, которые получились\n",
    "\n"
   ]
  },
  {
   "cell_type": "code",
   "execution_count": null,
   "id": "9424eebb-1ac7-47b2-88d8-bbd7dbd8e9a8",
   "metadata": {},
   "outputs": [],
   "source": []
  },
  {
   "cell_type": "code",
   "execution_count": null,
   "id": "5438407c-2bf7-4b37-89e7-1116bfbdf711",
   "metadata": {},
   "outputs": [],
   "source": []
  },
  {
   "cell_type": "code",
   "execution_count": 47,
   "id": "41f352fa-9d72-4953-a869-f68f2bea3690",
   "metadata": {},
   "outputs": [
    {
     "data": {
      "text/html": [
       "<div>\n",
       "<style scoped>\n",
       "    .dataframe tbody tr th:only-of-type {\n",
       "        vertical-align: middle;\n",
       "    }\n",
       "\n",
       "    .dataframe tbody tr th {\n",
       "        vertical-align: top;\n",
       "    }\n",
       "\n",
       "    .dataframe thead th {\n",
       "        text-align: right;\n",
       "    }\n",
       "</style>\n",
       "<table border=\"1\" class=\"dataframe\">\n",
       "  <thead>\n",
       "    <tr style=\"text-align: right;\">\n",
       "      <th></th>\n",
       "      <th>track_id</th>\n",
       "      <th>candidate_id</th>\n",
       "      <th>target</th>\n",
       "    </tr>\n",
       "  </thead>\n",
       "  <tbody>\n",
       "    <tr>\n",
       "      <th>0</th>\n",
       "      <td>108293</td>\n",
       "      <td>108293</td>\n",
       "      <td>1</td>\n",
       "    </tr>\n",
       "    <tr>\n",
       "      <th>1</th>\n",
       "      <td>108293</td>\n",
       "      <td>317206</td>\n",
       "      <td>1</td>\n",
       "    </tr>\n",
       "    <tr>\n",
       "      <th>2</th>\n",
       "      <td>108293</td>\n",
       "      <td>319104</td>\n",
       "      <td>0</td>\n",
       "    </tr>\n",
       "    <tr>\n",
       "      <th>3</th>\n",
       "      <td>108293</td>\n",
       "      <td>289551</td>\n",
       "      <td>0</td>\n",
       "    </tr>\n",
       "    <tr>\n",
       "      <th>4</th>\n",
       "      <td>108293</td>\n",
       "      <td>263026</td>\n",
       "      <td>0</td>\n",
       "    </tr>\n",
       "    <tr>\n",
       "      <th>...</th>\n",
       "      <td>...</td>\n",
       "      <td>...</td>\n",
       "      <td>...</td>\n",
       "    </tr>\n",
       "    <tr>\n",
       "      <th>2346702</th>\n",
       "      <td>310815</td>\n",
       "      <td>272467</td>\n",
       "      <td>0</td>\n",
       "    </tr>\n",
       "    <tr>\n",
       "      <th>2346703</th>\n",
       "      <td>310815</td>\n",
       "      <td>283433</td>\n",
       "      <td>0</td>\n",
       "    </tr>\n",
       "    <tr>\n",
       "      <th>2346704</th>\n",
       "      <td>310815</td>\n",
       "      <td>325370</td>\n",
       "      <td>0</td>\n",
       "    </tr>\n",
       "    <tr>\n",
       "      <th>2346705</th>\n",
       "      <td>310815</td>\n",
       "      <td>347644</td>\n",
       "      <td>0</td>\n",
       "    </tr>\n",
       "    <tr>\n",
       "      <th>2346706</th>\n",
       "      <td>310815</td>\n",
       "      <td>353795</td>\n",
       "      <td>0</td>\n",
       "    </tr>\n",
       "  </tbody>\n",
       "</table>\n",
       "<p>2346707 rows × 3 columns</p>\n",
       "</div>"
      ],
      "text/plain": [
       "         track_id  candidate_id  target\n",
       "0          108293        108293       1\n",
       "1          108293        317206       1\n",
       "2          108293        319104       0\n",
       "3          108293        289551       0\n",
       "4          108293        263026       0\n",
       "...           ...           ...     ...\n",
       "2346702    310815        272467       0\n",
       "2346703    310815        283433       0\n",
       "2346704    310815        325370       0\n",
       "2346705    310815        347644       0\n",
       "2346706    310815        353795       0\n",
       "\n",
       "[2346707 rows x 3 columns]"
      ]
     },
     "execution_count": 47,
     "metadata": {},
     "output_type": "execute_result"
    }
   ],
   "source": [
    "train_flat_pd"
   ]
  },
  {
   "cell_type": "code",
   "execution_count": null,
   "id": "bc5953ae-5e28-4577-873f-ba7f4e42a0f8",
   "metadata": {},
   "outputs": [],
   "source": []
  },
  {
   "cell_type": "code",
   "execution_count": null,
   "id": "5064ea01-d601-4b01-934e-d2b4ab9e8991",
   "metadata": {},
   "outputs": [],
   "source": []
  },
  {
   "cell_type": "code",
   "execution_count": null,
   "id": "368ad80d-1bd2-4f29-b732-5b12b42bd7ca",
   "metadata": {},
   "outputs": [],
   "source": []
  },
  {
   "cell_type": "code",
   "execution_count": null,
   "id": "9b3369e4-b618-431f-9610-1a131b51a0ab",
   "metadata": {},
   "outputs": [],
   "source": []
  },
  {
   "cell_type": "code",
   "execution_count": null,
   "id": "fbb92e19-39f6-47b6-bdee-025e5eec82cd",
   "metadata": {},
   "outputs": [],
   "source": []
  },
  {
   "cell_type": "code",
   "execution_count": null,
   "id": "633182d5-f0d5-4c89-8801-2df28d00eb52",
   "metadata": {},
   "outputs": [],
   "source": []
  },
  {
   "cell_type": "code",
   "execution_count": null,
   "id": "6433685d-99fb-4f0a-b3fa-10b700d3036d",
   "metadata": {},
   "outputs": [],
   "source": []
  },
  {
   "cell_type": "code",
   "execution_count": null,
   "id": "385dd92e-1210-4356-a060-4caf4c6028c6",
   "metadata": {},
   "outputs": [],
   "source": []
  },
  {
   "cell_type": "code",
   "execution_count": null,
   "id": "2ffe377c-e00f-4c07-b8e1-d0fb3c7df8a1",
   "metadata": {},
   "outputs": [],
   "source": []
  },
  {
   "cell_type": "code",
   "execution_count": null,
   "id": "39901cd5-a162-4ee2-88b5-a124732614f8",
   "metadata": {},
   "outputs": [],
   "source": []
  },
  {
   "cell_type": "code",
   "execution_count": null,
   "id": "281e35bd-ed1d-4757-aa5b-04c43a1a3d8a",
   "metadata": {},
   "outputs": [],
   "source": []
  }
 ],
 "metadata": {
  "kernelspec": {
   "display_name": "Python 3.10",
   "language": "python",
   "name": "dl24"
  },
  "language_info": {
   "codemirror_mode": {
    "name": "ipython",
    "version": 3
   },
   "file_extension": ".py",
   "mimetype": "text/x-python",
   "name": "python",
   "nbconvert_exporter": "python",
   "pygments_lexer": "ipython3",
   "version": "3.10.15"
  }
 },
 "nbformat": 4,
 "nbformat_minor": 5
}
