{
 "cells": [
  {
   "cell_type": "code",
   "execution_count": 6,
   "id": "b84f9778-1bd1-43b5-91ce-749c6e153130",
   "metadata": {},
   "outputs": [],
   "source": [
    "import sys\n",
    "import os\n",
    "\n",
    "PROJECT_DIR = '/home/evgenshuben/Desktop/gitReps/YandexCup/'\n",
    "sys.path.append(PROJECT_DIR)\n",
    "os.chdir(PROJECT_DIR)"
   ]
  },
  {
   "cell_type": "code",
   "execution_count": 61,
   "id": "713533c7-467b-4eca-b880-8f8003cde7f1",
   "metadata": {},
   "outputs": [],
   "source": [
    "from omegaconf import DictConfig, OmegaConf\n",
    "import hydra\n",
    "from hydra import initialize, compose, initialize_config_dir\n",
    "from hydra.utils import instantiate\n",
    "\n",
    "import torch.nn as nn\n",
    "import torch\n",
    "import torch.nn.functional as F\n",
    "import pandas as pd\n",
    "import numpy as np\n",
    "from tqdm import tqdm\n",
    "import faiss"
   ]
  },
  {
   "cell_type": "code",
   "execution_count": 8,
   "id": "ba10a858-24e3-43c6-bfd5-280c3e6012d6",
   "metadata": {},
   "outputs": [
    {
     "name": "stdout",
     "output_type": "stream",
     "text": [
      "The autoreload extension is already loaded. To reload it, use:\n",
      "  %reload_ext autoreload\n"
     ]
    }
   ],
   "source": [
    "%load_ext autoreload\n",
    "%autoreload 2\n",
    "\n",
    "from scr.train import Trainer\n",
    "from scr.data.dataset import CoverDatasetClassifier"
   ]
  },
  {
   "cell_type": "markdown",
   "id": "5eac5113-51c7-46e8-bf1a-64e43ddd9c0f",
   "metadata": {},
   "source": [
    "# info\n",
    "\n",
    "Тут попробую взять эмбеддинги сильной модели на трейне, чтобы попытаться обучить на ближайших кандидатах реранкер\n",
    "\n",
    "реранкер будет трансформером с ближайшим свяхыванием, ну либо хотя бы просто бустинг на фичах со скорами модели"
   ]
  },
  {
   "cell_type": "code",
   "execution_count": 20,
   "id": "3e982f1d-5448-47b2-a239-5c67e835357a",
   "metadata": {},
   "outputs": [
    {
     "name": "stdout",
     "output_type": "stream",
     "text": [
      "/home/evgenshuben/Desktop/gitReps/YandexCup/outputs_val/run-6/data/model/best-model-epoch=22-max_secs=50.pt\n",
      "{'_target_': 'scr.models.backbone.BackBone', 'backbone_name': 'hgnetv2_b4.ssld_stage2_ft_in1k', 'emb_size': 512, 'num_classes': '${num_classes}'}\n"
     ]
    }
   ],
   "source": [
    "# Путь к конфигурационному файлу, сохраненному Hydra\n",
    "config_path = \"/home/evgenshuben/Desktop/gitReps/YandexCup/outputs_val/run-6/hydra/.hydra/config.yaml\"\n",
    "\n",
    "cfg = OmegaConf.load(config_path)\n",
    "# cfg.enviroment.device = 'cpu'\n",
    "\n",
    "\n",
    "print(cfg.pipeline.model_ckpt)\n",
    "print(cfg.model)"
   ]
  },
  {
   "cell_type": "code",
   "execution_count": 26,
   "id": "f31a46a9-95ba-44cd-bbf3-90aa94267571",
   "metadata": {},
   "outputs": [
    {
     "data": {
      "text/plain": [
       "{'_target_': 'torch.utils.data.DataLoader', 'dataset': '${dataset.train.dataset}', 'batch_size': 64, 'num_workers': 0, 'shuffle': False, 'drop_last': False, 'collate_fn': '${transforms.collate_fn}'}"
      ]
     },
     "execution_count": 26,
     "metadata": {},
     "output_type": "execute_result"
    }
   ],
   "source": [
    "cfg.dataset.train.dataloader"
   ]
  },
  {
   "cell_type": "code",
   "execution_count": 22,
   "id": "0a92b499-cf22-4773-b1fb-a0b66d3bf71a",
   "metadata": {},
   "outputs": [
    {
     "name": "stderr",
     "output_type": "stream",
     "text": [
      "/home/evgenshuben/Desktop/gitReps/YandexCup/scr/train.py:51: FutureWarning: You are using `torch.load` with `weights_only=False` (the current default value), which uses the default pickle module implicitly. It is possible to construct malicious pickle data which will execute arbitrary code during unpickling (See https://github.com/pytorch/pytorch/blob/main/SECURITY.md#untrusted-models for more details). In a future release, the default value for `weights_only` will be flipped to `True`. This limits the functions that could be executed during unpickling. Arbitrary objects will no longer be allowed to be loaded via this mode unless they are explicitly allowlisted by the user via `torch.serialization.add_safe_globals`. We recommend you start setting `weights_only=True` for any use case where you don't have full control of the loaded file. Please open an issue on GitHub for any issues related to this experimental feature.\n",
      "  self.model.load_state_dict(torch.load(self.cfg.pipeline.model_ckpt), strict=False)\n"
     ]
    }
   ],
   "source": [
    "trainer = Trainer(cfg)"
   ]
  },
  {
   "cell_type": "code",
   "execution_count": 52,
   "id": "f85dffcc-5b8e-44a8-b385-ee29c3d6d69c",
   "metadata": {},
   "outputs": [],
   "source": [
    "# trainer.model.eval()"
   ]
  },
  {
   "cell_type": "code",
   "execution_count": 31,
   "id": "e78f0652-2518-44d7-8cfe-6333530ec838",
   "metadata": {},
   "outputs": [],
   "source": [
    "for batch in trainer.train_dataloader:\n",
    "    break"
   ]
  },
  {
   "cell_type": "markdown",
   "id": "1f8d9c1d-b65b-4bea-ae0d-1e698a25e5a0",
   "metadata": {},
   "source": [
    "###### dataloader\n",
    "\n",
    "Нужно сделать инференс модели на трейне для всех эмбеддингов, чтобы в дальнейшем найти ближайших соседей\n",
    "\n",
    "В целом прям в конфиге гидры поменял параметры - убрал аугментации и убрал из даталодера дроп ласт и шафл"
   ]
  },
  {
   "cell_type": "code",
   "execution_count": 51,
   "id": "9a775783-8e77-495e-9d25-c20eabeea7f6",
   "metadata": {},
   "outputs": [
    {
     "name": "stderr",
     "output_type": "stream",
     "text": [
      "100%|██████████| 4673/4673 [06:56<00:00, 11.21it/s]\n"
     ]
    }
   ],
   "source": [
    "all_embeddings = []\n",
    "track_ids = [] \n",
    "\n",
    "with torch.no_grad():\n",
    "    for batch in tqdm(trainer.train_dataloader):\n",
    "        track = batch['anchor'].to(trainer.device)\n",
    "        track_id = batch['anchor_id']\n",
    "        \n",
    "        embeddings = trainer.model(track)['emb']\n",
    "        all_embeddings.append(embeddings.cpu().numpy())\n",
    "        track_ids.append(track_id.cpu().numpy())"
   ]
  },
  {
   "cell_type": "code",
   "execution_count": 55,
   "id": "2b696846-719b-4550-a0ce-9fa959287c3f",
   "metadata": {},
   "outputs": [
    {
     "data": {
      "text/plain": [
       "4673"
      ]
     },
     "execution_count": 55,
     "metadata": {},
     "output_type": "execute_result"
    }
   ],
   "source": [
    "all_embeddings"
   ]
  },
  {
   "cell_type": "code",
   "execution_count": 56,
   "id": "ee2b09e1-ffa8-4094-a4af-cb7f8feb715d",
   "metadata": {},
   "outputs": [],
   "source": [
    "all_embeddings = np.concatenate(all_embeddings, axis=0)\n",
    "norms = np.linalg.norm(all_embeddings, axis=1, keepdims=True)\n",
    "normalized_embeddings = all_embeddings / norms"
   ]
  },
  {
   "cell_type": "code",
   "execution_count": 59,
   "id": "ac42f498-aa82-4554-99a0-3b7dc2011aee",
   "metadata": {},
   "outputs": [
    {
     "name": "stdout",
     "output_type": "stream",
     "text": [
      "CPU times: user 0 ns, sys: 162 ms, total: 162 ms\n",
      "Wall time: 161 ms\n"
     ]
    }
   ],
   "source": [
    "%%time\n",
    "np.save(\n",
    "    '/home/evgenshuben/Desktop/gitReps/YandexCup/outputs_val/run-6/data/train_embeddings.npy', \n",
    "    normalized_embeddings\n",
    ")"
   ]
  },
  {
   "cell_type": "code",
   "execution_count": 60,
   "id": "4080887c-edcd-4776-83c2-fec3fdeaabc7",
   "metadata": {},
   "outputs": [],
   "source": [
    "normalized_embeddings = (\n",
    "    np.load(\n",
    "        '/home/evgenshuben/Desktop/gitReps/YandexCup/outputs_val/run-6/data/train_embeddings.npy'\n",
    "    )\n",
    ")"
   ]
  },
  {
   "cell_type": "markdown",
   "id": "533db52b-bb6b-4eb0-9bd9-5350a02e9161",
   "metadata": {},
   "source": [
    "# nearest neighbours"
   ]
  },
  {
   "cell_type": "code",
   "execution_count": 62,
   "id": "fed0b1f4-86e7-45e8-b810-663785cdb9f2",
   "metadata": {},
   "outputs": [
    {
     "name": "stdout",
     "output_type": "stream",
     "text": [
      "CPU times: user 19.6 s, sys: 300 ms, total: 19.9 s\n",
      "Wall time: 2.37 s\n"
     ]
    }
   ],
   "source": [
    "%%time\n",
    "d = normalized_embeddings.shape[1]  # размерность эмбеддингов\n",
    "n_data = normalized_embeddings.shape[0]  # количество векторов в базе данных\n",
    "n_clusters = 500  # количество кластеров для IVF индекса\n",
    "\n",
    "# Создание индекса с инвертированным файлом (IVF) и точным поиском (Flat) внутри кластеров\n",
    "index = faiss.IndexIVFFlat(faiss.IndexFlatL2(d), d, n_clusters, faiss.METRIC_INNER_PRODUCT)\n",
    "\n",
    "\n",
    "\n",
    "# Обучение индекса (нужно только для IVF индексов)\n",
    "index.train(normalized_embeddings)\n",
    "\n",
    "# Добавляем векторы в индекс\n",
    "index.add(normalized_embeddings)\n",
    "\n",
    "# Переключаем индекс в режим поиска приближенных ближайших соседей\n",
    "index.nprobe = 100"
   ]
  },
  {
   "cell_type": "code",
   "execution_count": 63,
   "id": "71cac8be-a71c-4d2d-a9f6-1c413c4b3b7e",
   "metadata": {},
   "outputs": [
    {
     "name": "stderr",
     "output_type": "stream",
     "text": [
      "100%|██████████| 300/300 [17:39<00:00,  3.53s/it]\n"
     ]
    }
   ],
   "source": [
    "# Предположим, embeddings - это массив эмбеддингов\n",
    "num_embeddings = len(normalized_embeddings)\n",
    "\n",
    "# Размер батча\n",
    "batch_size = 1000\n",
    "k_neighbors = 200\n",
    "\n",
    "# Предварительное выделение памяти для хранения всех расстояний и индексов\n",
    "all_distances = np.empty((num_embeddings, k_neighbors), dtype=np.float32)\n",
    "all_indices = np.empty((num_embeddings, k_neighbors), dtype=np.int64)\n",
    "\n",
    "# Проходим по эмбеддингам батчами\n",
    "for i in tqdm(range(0, num_embeddings, batch_size)):\n",
    "    # Выбираем батч эмбеддингов\n",
    "    batch_embeddings = normalized_embeddings[i:i + batch_size]\n",
    "    \n",
    "    # Поиск ближайших соседей для батча\n",
    "    distances, indices = index.search(batch_embeddings, k_neighbors)\n",
    "    \n",
    "    # Сохраняем последние Last_neighbors расстояний и индексов в предварительно выделенные массивы\n",
    "    all_distances[i:i + batch_embeddings.shape[0], :] = distances\n",
    "    all_indices[i:i + batch_embeddings.shape[0], :] = indices\n",
    "\n",
    "# Теперь all_distances и all_indices содержат все результаты"
   ]
  },
  {
   "cell_type": "code",
   "execution_count": 65,
   "id": "77c83954-a076-41e3-84e9-208c66203ef6",
   "metadata": {},
   "outputs": [
    {
     "data": {
      "text/plain": [
       "(299054, 200)"
      ]
     },
     "execution_count": 65,
     "metadata": {},
     "output_type": "execute_result"
    }
   ],
   "source": [
    "all_distances.shape"
   ]
  },
  {
   "cell_type": "code",
   "execution_count": 67,
   "id": "91eb6847-5134-45f2-bc77-521142f124af",
   "metadata": {},
   "outputs": [
    {
     "data": {
      "text/plain": [
       "array([[     0, 211821, 298660, ..., 130674,  82995, 160914],\n",
       "       [     1,     10,      5, ..., 100875,  70190, 298160],\n",
       "       [     2,      7, 229095, ..., 231743, 282913, 186521],\n",
       "       ...,\n",
       "       [299051, 237947, 205046, ..., 217533, 220529, 209906],\n",
       "       [299052, 299053, 154009, ..., 156581, 110842, 137973],\n",
       "       [299053, 299052, 172246, ..., 272261, 166923, 211230]])"
      ]
     },
     "execution_count": 67,
     "metadata": {},
     "output_type": "execute_result"
    }
   ],
   "source": [
    "all_indices"
   ]
  },
  {
   "cell_type": "code",
   "execution_count": 66,
   "id": "eee2a024-12db-4b34-8d0a-937421a55f03",
   "metadata": {},
   "outputs": [
    {
     "data": {
      "text/plain": [
       "array([[1.        , 0.5446053 , 0.538137  , ..., 0.36038807, 0.36023456,\n",
       "        0.359958  ],\n",
       "       [1.        , 0.64484715, 0.5379874 , ..., 0.30286157, 0.30279297,\n",
       "        0.30259752],\n",
       "       [1.        , 0.5993472 , 0.5541804 , ..., 0.35421175, 0.35386443,\n",
       "        0.35373074],\n",
       "       ...,\n",
       "       [1.0000001 , 0.49141178, 0.44849968, ..., 0.33143944, 0.33137733,\n",
       "        0.33129835],\n",
       "       [1.        , 0.5367408 , 0.5084946 , ..., 0.34609652, 0.3460042 ,\n",
       "        0.3459977 ],\n",
       "       [0.99999994, 0.5367408 , 0.50835925, ..., 0.3356787 , 0.33563325,\n",
       "        0.33532375]], dtype=float32)"
      ]
     },
     "execution_count": 66,
     "metadata": {},
     "output_type": "execute_result"
    }
   ],
   "source": [
    "all_distances"
   ]
  },
  {
   "cell_type": "code",
   "execution_count": 68,
   "id": "687e54cd-e5ec-4255-bb4a-2db3658e461a",
   "metadata": {},
   "outputs": [],
   "source": [
    "nearest_track_idx_pd = pd.DataFrame({\n",
    "    'track_id': np.arange(num_embeddings),  # Индексы треков\n",
    "    'neighbors': all_indices.tolist()       # Преобразуем индексы соседей в списки\n",
    "})"
   ]
  },
  {
   "cell_type": "code",
   "execution_count": 69,
   "id": "8c79a7f9-aa08-4a11-a51b-4aa165057b28",
   "metadata": {},
   "outputs": [
    {
     "data": {
      "text/html": [
       "<div>\n",
       "<style scoped>\n",
       "    .dataframe tbody tr th:only-of-type {\n",
       "        vertical-align: middle;\n",
       "    }\n",
       "\n",
       "    .dataframe tbody tr th {\n",
       "        vertical-align: top;\n",
       "    }\n",
       "\n",
       "    .dataframe thead th {\n",
       "        text-align: right;\n",
       "    }\n",
       "</style>\n",
       "<table border=\"1\" class=\"dataframe\">\n",
       "  <thead>\n",
       "    <tr style=\"text-align: right;\">\n",
       "      <th></th>\n",
       "      <th>track_id</th>\n",
       "      <th>neighbors</th>\n",
       "    </tr>\n",
       "  </thead>\n",
       "  <tbody>\n",
       "    <tr>\n",
       "      <th>0</th>\n",
       "      <td>0</td>\n",
       "      <td>[0, 211821, 298660, 251253, 100247, 201287, 20...</td>\n",
       "    </tr>\n",
       "    <tr>\n",
       "      <th>1</th>\n",
       "      <td>1</td>\n",
       "      <td>[1, 10, 5, 0, 140427, 152554, 207231, 207223, ...</td>\n",
       "    </tr>\n",
       "    <tr>\n",
       "      <th>2</th>\n",
       "      <td>2</td>\n",
       "      <td>[2, 7, 229095, 6, 209567, 3, 8, 257662, 265336...</td>\n",
       "    </tr>\n",
       "    <tr>\n",
       "      <th>3</th>\n",
       "      <td>3</td>\n",
       "      <td>[3, 8, 257662, 7, 94376, 274726, 152613, 25766...</td>\n",
       "    </tr>\n",
       "    <tr>\n",
       "      <th>4</th>\n",
       "      <td>4</td>\n",
       "      <td>[4, 144178, 248566, 168991, 8381, 296969, 2718...</td>\n",
       "    </tr>\n",
       "    <tr>\n",
       "      <th>...</th>\n",
       "      <td>...</td>\n",
       "      <td>...</td>\n",
       "    </tr>\n",
       "    <tr>\n",
       "      <th>299049</th>\n",
       "      <td>299049</td>\n",
       "      <td>[299049, 268646, 299048, 189203, 213919, 27444...</td>\n",
       "    </tr>\n",
       "    <tr>\n",
       "      <th>299050</th>\n",
       "      <td>299050</td>\n",
       "      <td>[299050, 229088, 214484, 203110, 88629, 88637,...</td>\n",
       "    </tr>\n",
       "    <tr>\n",
       "      <th>299051</th>\n",
       "      <td>299051</td>\n",
       "      <td>[299051, 237947, 205046, 298370, 205047, 68064...</td>\n",
       "    </tr>\n",
       "    <tr>\n",
       "      <th>299052</th>\n",
       "      <td>299052</td>\n",
       "      <td>[299052, 299053, 154009, 136319, 227134, 27304...</td>\n",
       "    </tr>\n",
       "    <tr>\n",
       "      <th>299053</th>\n",
       "      <td>299053</td>\n",
       "      <td>[299053, 299052, 172246, 172232, 172243, 28092...</td>\n",
       "    </tr>\n",
       "  </tbody>\n",
       "</table>\n",
       "<p>299054 rows × 2 columns</p>\n",
       "</div>"
      ],
      "text/plain": [
       "        track_id                                          neighbors\n",
       "0              0  [0, 211821, 298660, 251253, 100247, 201287, 20...\n",
       "1              1  [1, 10, 5, 0, 140427, 152554, 207231, 207223, ...\n",
       "2              2  [2, 7, 229095, 6, 209567, 3, 8, 257662, 265336...\n",
       "3              3  [3, 8, 257662, 7, 94376, 274726, 152613, 25766...\n",
       "4              4  [4, 144178, 248566, 168991, 8381, 296969, 2718...\n",
       "...          ...                                                ...\n",
       "299049    299049  [299049, 268646, 299048, 189203, 213919, 27444...\n",
       "299050    299050  [299050, 229088, 214484, 203110, 88629, 88637,...\n",
       "299051    299051  [299051, 237947, 205046, 298370, 205047, 68064...\n",
       "299052    299052  [299052, 299053, 154009, 136319, 227134, 27304...\n",
       "299053    299053  [299053, 299052, 172246, 172232, 172243, 28092...\n",
       "\n",
       "[299054 rows x 2 columns]"
      ]
     },
     "execution_count": 69,
     "metadata": {},
     "output_type": "execute_result"
    }
   ],
   "source": [
    "nearest_track_idx_pd"
   ]
  },
  {
   "cell_type": "code",
   "execution_count": 70,
   "id": "4d2025d7-0f21-46d1-a508-ca67c2a432af",
   "metadata": {},
   "outputs": [],
   "source": [
    "track_id_series = pd.Series(trainer.train_dataloader.dataset.track_ids)"
   ]
  },
  {
   "cell_type": "code",
   "execution_count": 75,
   "id": "56f41204-831c-4fe2-9f48-2cb69bc3d8a2",
   "metadata": {},
   "outputs": [],
   "source": [
    "# 1. Заменяем индексы в колонке 'track_id' на настоящие трек ID\n",
    "nearest_track_idx_pd['track_id'] = nearest_track_idx_pd['track_id'].map(track_id_series)\n",
    "# 2. Заменяем индексы в колонке 'neighbors' на настоящие трек ID\n",
    "nearest_track_idx_pd['neighbors'] = nearest_track_idx_pd['neighbors'].apply(lambda x: track_id_series[x].tolist())"
   ]
  },
  {
   "cell_type": "code",
   "execution_count": 76,
   "id": "0eb1d5b4-0408-4654-b35e-4a8ead63ddac",
   "metadata": {},
   "outputs": [
    {
     "data": {
      "text/html": [
       "<div>\n",
       "<style scoped>\n",
       "    .dataframe tbody tr th:only-of-type {\n",
       "        vertical-align: middle;\n",
       "    }\n",
       "\n",
       "    .dataframe tbody tr th {\n",
       "        vertical-align: top;\n",
       "    }\n",
       "\n",
       "    .dataframe thead th {\n",
       "        text-align: right;\n",
       "    }\n",
       "</style>\n",
       "<table border=\"1\" class=\"dataframe\">\n",
       "  <thead>\n",
       "    <tr style=\"text-align: right;\">\n",
       "      <th></th>\n",
       "      <th>track_id</th>\n",
       "      <th>neighbors</th>\n",
       "    </tr>\n",
       "  </thead>\n",
       "  <tbody>\n",
       "    <tr>\n",
       "      <th>0</th>\n",
       "      <td>343223</td>\n",
       "      <td>[343223, 314991, 254137, 200291, 101812, 12627...</td>\n",
       "    </tr>\n",
       "    <tr>\n",
       "      <th>1</th>\n",
       "      <td>361210</td>\n",
       "      <td>[361210, 101132, 307473, 343223, 281680, 33874...</td>\n",
       "    </tr>\n",
       "    <tr>\n",
       "      <th>2</th>\n",
       "      <td>114472</td>\n",
       "      <td>[114472, 247079, 109255, 216454, 192349, 13474...</td>\n",
       "    </tr>\n",
       "    <tr>\n",
       "      <th>3</th>\n",
       "      <td>134744</td>\n",
       "      <td>[134744, 215467, 258956, 247079, 179511, 30816...</td>\n",
       "    </tr>\n",
       "    <tr>\n",
       "      <th>4</th>\n",
       "      <td>271362</td>\n",
       "      <td>[271362, 315298, 144962, 332689, 180183, 19886...</td>\n",
       "    </tr>\n",
       "    <tr>\n",
       "      <th>...</th>\n",
       "      <td>...</td>\n",
       "      <td>...</td>\n",
       "    </tr>\n",
       "    <tr>\n",
       "      <th>299049</th>\n",
       "      <td>73797</td>\n",
       "      <td>[73797, 208025, 71481, 247358, 361299, 198107,...</td>\n",
       "    </tr>\n",
       "    <tr>\n",
       "      <th>299050</th>\n",
       "      <td>71855</td>\n",
       "      <td>[71855, 189726, 361640, 218133, 277305, 203412...</td>\n",
       "    </tr>\n",
       "    <tr>\n",
       "      <th>299051</th>\n",
       "      <td>74678</td>\n",
       "      <td>[74678, 115338, 146468, 90655, 321988, 102338,...</td>\n",
       "    </tr>\n",
       "    <tr>\n",
       "      <th>299052</th>\n",
       "      <td>72629</td>\n",
       "      <td>[72629, 75917, 227784, 256769, 190442, 196198,...</td>\n",
       "    </tr>\n",
       "    <tr>\n",
       "      <th>299053</th>\n",
       "      <td>75917</td>\n",
       "      <td>[75917, 72629, 331174, 278665, 320124, 276512,...</td>\n",
       "    </tr>\n",
       "  </tbody>\n",
       "</table>\n",
       "<p>299054 rows × 2 columns</p>\n",
       "</div>"
      ],
      "text/plain": [
       "        track_id                                          neighbors\n",
       "0         343223  [343223, 314991, 254137, 200291, 101812, 12627...\n",
       "1         361210  [361210, 101132, 307473, 343223, 281680, 33874...\n",
       "2         114472  [114472, 247079, 109255, 216454, 192349, 13474...\n",
       "3         134744  [134744, 215467, 258956, 247079, 179511, 30816...\n",
       "4         271362  [271362, 315298, 144962, 332689, 180183, 19886...\n",
       "...          ...                                                ...\n",
       "299049     73797  [73797, 208025, 71481, 247358, 361299, 198107,...\n",
       "299050     71855  [71855, 189726, 361640, 218133, 277305, 203412...\n",
       "299051     74678  [74678, 115338, 146468, 90655, 321988, 102338,...\n",
       "299052     72629  [72629, 75917, 227784, 256769, 190442, 196198,...\n",
       "299053     75917  [75917, 72629, 331174, 278665, 320124, 276512,...\n",
       "\n",
       "[299054 rows x 2 columns]"
      ]
     },
     "execution_count": 76,
     "metadata": {},
     "output_type": "execute_result"
    }
   ],
   "source": [
    "nearest_track_idx_pd"
   ]
  },
  {
   "cell_type": "code",
   "execution_count": 78,
   "id": "61e0f81b-c545-494a-ad8e-b90029e5efc6",
   "metadata": {},
   "outputs": [],
   "source": [
    "track_to_versions = {}\n",
    "\n",
    "for clique_id, row in trainer.train_dataloader.dataset.versions.iterrows():\n",
    "    for track in row['versions']:\n",
    "        track_to_versions[track] = row['versions']  # Все треки в версии этой клики"
   ]
  },
  {
   "cell_type": "code",
   "execution_count": 80,
   "id": "b0cd4d6e-0fab-4f89-85ac-8f00cffefc5a",
   "metadata": {},
   "outputs": [],
   "source": [
    "def filter_neighbors(track_id, neighbors):\n",
    "    # Получаем список ремиксов для текущего track_id\n",
    "    versions = track_to_versions.get(track_id, [])\n",
    "    # Удаляем соседей, которые являются версиями\n",
    "    return [neighbor for neighbor in neighbors if neighbor not in versions]"
   ]
  },
  {
   "cell_type": "code",
   "execution_count": 82,
   "id": "a5a20ed3-3779-42cc-8a8b-f546ce4b4ee9",
   "metadata": {},
   "outputs": [],
   "source": [
    "nearest_track_idx_pd['negatives'] = nearest_track_idx_pd.apply(\n",
    "    lambda row: filter_neighbors(row['track_id'], row['neighbors']), axis=1\n",
    ")"
   ]
  },
  {
   "cell_type": "code",
   "execution_count": 87,
   "id": "900cc648-e89d-4743-a96e-667c2cbc56b6",
   "metadata": {},
   "outputs": [
    {
     "data": {
      "text/plain": [
       "22.555227483999545"
      ]
     },
     "execution_count": 87,
     "metadata": {},
     "output_type": "execute_result"
    }
   ],
   "source": [
    "(200 - nearest_track_idx_pd['negatives'].str.len()).mean()"
   ]
  },
  {
   "cell_type": "code",
   "execution_count": 88,
   "id": "dd711854-9d44-4e64-b944-06890a498727",
   "metadata": {},
   "outputs": [
    {
     "data": {
      "text/html": [
       "<div>\n",
       "<style scoped>\n",
       "    .dataframe tbody tr th:only-of-type {\n",
       "        vertical-align: middle;\n",
       "    }\n",
       "\n",
       "    .dataframe tbody tr th {\n",
       "        vertical-align: top;\n",
       "    }\n",
       "\n",
       "    .dataframe thead th {\n",
       "        text-align: right;\n",
       "    }\n",
       "</style>\n",
       "<table border=\"1\" class=\"dataframe\">\n",
       "  <thead>\n",
       "    <tr style=\"text-align: right;\">\n",
       "      <th></th>\n",
       "      <th>track_id</th>\n",
       "      <th>neighbors</th>\n",
       "      <th>negatives</th>\n",
       "    </tr>\n",
       "  </thead>\n",
       "  <tbody>\n",
       "    <tr>\n",
       "      <th>0</th>\n",
       "      <td>343223</td>\n",
       "      <td>[343223, 314991, 254137, 200291, 101812, 12627...</td>\n",
       "      <td>[314991, 254137, 200291, 101812, 126276, 35797...</td>\n",
       "    </tr>\n",
       "    <tr>\n",
       "      <th>1</th>\n",
       "      <td>361210</td>\n",
       "      <td>[361210, 101132, 307473, 343223, 281680, 33874...</td>\n",
       "      <td>[281680, 338741, 204228, 182103, 189128, 23351...</td>\n",
       "    </tr>\n",
       "    <tr>\n",
       "      <th>2</th>\n",
       "      <td>114472</td>\n",
       "      <td>[114472, 247079, 109255, 216454, 192349, 13474...</td>\n",
       "      <td>[109255, 192349, 258956, 236469, 221151, 22684...</td>\n",
       "    </tr>\n",
       "    <tr>\n",
       "      <th>3</th>\n",
       "      <td>134744</td>\n",
       "      <td>[134744, 215467, 258956, 247079, 179511, 30816...</td>\n",
       "      <td>[258956, 179511, 308169, 146032, 136942, 29370...</td>\n",
       "    </tr>\n",
       "    <tr>\n",
       "      <th>4</th>\n",
       "      <td>271362</td>\n",
       "      <td>[271362, 315298, 144962, 332689, 180183, 19886...</td>\n",
       "      <td>[315298, 144962, 332689, 180183, 198867, 29852...</td>\n",
       "    </tr>\n",
       "    <tr>\n",
       "      <th>...</th>\n",
       "      <td>...</td>\n",
       "      <td>...</td>\n",
       "      <td>...</td>\n",
       "    </tr>\n",
       "    <tr>\n",
       "      <th>299049</th>\n",
       "      <td>73797</td>\n",
       "      <td>[73797, 208025, 71481, 247358, 361299, 198107,...</td>\n",
       "      <td>[208025, 247358, 361299, 198107, 294779, 16328...</td>\n",
       "    </tr>\n",
       "    <tr>\n",
       "      <th>299050</th>\n",
       "      <td>71855</td>\n",
       "      <td>[71855, 189726, 361640, 218133, 277305, 203412...</td>\n",
       "      <td>[189726, 361640, 218133, 277305, 203412, 15904...</td>\n",
       "    </tr>\n",
       "    <tr>\n",
       "      <th>299051</th>\n",
       "      <td>74678</td>\n",
       "      <td>[74678, 115338, 146468, 90655, 321988, 102338,...</td>\n",
       "      <td>[115338, 146468, 90655, 321988, 102338, 308750...</td>\n",
       "    </tr>\n",
       "    <tr>\n",
       "      <th>299052</th>\n",
       "      <td>72629</td>\n",
       "      <td>[72629, 75917, 227784, 256769, 190442, 196198,...</td>\n",
       "      <td>[227784, 256769, 190442, 196198, 205959, 15852...</td>\n",
       "    </tr>\n",
       "    <tr>\n",
       "      <th>299053</th>\n",
       "      <td>75917</td>\n",
       "      <td>[75917, 72629, 331174, 278665, 320124, 276512,...</td>\n",
       "      <td>[331174, 278665, 320124, 276512, 144022, 27340...</td>\n",
       "    </tr>\n",
       "  </tbody>\n",
       "</table>\n",
       "<p>299054 rows × 3 columns</p>\n",
       "</div>"
      ],
      "text/plain": [
       "        track_id                                          neighbors  \\\n",
       "0         343223  [343223, 314991, 254137, 200291, 101812, 12627...   \n",
       "1         361210  [361210, 101132, 307473, 343223, 281680, 33874...   \n",
       "2         114472  [114472, 247079, 109255, 216454, 192349, 13474...   \n",
       "3         134744  [134744, 215467, 258956, 247079, 179511, 30816...   \n",
       "4         271362  [271362, 315298, 144962, 332689, 180183, 19886...   \n",
       "...          ...                                                ...   \n",
       "299049     73797  [73797, 208025, 71481, 247358, 361299, 198107,...   \n",
       "299050     71855  [71855, 189726, 361640, 218133, 277305, 203412...   \n",
       "299051     74678  [74678, 115338, 146468, 90655, 321988, 102338,...   \n",
       "299052     72629  [72629, 75917, 227784, 256769, 190442, 196198,...   \n",
       "299053     75917  [75917, 72629, 331174, 278665, 320124, 276512,...   \n",
       "\n",
       "                                                negatives  \n",
       "0       [314991, 254137, 200291, 101812, 126276, 35797...  \n",
       "1       [281680, 338741, 204228, 182103, 189128, 23351...  \n",
       "2       [109255, 192349, 258956, 236469, 221151, 22684...  \n",
       "3       [258956, 179511, 308169, 146032, 136942, 29370...  \n",
       "4       [315298, 144962, 332689, 180183, 198867, 29852...  \n",
       "...                                                   ...  \n",
       "299049  [208025, 247358, 361299, 198107, 294779, 16328...  \n",
       "299050  [189726, 361640, 218133, 277305, 203412, 15904...  \n",
       "299051  [115338, 146468, 90655, 321988, 102338, 308750...  \n",
       "299052  [227784, 256769, 190442, 196198, 205959, 15852...  \n",
       "299053  [331174, 278665, 320124, 276512, 144022, 27340...  \n",
       "\n",
       "[299054 rows x 3 columns]"
      ]
     },
     "execution_count": 88,
     "metadata": {},
     "output_type": "execute_result"
    }
   ],
   "source": [
    "nearest_track_idx_pd"
   ]
  },
  {
   "cell_type": "code",
   "execution_count": 89,
   "id": "d083885b-b999-480c-b23d-7499c62c4954",
   "metadata": {},
   "outputs": [],
   "source": [
    "def find_positives(row):\n",
    "    neighbors_set = set(row['neighbors'])  # Преобразуем в множество для более быстрого поиска\n",
    "    negatives_set = set(row['negatives'])\n",
    "    \n",
    "    # Оставляем только те элементы из neighbors, которые не входят в negatives\n",
    "    positives = list(neighbors_set - negatives_set)\n",
    "    return positives"
   ]
  },
  {
   "cell_type": "code",
   "execution_count": 90,
   "id": "60eaf3b1-8215-4480-af3e-2b873319379a",
   "metadata": {},
   "outputs": [],
   "source": [
    "nearest_track_idx_pd['positives'] = nearest_track_idx_pd.apply(find_positives, axis=1)"
   ]
  },
  {
   "cell_type": "code",
   "execution_count": 91,
   "id": "b530f875-c338-4c5a-a74b-2567b62a7e8e",
   "metadata": {},
   "outputs": [
    {
     "data": {
      "text/html": [
       "<div>\n",
       "<style scoped>\n",
       "    .dataframe tbody tr th:only-of-type {\n",
       "        vertical-align: middle;\n",
       "    }\n",
       "\n",
       "    .dataframe tbody tr th {\n",
       "        vertical-align: top;\n",
       "    }\n",
       "\n",
       "    .dataframe thead th {\n",
       "        text-align: right;\n",
       "    }\n",
       "</style>\n",
       "<table border=\"1\" class=\"dataframe\">\n",
       "  <thead>\n",
       "    <tr style=\"text-align: right;\">\n",
       "      <th></th>\n",
       "      <th>track_id</th>\n",
       "      <th>neighbors</th>\n",
       "      <th>negatives</th>\n",
       "      <th>positives</th>\n",
       "    </tr>\n",
       "  </thead>\n",
       "  <tbody>\n",
       "    <tr>\n",
       "      <th>0</th>\n",
       "      <td>343223</td>\n",
       "      <td>[343223, 314991, 254137, 200291, 101812, 12627...</td>\n",
       "      <td>[314991, 254137, 200291, 101812, 126276, 35797...</td>\n",
       "      <td>[307473, 361210, 101132, 343223]</td>\n",
       "    </tr>\n",
       "    <tr>\n",
       "      <th>1</th>\n",
       "      <td>361210</td>\n",
       "      <td>[361210, 101132, 307473, 343223, 281680, 33874...</td>\n",
       "      <td>[281680, 338741, 204228, 182103, 189128, 23351...</td>\n",
       "      <td>[59234, 101132, 307473, 343223, 361210]</td>\n",
       "    </tr>\n",
       "    <tr>\n",
       "      <th>2</th>\n",
       "      <td>114472</td>\n",
       "      <td>[114472, 247079, 109255, 216454, 192349, 13474...</td>\n",
       "      <td>[109255, 192349, 258956, 236469, 221151, 22684...</td>\n",
       "      <td>[59234, 216454, 247079, 114472, 215467, 307473...</td>\n",
       "    </tr>\n",
       "    <tr>\n",
       "      <th>3</th>\n",
       "      <td>134744</td>\n",
       "      <td>[134744, 215467, 258956, 247079, 179511, 30816...</td>\n",
       "      <td>[258956, 179511, 308169, 146032, 136942, 29370...</td>\n",
       "      <td>[59234, 216454, 247079, 114472, 215467, 101132...</td>\n",
       "    </tr>\n",
       "    <tr>\n",
       "      <th>4</th>\n",
       "      <td>271362</td>\n",
       "      <td>[271362, 315298, 144962, 332689, 180183, 19886...</td>\n",
       "      <td>[315298, 144962, 332689, 180183, 198867, 29852...</td>\n",
       "      <td>[271362]</td>\n",
       "    </tr>\n",
       "    <tr>\n",
       "      <th>...</th>\n",
       "      <td>...</td>\n",
       "      <td>...</td>\n",
       "      <td>...</td>\n",
       "      <td>...</td>\n",
       "    </tr>\n",
       "    <tr>\n",
       "      <th>299049</th>\n",
       "      <td>73797</td>\n",
       "      <td>[73797, 208025, 71481, 247358, 361299, 198107,...</td>\n",
       "      <td>[208025, 247358, 361299, 198107, 294779, 16328...</td>\n",
       "      <td>[71481, 73797]</td>\n",
       "    </tr>\n",
       "    <tr>\n",
       "      <th>299050</th>\n",
       "      <td>71855</td>\n",
       "      <td>[71855, 189726, 361640, 218133, 277305, 203412...</td>\n",
       "      <td>[189726, 361640, 218133, 277305, 203412, 15904...</td>\n",
       "      <td>[74678, 71855]</td>\n",
       "    </tr>\n",
       "    <tr>\n",
       "      <th>299051</th>\n",
       "      <td>74678</td>\n",
       "      <td>[74678, 115338, 146468, 90655, 321988, 102338,...</td>\n",
       "      <td>[115338, 146468, 90655, 321988, 102338, 308750...</td>\n",
       "      <td>[74678, 71855]</td>\n",
       "    </tr>\n",
       "    <tr>\n",
       "      <th>299052</th>\n",
       "      <td>72629</td>\n",
       "      <td>[72629, 75917, 227784, 256769, 190442, 196198,...</td>\n",
       "      <td>[227784, 256769, 190442, 196198, 205959, 15852...</td>\n",
       "      <td>[75917, 72629]</td>\n",
       "    </tr>\n",
       "    <tr>\n",
       "      <th>299053</th>\n",
       "      <td>75917</td>\n",
       "      <td>[75917, 72629, 331174, 278665, 320124, 276512,...</td>\n",
       "      <td>[331174, 278665, 320124, 276512, 144022, 27340...</td>\n",
       "      <td>[75917, 72629]</td>\n",
       "    </tr>\n",
       "  </tbody>\n",
       "</table>\n",
       "<p>299054 rows × 4 columns</p>\n",
       "</div>"
      ],
      "text/plain": [
       "        track_id                                          neighbors  \\\n",
       "0         343223  [343223, 314991, 254137, 200291, 101812, 12627...   \n",
       "1         361210  [361210, 101132, 307473, 343223, 281680, 33874...   \n",
       "2         114472  [114472, 247079, 109255, 216454, 192349, 13474...   \n",
       "3         134744  [134744, 215467, 258956, 247079, 179511, 30816...   \n",
       "4         271362  [271362, 315298, 144962, 332689, 180183, 19886...   \n",
       "...          ...                                                ...   \n",
       "299049     73797  [73797, 208025, 71481, 247358, 361299, 198107,...   \n",
       "299050     71855  [71855, 189726, 361640, 218133, 277305, 203412...   \n",
       "299051     74678  [74678, 115338, 146468, 90655, 321988, 102338,...   \n",
       "299052     72629  [72629, 75917, 227784, 256769, 190442, 196198,...   \n",
       "299053     75917  [75917, 72629, 331174, 278665, 320124, 276512,...   \n",
       "\n",
       "                                                negatives  \\\n",
       "0       [314991, 254137, 200291, 101812, 126276, 35797...   \n",
       "1       [281680, 338741, 204228, 182103, 189128, 23351...   \n",
       "2       [109255, 192349, 258956, 236469, 221151, 22684...   \n",
       "3       [258956, 179511, 308169, 146032, 136942, 29370...   \n",
       "4       [315298, 144962, 332689, 180183, 198867, 29852...   \n",
       "...                                                   ...   \n",
       "299049  [208025, 247358, 361299, 198107, 294779, 16328...   \n",
       "299050  [189726, 361640, 218133, 277305, 203412, 15904...   \n",
       "299051  [115338, 146468, 90655, 321988, 102338, 308750...   \n",
       "299052  [227784, 256769, 190442, 196198, 205959, 15852...   \n",
       "299053  [331174, 278665, 320124, 276512, 144022, 27340...   \n",
       "\n",
       "                                                positives  \n",
       "0                        [307473, 361210, 101132, 343223]  \n",
       "1                 [59234, 101132, 307473, 343223, 361210]  \n",
       "2       [59234, 216454, 247079, 114472, 215467, 307473...  \n",
       "3       [59234, 216454, 247079, 114472, 215467, 101132...  \n",
       "4                                                [271362]  \n",
       "...                                                   ...  \n",
       "299049                                     [71481, 73797]  \n",
       "299050                                     [74678, 71855]  \n",
       "299051                                     [74678, 71855]  \n",
       "299052                                     [75917, 72629]  \n",
       "299053                                     [75917, 72629]  \n",
       "\n",
       "[299054 rows x 4 columns]"
      ]
     },
     "execution_count": 91,
     "metadata": {},
     "output_type": "execute_result"
    }
   ],
   "source": [
    "nearest_track_idx_pd"
   ]
  },
  {
   "cell_type": "code",
   "execution_count": 92,
   "id": "ef14e97f-ba6b-4f0e-b048-93eacb00b39d",
   "metadata": {},
   "outputs": [],
   "source": [
    "nearest_track_idx_pd.to_parquet('/home/evgenshuben/Desktop/gitReps/YandexCup/outputs_val/reranker/train_dataset_pd.pq')"
   ]
  },
  {
   "cell_type": "markdown",
   "id": "81565413-3240-42d0-9d92-3fccabf36181",
   "metadata": {},
   "source": [
    "### reranker_train dataset \n",
    "\n",
    "Теперь сделаем датасет плоским"
   ]
  },
  {
   "cell_type": "code",
   "execution_count": null,
   "id": "e8222b72-08a5-424d-ae06-33e8fe84fbbf",
   "metadata": {},
   "outputs": [],
   "source": [
    "nearest_track_idx_pd"
   ]
  },
  {
   "cell_type": "code",
   "execution_count": null,
   "id": "889858d8-7001-4c7a-b788-a4ff1e523f12",
   "metadata": {},
   "outputs": [],
   "source": []
  },
  {
   "cell_type": "code",
   "execution_count": null,
   "id": "210bc956-d450-40b4-89a5-0618c2463375",
   "metadata": {},
   "outputs": [],
   "source": []
  },
  {
   "cell_type": "code",
   "execution_count": null,
   "id": "841aaa3c-c910-46b7-8b08-96f1dfdb72c8",
   "metadata": {},
   "outputs": [],
   "source": []
  },
  {
   "cell_type": "code",
   "execution_count": null,
   "id": "2b956878-00d3-4c17-aea0-860f66874839",
   "metadata": {},
   "outputs": [],
   "source": []
  }
 ],
 "metadata": {
  "kernelspec": {
   "display_name": "Python 3.10",
   "language": "python",
   "name": "dl24"
  },
  "language_info": {
   "codemirror_mode": {
    "name": "ipython",
    "version": 3
   },
   "file_extension": ".py",
   "mimetype": "text/x-python",
   "name": "python",
   "nbconvert_exporter": "python",
   "pygments_lexer": "ipython3",
   "version": "3.10.15"
  }
 },
 "nbformat": 4,
 "nbformat_minor": 5
}
