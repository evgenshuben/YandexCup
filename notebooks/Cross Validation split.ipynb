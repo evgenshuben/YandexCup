{
 "cells": [
  {
   "cell_type": "code",
   "execution_count": 1,
   "id": "0f2d7508-7f73-43b6-b9d2-06e75b867414",
   "metadata": {},
   "outputs": [],
   "source": [
    "import sys\n",
    "import os\n",
    "import pandas as pd\n",
    "import numpy as np"
   ]
  },
  {
   "cell_type": "markdown",
   "id": "e4299386-907b-4925-9bec-7d6b1558cacd",
   "metadata": {},
   "source": [
    "# Infoaaaa\n",
    "\n",
    "Тут буду пытаться сделать кросс валидацию на 3 фолда "
   ]
  },
  {
   "cell_type": "code",
   "execution_count": null,
   "id": "fd70f4a2-5a56-4b56-a882-f73bcc66690f",
   "metadata": {},
   "outputs": [],
   "source": [
    "data_path = '/Users/evgenshuben/Deskatop/gitReps/baseline/dataset'"
   ]
  },
  {
   "cell_type": "code",
   "execution_count": 18,
   "id": "ed7daa58-5dbf-4f29-8a33-2b3f82658dab",
   "metadata": {},
   "outputs": [],
   "source": [
    "cliques2versions_path = os.path.join(data_path, 'cliques2versions.tsv')\n",
    "\n",
    "\n",
    "train_cliques = np.load('/Users/evgenshuben/Desktop/gitReps/baseline/dataset/splits/train_cliques.npy')\n",
    "val_cliques = np.load('/Users/evgenshuben/Desktop/gitReps/baseline/dataset/splits/val_cliques.npy')\n",
    "\n",
    "test_ids = np.load('/Users/evgenshuben/Desktop/gitReps/baseline/dataset/splits/test_ids.npy')"
   ]
  },
  {
   "cell_type": "code",
   "execution_count": 33,
   "id": "1f47e26b-a311-4983-8815-06494b014b76",
   "metadata": {},
   "outputs": [
    {
     "data": {
      "text/plain": [
       "array([    1,     2,     4, ..., 41614, 41615, 41616])"
      ]
     },
     "execution_count": 33,
     "metadata": {},
     "output_type": "execute_result"
    }
   ],
   "source": [
    "train_cliques"
   ]
  },
  {
   "cell_type": "code",
   "execution_count": 34,
   "id": "20251ce6-4801-45cd-a071-bdb1a13d4f4a",
   "metadata": {},
   "outputs": [
    {
     "data": {
      "text/plain": [
       "array([40963,     3, 24583, ...,  8183, 32763, 16383])"
      ]
     },
     "execution_count": 34,
     "metadata": {},
     "output_type": "execute_result"
    }
   ],
   "source": [
    "val_cliques"
   ]
  },
  {
   "cell_type": "code",
   "execution_count": 35,
   "id": "7aa0a1f4-bf9f-4c72-a9bf-db6e5dcf2f10",
   "metadata": {},
   "outputs": [
    {
     "data": {
      "text/plain": [
       "(55170,)"
      ]
     },
     "execution_count": 35,
     "metadata": {},
     "output_type": "execute_result"
    }
   ],
   "source": [
    "test_ids.shape"
   ]
  },
  {
   "cell_type": "code",
   "execution_count": 25,
   "id": "2259057f-f1ba-48f5-a548-df6333862028",
   "metadata": {},
   "outputs": [
    {
     "data": {
      "text/plain": [
       "(41616, 2)"
      ]
     },
     "execution_count": 25,
     "metadata": {},
     "output_type": "execute_result"
    }
   ],
   "source": [
    "cliques2versions = pd.read_csv(cliques2versions_path, sep='\\t', converters={\"versions\": eval})\n",
    "cliques2versions.shape"
   ]
  },
  {
   "cell_type": "markdown",
   "id": "ad8ad71e-f140-40c7-84b2-3cd25e7b5e2f",
   "metadata": {},
   "source": [
    "Всего в обучающей выборке 314_939 треков\n",
    "\n",
    "В трейне 299054\n",
    "\n",
    "В валидации 15_885 треков\n",
    "\n",
    "\n",
    "Тест (паблик + приват) около 55170\n",
    "\n",
    "Разумно примерно побить фолды так, чтобы тест с приватом были равны между собой (но это слишком много фолдов, около 10 короче)\n"
   ]
  },
  {
   "cell_type": "code",
   "execution_count": 37,
   "id": "d2df6751-b00a-4f92-a426-5004830f4538",
   "metadata": {},
   "outputs": [
    {
     "data": {
      "text/plain": [
       "5.7085191227116185"
      ]
     },
     "execution_count": 37,
     "metadata": {},
     "output_type": "execute_result"
    }
   ],
   "source": [
    "314_939 / 55170"
   ]
  },
  {
   "cell_type": "code",
   "execution_count": null,
   "id": "6c99b952-fea0-4250-af2c-9c4d4210cabd",
   "metadata": {},
   "outputs": [],
   "source": []
  },
  {
   "cell_type": "code",
   "execution_count": null,
   "id": "b51c70e9-472f-465e-8194-ff914d3c5436",
   "metadata": {},
   "outputs": [],
   "source": []
  },
  {
   "cell_type": "code",
   "execution_count": 29,
   "id": "2b93587a-08a8-4105-940c-a7367456cdee",
   "metadata": {},
   "outputs": [
    {
     "data": {
      "text/plain": [
       "314939"
      ]
     },
     "execution_count": 29,
     "metadata": {},
     "output_type": "execute_result"
    }
   ],
   "source": [
    "cliques2versions['versions'].str.len().sum()"
   ]
  },
  {
   "cell_type": "code",
   "execution_count": 30,
   "id": "72e1191e-371a-4113-9689-649879fa0392",
   "metadata": {},
   "outputs": [
    {
     "data": {
      "text/plain": [
       "299054"
      ]
     },
     "execution_count": 30,
     "metadata": {},
     "output_type": "execute_result"
    }
   ],
   "source": [
    "cliques2versions[cliques2versions['clique'].isin(train_cliques)]['versions'].str.len().sum()"
   ]
  },
  {
   "cell_type": "code",
   "execution_count": 31,
   "id": "e3ed010b-d855-4ead-b77c-c0b57cdeb242",
   "metadata": {},
   "outputs": [
    {
     "data": {
      "text/plain": [
       "15885"
      ]
     },
     "execution_count": 31,
     "metadata": {},
     "output_type": "execute_result"
    }
   ],
   "source": [
    "314939 - 299054"
   ]
  },
  {
   "cell_type": "code",
   "execution_count": 17,
   "id": "51245df5-2271-45fb-9c7e-78ebe504620a",
   "metadata": {},
   "outputs": [
    {
     "data": {
      "text/plain": [
       "(39535,)"
      ]
     },
     "execution_count": 17,
     "metadata": {},
     "output_type": "execute_result"
    }
   ],
   "source": [
    "train_cliques.shape"
   ]
  },
  {
   "cell_type": "code",
   "execution_count": 16,
   "id": "84a113e5-1f27-4992-bafb-1f819c526a79",
   "metadata": {},
   "outputs": [
    {
     "data": {
      "text/plain": [
       "(2081,)"
      ]
     },
     "execution_count": 16,
     "metadata": {},
     "output_type": "execute_result"
    }
   ],
   "source": [
    "val_cliques.shape"
   ]
  },
  {
   "cell_type": "code",
   "execution_count": 15,
   "id": "94b2f3df-8c4d-4564-9a61-a8dcf3f88357",
   "metadata": {},
   "outputs": [
    {
     "data": {
      "text/plain": [
       "(55170,)"
      ]
     },
     "execution_count": 15,
     "metadata": {},
     "output_type": "execute_result"
    }
   ],
   "source": [
    "test_ids.shape"
   ]
  },
  {
   "cell_type": "code",
   "execution_count": null,
   "id": "b1360648-c3af-4daa-81ab-7a026a3f851b",
   "metadata": {},
   "outputs": [],
   "source": []
  },
  {
   "cell_type": "code",
   "execution_count": null,
   "id": "58fd9898-4585-4348-b716-7ab85f357627",
   "metadata": {},
   "outputs": [],
   "source": [
    "bbb"
   ]
  },
  {
   "cell_type": "code",
   "execution_count": 10,
   "id": "3d75206c-ed07-423d-84c5-ddd73b19a1ab",
   "metadata": {},
   "outputs": [
    {
     "name": "stdout",
     "output_type": "stream",
     "text": [
      "test_ids.npy      train_cliques.npy val_cliques.npy\n"
     ]
    }
   ],
   "source": [
    "!ls /Users/evgenshuben/Desktop/gitReps/baseline/dataset/splits"
   ]
  },
  {
   "cell_type": "code",
   "execution_count": null,
   "id": "087d7b07-0ca2-4682-a9ef-e90e0bf7bc95",
   "metadata": {},
   "outputs": [],
   "source": []
  },
  {
   "cell_type": "code",
   "execution_count": null,
   "id": "00d6bdd1-1378-49e2-9a2f-0c19aa57c3eb",
   "metadata": {},
   "outputs": [],
   "source": []
  },
  {
   "cell_type": "code",
   "execution_count": null,
   "id": "2ee268ae-1200-4fd8-84a0-5658dcf39bee",
   "metadata": {},
   "outputs": [],
   "source": []
  },
  {
   "cell_type": "code",
   "execution_count": null,
   "id": "fd4da4d9-b8b9-46ed-a5f5-e29966c75dfc",
   "metadata": {},
   "outputs": [],
   "source": []
  }
 ],
 "metadata": {
  "kernelspec": {
   "display_name": "Python 3 (ipykernel)",
   "language": "python",
   "name": "python3"
  },
  "language_info": {
   "codemirror_mode": {
    "name": "ipython",
    "version": 3
   },
   "file_extension": ".py",
   "mimetype": "text/x-python",
   "name": "python",
   "nbconvert_exporter": "python",
   "pygments_lexer": "ipython3",
   "version": "3.12.2"
  }
 },
 "nbformat": 4,
 "nbformat_minor": 5
}
