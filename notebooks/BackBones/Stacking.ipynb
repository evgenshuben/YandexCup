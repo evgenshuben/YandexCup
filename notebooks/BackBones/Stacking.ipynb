{
 "cells": [
  {
   "cell_type": "code",
   "execution_count": 25,
   "id": "923102dc-4bcc-46fe-ba77-afdc8dcc9db1",
   "metadata": {},
   "outputs": [],
   "source": [
    "import sys\n",
    "import os\n",
    "\n",
    "PROJECT_DIR = '/home/evgenshuben/Desktop/gitReps/YandexCup/'\n",
    "sys.path.append(PROJECT_DIR)\n",
    "os.chdir(PROJECT_DIR)"
   ]
  },
  {
   "cell_type": "code",
   "execution_count": 157,
   "id": "e532318b-6d8a-486b-85fc-e424baf84ee1",
   "metadata": {},
   "outputs": [],
   "source": [
    "from omegaconf import DictConfig, OmegaConf\n",
    "import hydra\n",
    "from hydra import initialize, compose, initialize_config_dir\n",
    "from hydra.utils import instantiate\n",
    "\n",
    "import torch.nn as nn\n",
    "import torch\n",
    "import torch.nn.functional as F\n",
    "import pandas as pd\n",
    "import numpy as np\n",
    "from tqdm import tqdm\n",
    "from functools import reduce"
   ]
  },
  {
   "cell_type": "code",
   "execution_count": 192,
   "id": "45d4a5fa-2a45-401e-8b47-b533e75f8ee4",
   "metadata": {},
   "outputs": [
    {
     "name": "stdout",
     "output_type": "stream",
     "text": [
      "The autoreload extension is already loaded. To reload it, use:\n",
      "  %reload_ext autoreload\n"
     ]
    }
   ],
   "source": [
    "%load_ext autoreload\n",
    "%autoreload 2\n",
    "\n",
    "from scr.train import Trainer\n",
    "from scr.utils import (reduce_func, save_test_predictions)"
   ]
  },
  {
   "cell_type": "markdown",
   "id": "d650ad39-54fe-4883-8f8b-e72af181f7dc",
   "metadata": {},
   "source": [
    "# info\n",
    "\n",
    "Тут попробуем сделать стекинг нескольких моделей предобученных\n",
    "\n",
    "Пробую взять вектора от моделей на тесте и усреднить их просто\n",
    "\n",
    "Написал функцию для сохранения тестовых эмбеддингов"
   ]
  },
  {
   "cell_type": "markdown",
   "id": "abdfd53a-a97e-4528-9942-3562ab9b7bad",
   "metadata": {},
   "source": [
    "# Load config"
   ]
  },
  {
   "cell_type": "code",
   "execution_count": null,
   "id": "a1c7503e-f628-479d-8046-ba2c40cf5829",
   "metadata": {},
   "outputs": [],
   "source": [
    "# config_dir = '/home/evgenshuben/Desktop/gitReps/YandexCup/configs'\n",
    "# config_name = 'config'\n",
    "\n",
    "\n",
    "# with initialize_config_dir(config_dir=config_dir, version_base=None):\n",
    "#     cfg = compose(config_name=config_name)\n",
    "#     # cfg['dataset']['train']['train']['dataset_path']"
   ]
  },
  {
   "cell_type": "code",
   "execution_count": 4,
   "id": "b58753b4-d6bd-4a2a-ade6-7912830e1fda",
   "metadata": {},
   "outputs": [
    {
     "data": {
      "text/plain": [
       "{'_target_': 'scr.models.cnn.CNN1d', 'emb_size': 512, 'num_classes': '${num_classes}', 'input_norm': True}"
      ]
     },
     "execution_count": 4,
     "metadata": {},
     "output_type": "execute_result"
    }
   ],
   "source": [
    "# Путь к конфигурационному файлу, сохраненному Hydra\n",
    "config_path = \"/home/evgenshuben/Desktop/gitReps/YandexCup/outputs_val/run-2/hydra/.hydra/config.yaml\"\n",
    "\n",
    "\n",
    "\n",
    "cfg = OmegaConf.load(config_path)\n",
    "cfg.enviroment.device = 'cpu'\n",
    "cfg.model"
   ]
  },
  {
   "cell_type": "code",
   "execution_count": 5,
   "id": "cc95eb82-c1ac-4c80-919f-17db6fcb8fe9",
   "metadata": {},
   "outputs": [],
   "source": [
    "trainer = Trainer(cfg)"
   ]
  },
  {
   "cell_type": "markdown",
   "id": "712d044b-315d-4238-bb0e-dfd08d18ecee",
   "metadata": {},
   "source": [
    "### embeddings calculate\n",
    "\n",
    "Насчитаем эмбеддинги на каждой сильной модели"
   ]
  },
  {
   "cell_type": "markdown",
   "id": "31bd3ea5-cf87-4efc-854a-4949afa95af5",
   "metadata": {},
   "source": [
    "###### 6"
   ]
  },
  {
   "cell_type": "code",
   "execution_count": 28,
   "id": "b73a4ea9-20fb-4220-8270-25a2431f26ef",
   "metadata": {},
   "outputs": [
    {
     "data": {
      "text/plain": [
       "{'_target_': 'scr.models.backbone.BackBone', 'backbone_name': 'hgnetv2_b4.ssld_stage2_ft_in1k', 'emb_size': 512, 'num_classes': '${num_classes}'}"
      ]
     },
     "execution_count": 28,
     "metadata": {},
     "output_type": "execute_result"
    }
   ],
   "source": [
    "# Путь к конфигурационному файлу, сохраненному Hydra\n",
    "config_path = \"/home/evgenshuben/Desktop/gitReps/YandexCup/outputs_val/run-6/hydra/.hydra/config.yaml\"\n",
    "cfg = OmegaConf.load(config_path)\n",
    "# cfg.enviroment.device = 'cpu'\n",
    "cfg.model"
   ]
  },
  {
   "cell_type": "code",
   "execution_count": 29,
   "id": "6275c582-1a0f-4851-83b6-380d178601a9",
   "metadata": {},
   "outputs": [
    {
     "name": "stderr",
     "output_type": "stream",
     "text": [
      "/home/evgenshuben/Desktop/gitReps/YandexCup/scr/train.py:51: FutureWarning: You are using `torch.load` with `weights_only=False` (the current default value), which uses the default pickle module implicitly. It is possible to construct malicious pickle data which will execute arbitrary code during unpickling (See https://github.com/pytorch/pytorch/blob/main/SECURITY.md#untrusted-models for more details). In a future release, the default value for `weights_only` will be flipped to `True`. This limits the functions that could be executed during unpickling. Arbitrary objects will no longer be allowed to be loaded via this mode unless they are explicitly allowlisted by the user via `torch.serialization.add_safe_globals`. We recommend you start setting `weights_only=True` for any use case where you don't have full control of the loaded file. Please open an issue on GitHub for any issues related to this experimental feature.\n",
      "  self.model.load_state_dict(torch.load(self.cfg.pipeline.model_ckpt), strict=False)\n"
     ]
    }
   ],
   "source": [
    "trainer = Trainer(cfg)"
   ]
  },
  {
   "cell_type": "code",
   "execution_count": 30,
   "id": "1e195a1b-b2b7-44d0-8eb3-bb032b1acb77",
   "metadata": {},
   "outputs": [
    {
     "name": "stderr",
     "output_type": "stream",
     "text": [
      "100%|██████████| 55170/55170 [05:04<00:00, 180.94it/s]\n"
     ]
    },
    {
     "name": "stdout",
     "output_type": "stream",
     "text": [
      "CPU times: user 5min 4s, sys: 24.1 s, total: 5min 28s\n",
      "Wall time: 5min 5s\n"
     ]
    }
   ],
   "source": [
    "%%time\n",
    "trainer.test_embeddings()"
   ]
  },
  {
   "cell_type": "markdown",
   "id": "3ab4d259-5275-45a0-978e-5ab7b6eeeb91",
   "metadata": {},
   "source": [
    "###### 4"
   ]
  },
  {
   "cell_type": "code",
   "execution_count": 31,
   "id": "4babc0a6-982f-4179-bdc1-19cb7817064e",
   "metadata": {},
   "outputs": [
    {
     "data": {
      "text/plain": [
       "{'_target_': 'scr.models.backbone.BackBone', 'backbone_name': 'tf_efficientnet_b4.ns_jft_in1k', 'emb_size': 512, 'num_classes': '${num_classes}'}"
      ]
     },
     "execution_count": 31,
     "metadata": {},
     "output_type": "execute_result"
    }
   ],
   "source": [
    "# Путь к конфигурационному файлу, сохраненному Hydra\n",
    "config_path = \"/home/evgenshuben/Desktop/gitReps/YandexCup/outputs_val/run-4/hydra/.hydra/config.yaml\"\n",
    "cfg = OmegaConf.load(config_path)\n",
    "# cfg.enviroment.device = 'cpu'\n",
    "cfg.model"
   ]
  },
  {
   "cell_type": "code",
   "execution_count": 32,
   "id": "65c6af22-a9b2-42eb-b1a9-ace78a04fafc",
   "metadata": {},
   "outputs": [
    {
     "name": "stderr",
     "output_type": "stream",
     "text": [
      "/home/evgenshuben/Desktop/gitReps/YandexCup/scr/train.py:51: FutureWarning: You are using `torch.load` with `weights_only=False` (the current default value), which uses the default pickle module implicitly. It is possible to construct malicious pickle data which will execute arbitrary code during unpickling (See https://github.com/pytorch/pytorch/blob/main/SECURITY.md#untrusted-models for more details). In a future release, the default value for `weights_only` will be flipped to `True`. This limits the functions that could be executed during unpickling. Arbitrary objects will no longer be allowed to be loaded via this mode unless they are explicitly allowlisted by the user via `torch.serialization.add_safe_globals`. We recommend you start setting `weights_only=True` for any use case where you don't have full control of the loaded file. Please open an issue on GitHub for any issues related to this experimental feature.\n",
      "  self.model.load_state_dict(torch.load(self.cfg.pipeline.model_ckpt), strict=False)\n"
     ]
    }
   ],
   "source": [
    "trainer = Trainer(cfg)"
   ]
  },
  {
   "cell_type": "code",
   "execution_count": 33,
   "id": "d375be07-2f80-48ce-aea8-7b83b26e4e55",
   "metadata": {},
   "outputs": [
    {
     "name": "stderr",
     "output_type": "stream",
     "text": [
      "100%|██████████| 55170/55170 [09:02<00:00, 101.67it/s]\n"
     ]
    },
    {
     "name": "stdout",
     "output_type": "stream",
     "text": [
      "CPU times: user 9min 3s, sys: 26.7 s, total: 9min 30s\n",
      "Wall time: 9min 3s\n"
     ]
    }
   ],
   "source": [
    "%%time\n",
    "trainer.test_embeddings()"
   ]
  },
  {
   "cell_type": "markdown",
   "id": "72144745-0dee-4eec-a14c-b3556865316e",
   "metadata": {},
   "source": [
    "###### 14"
   ]
  },
  {
   "cell_type": "code",
   "execution_count": 148,
   "id": "f9673dee-1676-4d71-9b21-cbd0fcff039a",
   "metadata": {},
   "outputs": [
    {
     "data": {
      "text/plain": [
       "{'_target_': 'scr.models.backbone.BackBone', 'backbone_name': 'regnety_040.ra3_in1k', 'emb_size': 512, 'num_classes': '${num_classes}'}"
      ]
     },
     "execution_count": 148,
     "metadata": {},
     "output_type": "execute_result"
    }
   ],
   "source": [
    "# Путь к конфигурационному файлу, сохраненному Hydra\n",
    "config_path = \"/home/evgenshuben/Desktop/gitReps/YandexCup/outputs_val/run-14/hydra/.hydra/config.yaml\"\n",
    "cfg = OmegaConf.load(config_path)\n",
    "# cfg.enviroment.device = 'cpu'\n",
    "cfg.model"
   ]
  },
  {
   "cell_type": "code",
   "execution_count": 149,
   "id": "4671cae9-1a37-4601-b468-c36dac1c4827",
   "metadata": {},
   "outputs": [
    {
     "name": "stderr",
     "output_type": "stream",
     "text": [
      "/home/evgenshuben/Desktop/gitReps/YandexCup/scr/train.py:51: FutureWarning: You are using `torch.load` with `weights_only=False` (the current default value), which uses the default pickle module implicitly. It is possible to construct malicious pickle data which will execute arbitrary code during unpickling (See https://github.com/pytorch/pytorch/blob/main/SECURITY.md#untrusted-models for more details). In a future release, the default value for `weights_only` will be flipped to `True`. This limits the functions that could be executed during unpickling. Arbitrary objects will no longer be allowed to be loaded via this mode unless they are explicitly allowlisted by the user via `torch.serialization.add_safe_globals`. We recommend you start setting `weights_only=True` for any use case where you don't have full control of the loaded file. Please open an issue on GitHub for any issues related to this experimental feature.\n",
      "  self.model.load_state_dict(torch.load(self.cfg.pipeline.model_ckpt), strict=False)\n"
     ]
    }
   ],
   "source": [
    "trainer = Trainer(cfg)"
   ]
  },
  {
   "cell_type": "code",
   "execution_count": 150,
   "id": "3a07f42f-4a25-4115-a1d2-31b244a3ec9f",
   "metadata": {},
   "outputs": [
    {
     "name": "stderr",
     "output_type": "stream",
     "text": [
      "100%|██████████| 55170/55170 [07:08<00:00, 128.82it/s]\n"
     ]
    },
    {
     "name": "stdout",
     "output_type": "stream",
     "text": [
      "CPU times: user 7min 8s, sys: 26.4 s, total: 7min 34s\n",
      "Wall time: 7min 8s\n"
     ]
    }
   ],
   "source": [
    "%%time\n",
    "trainer.test_embeddings()"
   ]
  },
  {
   "cell_type": "markdown",
   "id": "ff276650-c20c-44b4-a0f9-a8d01358248f",
   "metadata": {},
   "source": [
    "### Embeddings pooling\n",
    "\n",
    "Тут попробую усреднить эмбеды от предобученных моделей\n",
    "с нормировкой эмбедов"
   ]
  },
  {
   "cell_type": "code",
   "execution_count": 151,
   "id": "62bc6057-d422-469a-9faf-7fb2136032e0",
   "metadata": {},
   "outputs": [],
   "source": [
    "emb_6_pd = pd.read_parquet('/home/evgenshuben/Desktop/gitReps/YandexCup/outputs_val/run-6/data/test_embeddings.pq')\n",
    "emb_4_pd = pd.read_parquet('/home/evgenshuben/Desktop/gitReps/YandexCup/outputs_val/run-4/data/test_embeddings.pq')\n",
    "emb_14_pd = pd.read_parquet('/home/evgenshuben/Desktop/gitReps/YandexCup/outputs_val/run-14/data/test_embeddings.pq')"
   ]
  },
  {
   "cell_type": "code",
   "execution_count": 152,
   "id": "318cfdb8-168d-467f-9cbe-2c0b62a4bbdc",
   "metadata": {},
   "outputs": [],
   "source": [
    "from sklearn.preprocessing import normalize\n",
    "\n",
    "def normalize_embeddings(embedding):\n",
    "    return embedding / np.linalg.norm(embedding)"
   ]
  },
  {
   "cell_type": "code",
   "execution_count": 42,
   "id": "20764b05-ec7b-405f-a02f-abf9f34735c9",
   "metadata": {},
   "outputs": [
    {
     "data": {
      "text/html": [
       "<div>\n",
       "<style scoped>\n",
       "    .dataframe tbody tr th:only-of-type {\n",
       "        vertical-align: middle;\n",
       "    }\n",
       "\n",
       "    .dataframe tbody tr th {\n",
       "        vertical-align: top;\n",
       "    }\n",
       "\n",
       "    .dataframe thead th {\n",
       "        text-align: right;\n",
       "    }\n",
       "</style>\n",
       "<table border=\"1\" class=\"dataframe\">\n",
       "  <thead>\n",
       "    <tr style=\"text-align: right;\">\n",
       "      <th></th>\n",
       "      <th>embedding</th>\n",
       "    </tr>\n",
       "    <tr>\n",
       "      <th>trackids</th>\n",
       "      <th></th>\n",
       "    </tr>\n",
       "  </thead>\n",
       "  <tbody>\n",
       "    <tr>\n",
       "      <th>1</th>\n",
       "      <td>[-0.07723766, -0.612644, -0.72078836, 0.334147...</td>\n",
       "    </tr>\n",
       "    <tr>\n",
       "      <th>7159</th>\n",
       "      <td>[-1.4252408, 0.33825552, 0.2531855, 1.2647257,...</td>\n",
       "    </tr>\n",
       "    <tr>\n",
       "      <th>13557</th>\n",
       "      <td>[-0.6442174, -0.65833646, 2.0886574, 0.1040712...</td>\n",
       "    </tr>\n",
       "    <tr>\n",
       "      <th>14915</th>\n",
       "      <td>[-0.023006344, -0.38933963, 0.6891218, -0.0324...</td>\n",
       "    </tr>\n",
       "    <tr>\n",
       "      <th>16415</th>\n",
       "      <td>[-0.22624709, -0.20559229, 0.3041806, -1.25063...</td>\n",
       "    </tr>\n",
       "  </tbody>\n",
       "</table>\n",
       "</div>"
      ],
      "text/plain": [
       "                                                  embedding\n",
       "trackids                                                   \n",
       "1         [-0.07723766, -0.612644, -0.72078836, 0.334147...\n",
       "7159      [-1.4252408, 0.33825552, 0.2531855, 1.2647257,...\n",
       "13557     [-0.6442174, -0.65833646, 2.0886574, 0.1040712...\n",
       "14915     [-0.023006344, -0.38933963, 0.6891218, -0.0324...\n",
       "16415     [-0.22624709, -0.20559229, 0.3041806, -1.25063..."
      ]
     },
     "execution_count": 42,
     "metadata": {},
     "output_type": "execute_result"
    }
   ],
   "source": [
    "emb_6_pd.head()"
   ]
  },
  {
   "cell_type": "code",
   "execution_count": 43,
   "id": "3a6a568d-80dc-4724-9a74-119f23f2ebfe",
   "metadata": {},
   "outputs": [
    {
     "data": {
      "text/html": [
       "<div>\n",
       "<style scoped>\n",
       "    .dataframe tbody tr th:only-of-type {\n",
       "        vertical-align: middle;\n",
       "    }\n",
       "\n",
       "    .dataframe tbody tr th {\n",
       "        vertical-align: top;\n",
       "    }\n",
       "\n",
       "    .dataframe thead th {\n",
       "        text-align: right;\n",
       "    }\n",
       "</style>\n",
       "<table border=\"1\" class=\"dataframe\">\n",
       "  <thead>\n",
       "    <tr style=\"text-align: right;\">\n",
       "      <th></th>\n",
       "      <th>embedding</th>\n",
       "    </tr>\n",
       "    <tr>\n",
       "      <th>trackids</th>\n",
       "      <th></th>\n",
       "    </tr>\n",
       "  </thead>\n",
       "  <tbody>\n",
       "    <tr>\n",
       "      <th>1</th>\n",
       "      <td>[1.7688749, 1.8406674, 0.41593462, -0.7498508,...</td>\n",
       "    </tr>\n",
       "    <tr>\n",
       "      <th>7159</th>\n",
       "      <td>[-0.052356258, -0.15832356, 0.67157507, -0.228...</td>\n",
       "    </tr>\n",
       "    <tr>\n",
       "      <th>13557</th>\n",
       "      <td>[2.2554877, -1.0612838, 1.0043125, -3.5117183,...</td>\n",
       "    </tr>\n",
       "    <tr>\n",
       "      <th>14915</th>\n",
       "      <td>[0.5620366, 0.10097464, 0.48317677, -0.4449085...</td>\n",
       "    </tr>\n",
       "    <tr>\n",
       "      <th>16415</th>\n",
       "      <td>[0.55709475, -0.7496168, 0.22376603, 0.2634193...</td>\n",
       "    </tr>\n",
       "  </tbody>\n",
       "</table>\n",
       "</div>"
      ],
      "text/plain": [
       "                                                  embedding\n",
       "trackids                                                   \n",
       "1         [1.7688749, 1.8406674, 0.41593462, -0.7498508,...\n",
       "7159      [-0.052356258, -0.15832356, 0.67157507, -0.228...\n",
       "13557     [2.2554877, -1.0612838, 1.0043125, -3.5117183,...\n",
       "14915     [0.5620366, 0.10097464, 0.48317677, -0.4449085...\n",
       "16415     [0.55709475, -0.7496168, 0.22376603, 0.2634193..."
      ]
     },
     "execution_count": 43,
     "metadata": {},
     "output_type": "execute_result"
    }
   ],
   "source": [
    "emb_4_pd.head()"
   ]
  },
  {
   "cell_type": "code",
   "execution_count": 153,
   "id": "9fdf39e0-b659-4e8c-99ad-660275377176",
   "metadata": {},
   "outputs": [],
   "source": [
    "emb_6_pd['embedding'] = emb_6_pd['embedding'].apply(normalize_embeddings)\n",
    "emb_4_pd['embedding'] = emb_4_pd['embedding'].apply(normalize_embeddings)\n",
    "emb_14_pd['embedding'] = emb_14_pd['embedding'].apply(normalize_embeddings)"
   ]
  },
  {
   "cell_type": "code",
   "execution_count": 45,
   "id": "7a68177a-e5ec-44aa-b33d-e1485e469bc3",
   "metadata": {},
   "outputs": [
    {
     "data": {
      "text/html": [
       "<div>\n",
       "<style scoped>\n",
       "    .dataframe tbody tr th:only-of-type {\n",
       "        vertical-align: middle;\n",
       "    }\n",
       "\n",
       "    .dataframe tbody tr th {\n",
       "        vertical-align: top;\n",
       "    }\n",
       "\n",
       "    .dataframe thead th {\n",
       "        text-align: right;\n",
       "    }\n",
       "</style>\n",
       "<table border=\"1\" class=\"dataframe\">\n",
       "  <thead>\n",
       "    <tr style=\"text-align: right;\">\n",
       "      <th></th>\n",
       "      <th>embedding</th>\n",
       "    </tr>\n",
       "    <tr>\n",
       "      <th>trackids</th>\n",
       "      <th></th>\n",
       "    </tr>\n",
       "  </thead>\n",
       "  <tbody>\n",
       "    <tr>\n",
       "      <th>1</th>\n",
       "      <td>[-0.0030853231, -0.02447258, -0.028792497, 0.0...</td>\n",
       "    </tr>\n",
       "    <tr>\n",
       "      <th>7159</th>\n",
       "      <td>[-0.06812118, 0.01616735, 0.012101321, 0.06044...</td>\n",
       "    </tr>\n",
       "    <tr>\n",
       "      <th>13557</th>\n",
       "      <td>[-0.026385976, -0.02696427, 0.085547626, 0.004...</td>\n",
       "    </tr>\n",
       "    <tr>\n",
       "      <th>14915</th>\n",
       "      <td>[-0.0010185345, -0.017236805, 0.030508729, -0....</td>\n",
       "    </tr>\n",
       "    <tr>\n",
       "      <th>16415</th>\n",
       "      <td>[-0.0097744325, -0.008882094, 0.013141353, -0....</td>\n",
       "    </tr>\n",
       "  </tbody>\n",
       "</table>\n",
       "</div>"
      ],
      "text/plain": [
       "                                                  embedding\n",
       "trackids                                                   \n",
       "1         [-0.0030853231, -0.02447258, -0.028792497, 0.0...\n",
       "7159      [-0.06812118, 0.01616735, 0.012101321, 0.06044...\n",
       "13557     [-0.026385976, -0.02696427, 0.085547626, 0.004...\n",
       "14915     [-0.0010185345, -0.017236805, 0.030508729, -0....\n",
       "16415     [-0.0097744325, -0.008882094, 0.013141353, -0...."
      ]
     },
     "execution_count": 45,
     "metadata": {},
     "output_type": "execute_result"
    }
   ],
   "source": [
    "emb_6_pd.head()"
   ]
  },
  {
   "cell_type": "code",
   "execution_count": 46,
   "id": "31a3a17a-a0af-4c24-8eac-33b95af4d19d",
   "metadata": {},
   "outputs": [
    {
     "data": {
      "text/html": [
       "<div>\n",
       "<style scoped>\n",
       "    .dataframe tbody tr th:only-of-type {\n",
       "        vertical-align: middle;\n",
       "    }\n",
       "\n",
       "    .dataframe tbody tr th {\n",
       "        vertical-align: top;\n",
       "    }\n",
       "\n",
       "    .dataframe thead th {\n",
       "        text-align: right;\n",
       "    }\n",
       "</style>\n",
       "<table border=\"1\" class=\"dataframe\">\n",
       "  <thead>\n",
       "    <tr style=\"text-align: right;\">\n",
       "      <th></th>\n",
       "      <th>embedding</th>\n",
       "    </tr>\n",
       "    <tr>\n",
       "      <th>trackids</th>\n",
       "      <th></th>\n",
       "    </tr>\n",
       "  </thead>\n",
       "  <tbody>\n",
       "    <tr>\n",
       "      <th>1</th>\n",
       "      <td>[0.08058438, 0.08385501, 0.018948672, -0.03416...</td>\n",
       "    </tr>\n",
       "    <tr>\n",
       "      <th>7159</th>\n",
       "      <td>[-0.0025522916, -0.0077180434, 0.03273831, -0....</td>\n",
       "    </tr>\n",
       "    <tr>\n",
       "      <th>13557</th>\n",
       "      <td>[0.08772994, -0.041279927, 0.03906396, -0.1365...</td>\n",
       "    </tr>\n",
       "    <tr>\n",
       "      <th>14915</th>\n",
       "      <td>[0.02298532, 0.004129508, 0.019760232, -0.0181...</td>\n",
       "    </tr>\n",
       "    <tr>\n",
       "      <th>16415</th>\n",
       "      <td>[0.024934666, -0.033551645, 0.010015408, 0.011...</td>\n",
       "    </tr>\n",
       "  </tbody>\n",
       "</table>\n",
       "</div>"
      ],
      "text/plain": [
       "                                                  embedding\n",
       "trackids                                                   \n",
       "1         [0.08058438, 0.08385501, 0.018948672, -0.03416...\n",
       "7159      [-0.0025522916, -0.0077180434, 0.03273831, -0....\n",
       "13557     [0.08772994, -0.041279927, 0.03906396, -0.1365...\n",
       "14915     [0.02298532, 0.004129508, 0.019760232, -0.0181...\n",
       "16415     [0.024934666, -0.033551645, 0.010015408, 0.011..."
      ]
     },
     "execution_count": 46,
     "metadata": {},
     "output_type": "execute_result"
    }
   ],
   "source": [
    "emb_4_pd.head()"
   ]
  },
  {
   "cell_type": "code",
   "execution_count": 198,
   "id": "a756ae67-99b4-4014-91b2-db59e407f126",
   "metadata": {},
   "outputs": [],
   "source": [
    "def merge_dfs(df1, df2, suffix1, suffix2):\n",
    "    return df1.join(df2, how='inner', lsuffix=suffix1, rsuffix=suffix2)"
   ]
  },
  {
   "cell_type": "code",
   "execution_count": 199,
   "id": "8b3993a0-a514-4575-b9df-a8a6234f58ed",
   "metadata": {},
   "outputs": [],
   "source": [
    "dataframes = [emb_6_pd, emb_4_pd, emb_14_pd] \n",
    "merged_df = dataframes[0]\n",
    "\n",
    "suffixes = [f'_{i}' for i in range(len(dataframes))]\n",
    "\n",
    "for i in range(1, len(dataframes)):\n",
    "    merged_df = merged_df.join(dataframes[i], how='inner', lsuffix=suffixes[i-1], rsuffix=suffixes[i])\n",
    "\n",
    "merged_df.rename(columns={'embedding': f'embedding_{len(dataframes)}'}, inplace=True)"
   ]
  },
  {
   "cell_type": "code",
   "execution_count": 200,
   "id": "f9c89fc5-6234-47f2-9b5c-29e53fa01cf9",
   "metadata": {},
   "outputs": [
    {
     "data": {
      "text/html": [
       "<div>\n",
       "<style scoped>\n",
       "    .dataframe tbody tr th:only-of-type {\n",
       "        vertical-align: middle;\n",
       "    }\n",
       "\n",
       "    .dataframe tbody tr th {\n",
       "        vertical-align: top;\n",
       "    }\n",
       "\n",
       "    .dataframe thead th {\n",
       "        text-align: right;\n",
       "    }\n",
       "</style>\n",
       "<table border=\"1\" class=\"dataframe\">\n",
       "  <thead>\n",
       "    <tr style=\"text-align: right;\">\n",
       "      <th></th>\n",
       "      <th>embedding_0</th>\n",
       "      <th>embedding_1</th>\n",
       "      <th>embedding_3</th>\n",
       "    </tr>\n",
       "    <tr>\n",
       "      <th>trackids</th>\n",
       "      <th></th>\n",
       "      <th></th>\n",
       "      <th></th>\n",
       "    </tr>\n",
       "  </thead>\n",
       "  <tbody>\n",
       "    <tr>\n",
       "      <th>1</th>\n",
       "      <td>[-0.0030853231, -0.02447258, -0.028792497, 0.0...</td>\n",
       "      <td>[0.08058438, 0.08385501, 0.018948672, -0.03416...</td>\n",
       "      <td>[-0.0141357435, -0.022207366, 0.047852542, 0.0...</td>\n",
       "    </tr>\n",
       "    <tr>\n",
       "      <th>7159</th>\n",
       "      <td>[-0.06812118, 0.01616735, 0.012101321, 0.06044...</td>\n",
       "      <td>[-0.0025522916, -0.0077180434, 0.03273831, -0....</td>\n",
       "      <td>[-0.002881172, 0.0020705282, -0.0011530791, -0...</td>\n",
       "    </tr>\n",
       "    <tr>\n",
       "      <th>13557</th>\n",
       "      <td>[-0.026385976, -0.02696427, 0.085547626, 0.004...</td>\n",
       "      <td>[0.08772994, -0.041279927, 0.03906396, -0.1365...</td>\n",
       "      <td>[-0.02878957, 0.008982886, -0.011043699, 0.008...</td>\n",
       "    </tr>\n",
       "    <tr>\n",
       "      <th>14915</th>\n",
       "      <td>[-0.0010185345, -0.017236805, 0.030508729, -0....</td>\n",
       "      <td>[0.02298532, 0.004129508, 0.019760232, -0.0181...</td>\n",
       "      <td>[0.05659094, -0.062711574, 0.011440689, -0.070...</td>\n",
       "    </tr>\n",
       "    <tr>\n",
       "      <th>16415</th>\n",
       "      <td>[-0.0097744325, -0.008882094, 0.013141353, -0....</td>\n",
       "      <td>[0.024934666, -0.033551645, 0.010015408, 0.011...</td>\n",
       "      <td>[-0.036691837, 0.00088549685, 0.0044573215, 0....</td>\n",
       "    </tr>\n",
       "  </tbody>\n",
       "</table>\n",
       "</div>"
      ],
      "text/plain": [
       "                                                embedding_0  \\\n",
       "trackids                                                      \n",
       "1         [-0.0030853231, -0.02447258, -0.028792497, 0.0...   \n",
       "7159      [-0.06812118, 0.01616735, 0.012101321, 0.06044...   \n",
       "13557     [-0.026385976, -0.02696427, 0.085547626, 0.004...   \n",
       "14915     [-0.0010185345, -0.017236805, 0.030508729, -0....   \n",
       "16415     [-0.0097744325, -0.008882094, 0.013141353, -0....   \n",
       "\n",
       "                                                embedding_1  \\\n",
       "trackids                                                      \n",
       "1         [0.08058438, 0.08385501, 0.018948672, -0.03416...   \n",
       "7159      [-0.0025522916, -0.0077180434, 0.03273831, -0....   \n",
       "13557     [0.08772994, -0.041279927, 0.03906396, -0.1365...   \n",
       "14915     [0.02298532, 0.004129508, 0.019760232, -0.0181...   \n",
       "16415     [0.024934666, -0.033551645, 0.010015408, 0.011...   \n",
       "\n",
       "                                                embedding_3  \n",
       "trackids                                                     \n",
       "1         [-0.0141357435, -0.022207366, 0.047852542, 0.0...  \n",
       "7159      [-0.002881172, 0.0020705282, -0.0011530791, -0...  \n",
       "13557     [-0.02878957, 0.008982886, -0.011043699, 0.008...  \n",
       "14915     [0.05659094, -0.062711574, 0.011440689, -0.070...  \n",
       "16415     [-0.036691837, 0.00088549685, 0.0044573215, 0....  "
      ]
     },
     "execution_count": 200,
     "metadata": {},
     "output_type": "execute_result"
    }
   ],
   "source": [
    "merged_df.head()"
   ]
  },
  {
   "cell_type": "code",
   "execution_count": 201,
   "id": "b782e21d-c1c8-434c-adc1-321c14642458",
   "metadata": {},
   "outputs": [],
   "source": [
    "def average_embeddings(merged_df, weights=None):\n",
    "    # Находим все столбцы, имена которых начинаются с 'embedding_'\n",
    "    embedding_columns = [col for col in merged_df.columns if col.startswith('embedding_')]\n",
    "    \n",
    "    # Убедимся, что есть хотя бы один столбец для усреднения\n",
    "    if not embedding_columns:\n",
    "        raise ValueError(\"Нет столбцов с эмбеддингами для усреднения.\")\n",
    "    \n",
    "    # Если веса не переданы, используем равные веса\n",
    "    if weights is None:\n",
    "        weights = np.ones(len(embedding_columns))\n",
    "    elif len(weights) != len(embedding_columns):\n",
    "        raise ValueError(\"Длина списка весов должна совпадать с количеством эмбеддингов.\")\n",
    "\n",
    "    # Применяем взвешенное усреднение по найденным столбцам\n",
    "    merged_df['embedding'] = merged_df[embedding_columns].apply(\n",
    "        lambda row: np.average(row, weights=weights), axis=1\n",
    "    )"
   ]
  },
  {
   "cell_type": "code",
   "execution_count": 209,
   "id": "8c7d1897-810d-43a7-88d6-5bf7b6543e5e",
   "metadata": {},
   "outputs": [
    {
     "data": {
      "text/plain": [
       "0.022534678816666667"
      ]
     },
     "execution_count": 209,
     "metadata": {},
     "output_type": "execute_result"
    }
   ],
   "source": [
    "(-0.0030853231 + 0.08058438 -0.0141357435*0.7)/3"
   ]
  },
  {
   "cell_type": "code",
   "execution_count": 222,
   "id": "cfebc329-5cbe-43cd-96f5-787e80eb4483",
   "metadata": {},
   "outputs": [],
   "source": [
    "average_embeddings(merged_df, weights=[1.0, 1.0, 0.7])"
   ]
  },
  {
   "cell_type": "code",
   "execution_count": 223,
   "id": "c9c89608-a5c4-493c-8d83-06019fe83307",
   "metadata": {},
   "outputs": [
    {
     "data": {
      "text/html": [
       "<div>\n",
       "<style scoped>\n",
       "    .dataframe tbody tr th:only-of-type {\n",
       "        vertical-align: middle;\n",
       "    }\n",
       "\n",
       "    .dataframe tbody tr th {\n",
       "        vertical-align: top;\n",
       "    }\n",
       "\n",
       "    .dataframe thead th {\n",
       "        text-align: right;\n",
       "    }\n",
       "</style>\n",
       "<table border=\"1\" class=\"dataframe\">\n",
       "  <thead>\n",
       "    <tr style=\"text-align: right;\">\n",
       "      <th></th>\n",
       "      <th>embedding_0</th>\n",
       "      <th>embedding_1</th>\n",
       "      <th>embedding_3</th>\n",
       "      <th>embedding</th>\n",
       "    </tr>\n",
       "    <tr>\n",
       "      <th>trackids</th>\n",
       "      <th></th>\n",
       "      <th></th>\n",
       "      <th></th>\n",
       "      <th></th>\n",
       "    </tr>\n",
       "  </thead>\n",
       "  <tbody>\n",
       "    <tr>\n",
       "      <th>1</th>\n",
       "      <td>[-0.0030853231, -0.02447258, -0.028792497, 0.0...</td>\n",
       "      <td>[0.08058438, 0.08385501, 0.018948672, -0.03416...</td>\n",
       "      <td>[-0.0141357435, -0.022207366, 0.047852542, 0.0...</td>\n",
       "      <td>[0.025038531, 0.016236028, 0.008760354, -0.005...</td>\n",
       "    </tr>\n",
       "    <tr>\n",
       "      <th>7159</th>\n",
       "      <td>[-0.06812118, 0.01616735, 0.012101321, 0.06044...</td>\n",
       "      <td>[-0.0025522916, -0.0077180434, 0.03273831, -0....</td>\n",
       "      <td>[-0.002881172, 0.0020705282, -0.0011530791, -0...</td>\n",
       "      <td>[-0.02692233, 0.0036661765, 0.016308323, 0.017...</td>\n",
       "    </tr>\n",
       "    <tr>\n",
       "      <th>13557</th>\n",
       "      <td>[-0.026385976, -0.02696427, 0.085547626, 0.004...</td>\n",
       "      <td>[0.08772994, -0.041279927, 0.03906396, -0.1365...</td>\n",
       "      <td>[-0.02878957, 0.008982886, -0.011043699, 0.008...</td>\n",
       "      <td>[0.015256022, -0.02294673, 0.04328926, -0.0468...</td>\n",
       "    </tr>\n",
       "    <tr>\n",
       "      <th>14915</th>\n",
       "      <td>[-0.0010185345, -0.017236805, 0.030508729, -0....</td>\n",
       "      <td>[0.02298532, 0.004129508, 0.019760232, -0.0181...</td>\n",
       "      <td>[0.05659094, -0.062711574, 0.011440689, -0.070...</td>\n",
       "      <td>[0.02280757, -0.02111311, 0.021584237, -0.0254...</td>\n",
       "    </tr>\n",
       "    <tr>\n",
       "      <th>16415</th>\n",
       "      <td>[-0.0097744325, -0.008882094, 0.013141353, -0....</td>\n",
       "      <td>[0.024934666, -0.033551645, 0.010015408, 0.011...</td>\n",
       "      <td>[-0.036691837, 0.00088549685, 0.0044573215, 0....</td>\n",
       "      <td>[-0.003897797, -0.015486626, 0.009732179, -0.0...</td>\n",
       "    </tr>\n",
       "  </tbody>\n",
       "</table>\n",
       "</div>"
      ],
      "text/plain": [
       "                                                embedding_0  \\\n",
       "trackids                                                      \n",
       "1         [-0.0030853231, -0.02447258, -0.028792497, 0.0...   \n",
       "7159      [-0.06812118, 0.01616735, 0.012101321, 0.06044...   \n",
       "13557     [-0.026385976, -0.02696427, 0.085547626, 0.004...   \n",
       "14915     [-0.0010185345, -0.017236805, 0.030508729, -0....   \n",
       "16415     [-0.0097744325, -0.008882094, 0.013141353, -0....   \n",
       "\n",
       "                                                embedding_1  \\\n",
       "trackids                                                      \n",
       "1         [0.08058438, 0.08385501, 0.018948672, -0.03416...   \n",
       "7159      [-0.0025522916, -0.0077180434, 0.03273831, -0....   \n",
       "13557     [0.08772994, -0.041279927, 0.03906396, -0.1365...   \n",
       "14915     [0.02298532, 0.004129508, 0.019760232, -0.0181...   \n",
       "16415     [0.024934666, -0.033551645, 0.010015408, 0.011...   \n",
       "\n",
       "                                                embedding_3  \\\n",
       "trackids                                                      \n",
       "1         [-0.0141357435, -0.022207366, 0.047852542, 0.0...   \n",
       "7159      [-0.002881172, 0.0020705282, -0.0011530791, -0...   \n",
       "13557     [-0.02878957, 0.008982886, -0.011043699, 0.008...   \n",
       "14915     [0.05659094, -0.062711574, 0.011440689, -0.070...   \n",
       "16415     [-0.036691837, 0.00088549685, 0.0044573215, 0....   \n",
       "\n",
       "                                                  embedding  \n",
       "trackids                                                     \n",
       "1         [0.025038531, 0.016236028, 0.008760354, -0.005...  \n",
       "7159      [-0.02692233, 0.0036661765, 0.016308323, 0.017...  \n",
       "13557     [0.015256022, -0.02294673, 0.04328926, -0.0468...  \n",
       "14915     [0.02280757, -0.02111311, 0.021584237, -0.0254...  \n",
       "16415     [-0.003897797, -0.015486626, 0.009732179, -0.0...  "
      ]
     },
     "execution_count": 223,
     "metadata": {},
     "output_type": "execute_result"
    }
   ],
   "source": [
    "merged_df.head()"
   ]
  },
  {
   "cell_type": "code",
   "execution_count": 224,
   "id": "70b4ab92-8d89-49eb-8507-78397bc47ca9",
   "metadata": {},
   "outputs": [],
   "source": [
    "from sklearn.metrics import pairwise_distances_chunked"
   ]
  },
  {
   "cell_type": "code",
   "execution_count": 225,
   "id": "a77450eb-12fb-42da-b154-ab9ff5b3885b",
   "metadata": {},
   "outputs": [],
   "source": [
    "embeddings = merged_df['embedding'].tolist()\n",
    "trackids = merged_df.index.tolist()"
   ]
  },
  {
   "cell_type": "code",
   "execution_count": 226,
   "id": "eeb28a4c-041b-4ca5-a14d-22fa4685dd71",
   "metadata": {},
   "outputs": [
    {
     "name": "stderr",
     "output_type": "stream",
     "text": [
      "233it [03:07,  1.25it/s]\n"
     ]
    }
   ],
   "source": [
    "predictions = []\n",
    "for chunk_result in tqdm(pairwise_distances_chunked(\n",
    "        embeddings, metric='cosine', reduce_func=reduce_func, working_memory=100\n",
    ")):\n",
    "    for query_indx, query_nearest_items in chunk_result:\n",
    "        predictions.append((trackids[query_indx], [trackids[nn_indx] for nn_indx in query_nearest_items]))"
   ]
  },
  {
   "cell_type": "code",
   "execution_count": 227,
   "id": "a605f062-4911-43ff-909d-a91067d34bcc",
   "metadata": {},
   "outputs": [],
   "source": [
    "save_test_predictions(\n",
    "    predictions, output_dir='outputs_test', experiment_number='stacking_mean_normalized_4_6_14'\n",
    ")"
   ]
  },
  {
   "cell_type": "code",
   "execution_count": null,
   "id": "bdf479a8-8bd4-4edc-beb8-99d9d5d07ae3",
   "metadata": {},
   "outputs": [],
   "source": []
  },
  {
   "cell_type": "code",
   "execution_count": null,
   "id": "33b66127-851a-44f2-b932-3fc990e2bfb2",
   "metadata": {},
   "outputs": [],
   "source": []
  },
  {
   "cell_type": "code",
   "execution_count": null,
   "id": "fb80d119-21f1-4741-810a-f3773fd431b0",
   "metadata": {},
   "outputs": [],
   "source": []
  },
  {
   "cell_type": "code",
   "execution_count": null,
   "id": "ba84cfa6-daec-4249-aac9-f9ed50e0d337",
   "metadata": {},
   "outputs": [],
   "source": []
  },
  {
   "cell_type": "code",
   "execution_count": null,
   "id": "f53ed507-1df9-4ce6-9d20-4f31976dc674",
   "metadata": {},
   "outputs": [],
   "source": []
  },
  {
   "cell_type": "code",
   "execution_count": null,
   "id": "115b811c-c40c-4ce6-bb9a-3b0602d084a1",
   "metadata": {},
   "outputs": [],
   "source": []
  },
  {
   "cell_type": "code",
   "execution_count": null,
   "id": "d32ec02a-619d-4893-a8a0-b1617b5b8e1a",
   "metadata": {},
   "outputs": [],
   "source": []
  },
  {
   "cell_type": "code",
   "execution_count": null,
   "id": "18eb5983-902b-4e01-b87c-adee675acd93",
   "metadata": {},
   "outputs": [],
   "source": []
  },
  {
   "cell_type": "code",
   "execution_count": null,
   "id": "623b34a2-f868-4b2d-8490-36449ea6939d",
   "metadata": {},
   "outputs": [],
   "source": []
  },
  {
   "cell_type": "code",
   "execution_count": 47,
   "id": "fb6aa824-86df-4916-8847-f1afc1d90cba",
   "metadata": {},
   "outputs": [],
   "source": [
    "merged_df = emb_6_pd.join(emb_4_pd, how='inner', lsuffix='_6', rsuffix='_4')"
   ]
  },
  {
   "cell_type": "code",
   "execution_count": 48,
   "id": "58728ba4-b639-4676-98e3-3c6e73254e7b",
   "metadata": {},
   "outputs": [],
   "source": [
    "merged_df['embedding'] = merged_df.apply(\n",
    "    lambda row: np.mean([row['embedding_6'], row['embedding_4']], axis=0),\n",
    "    axis=1\n",
    ")"
   ]
  },
  {
   "cell_type": "code",
   "execution_count": 184,
   "id": "7d82e958-c246-4aec-a889-5468eea1b94d",
   "metadata": {},
   "outputs": [
    {
     "data": {
      "text/html": [
       "<div>\n",
       "<style scoped>\n",
       "    .dataframe tbody tr th:only-of-type {\n",
       "        vertical-align: middle;\n",
       "    }\n",
       "\n",
       "    .dataframe tbody tr th {\n",
       "        vertical-align: top;\n",
       "    }\n",
       "\n",
       "    .dataframe thead th {\n",
       "        text-align: right;\n",
       "    }\n",
       "</style>\n",
       "<table border=\"1\" class=\"dataframe\">\n",
       "  <thead>\n",
       "    <tr style=\"text-align: right;\">\n",
       "      <th></th>\n",
       "      <th>embedding_0</th>\n",
       "      <th>embedding_1</th>\n",
       "      <th>embedding_3</th>\n",
       "    </tr>\n",
       "    <tr>\n",
       "      <th>trackids</th>\n",
       "      <th></th>\n",
       "      <th></th>\n",
       "      <th></th>\n",
       "    </tr>\n",
       "  </thead>\n",
       "  <tbody>\n",
       "    <tr>\n",
       "      <th>1</th>\n",
       "      <td>[-0.0030853231, -0.02447258, -0.028792497, 0.0...</td>\n",
       "      <td>[0.08058438, 0.08385501, 0.018948672, -0.03416...</td>\n",
       "      <td>[-0.0141357435, -0.022207366, 0.047852542, 0.0...</td>\n",
       "    </tr>\n",
       "    <tr>\n",
       "      <th>7159</th>\n",
       "      <td>[-0.06812118, 0.01616735, 0.012101321, 0.06044...</td>\n",
       "      <td>[-0.0025522916, -0.0077180434, 0.03273831, -0....</td>\n",
       "      <td>[-0.002881172, 0.0020705282, -0.0011530791, -0...</td>\n",
       "    </tr>\n",
       "    <tr>\n",
       "      <th>13557</th>\n",
       "      <td>[-0.026385976, -0.02696427, 0.085547626, 0.004...</td>\n",
       "      <td>[0.08772994, -0.041279927, 0.03906396, -0.1365...</td>\n",
       "      <td>[-0.02878957, 0.008982886, -0.011043699, 0.008...</td>\n",
       "    </tr>\n",
       "    <tr>\n",
       "      <th>14915</th>\n",
       "      <td>[-0.0010185345, -0.017236805, 0.030508729, -0....</td>\n",
       "      <td>[0.02298532, 0.004129508, 0.019760232, -0.0181...</td>\n",
       "      <td>[0.05659094, -0.062711574, 0.011440689, -0.070...</td>\n",
       "    </tr>\n",
       "    <tr>\n",
       "      <th>16415</th>\n",
       "      <td>[-0.0097744325, -0.008882094, 0.013141353, -0....</td>\n",
       "      <td>[0.024934666, -0.033551645, 0.010015408, 0.011...</td>\n",
       "      <td>[-0.036691837, 0.00088549685, 0.0044573215, 0....</td>\n",
       "    </tr>\n",
       "  </tbody>\n",
       "</table>\n",
       "</div>"
      ],
      "text/plain": [
       "                                                embedding_0  \\\n",
       "trackids                                                      \n",
       "1         [-0.0030853231, -0.02447258, -0.028792497, 0.0...   \n",
       "7159      [-0.06812118, 0.01616735, 0.012101321, 0.06044...   \n",
       "13557     [-0.026385976, -0.02696427, 0.085547626, 0.004...   \n",
       "14915     [-0.0010185345, -0.017236805, 0.030508729, -0....   \n",
       "16415     [-0.0097744325, -0.008882094, 0.013141353, -0....   \n",
       "\n",
       "                                                embedding_1  \\\n",
       "trackids                                                      \n",
       "1         [0.08058438, 0.08385501, 0.018948672, -0.03416...   \n",
       "7159      [-0.0025522916, -0.0077180434, 0.03273831, -0....   \n",
       "13557     [0.08772994, -0.041279927, 0.03906396, -0.1365...   \n",
       "14915     [0.02298532, 0.004129508, 0.019760232, -0.0181...   \n",
       "16415     [0.024934666, -0.033551645, 0.010015408, 0.011...   \n",
       "\n",
       "                                                embedding_3  \n",
       "trackids                                                     \n",
       "1         [-0.0141357435, -0.022207366, 0.047852542, 0.0...  \n",
       "7159      [-0.002881172, 0.0020705282, -0.0011530791, -0...  \n",
       "13557     [-0.02878957, 0.008982886, -0.011043699, 0.008...  \n",
       "14915     [0.05659094, -0.062711574, 0.011440689, -0.070...  \n",
       "16415     [-0.036691837, 0.00088549685, 0.0044573215, 0....  "
      ]
     },
     "execution_count": 184,
     "metadata": {},
     "output_type": "execute_result"
    }
   ],
   "source": [
    "merged_df.head()"
   ]
  },
  {
   "cell_type": "code",
   "execution_count": 50,
   "id": "6e41a154-c554-42f2-a23a-8eb7b31c70b3",
   "metadata": {},
   "outputs": [],
   "source": [
    "from sklearn.metrics import pairwise_distances_chunked"
   ]
  },
  {
   "cell_type": "markdown",
   "id": "d678fb8f-36b5-43d9-a7fc-962ec9db3aaa",
   "metadata": {},
   "source": [
    "повторим пайплайн из трейнера по сборке ближайших соседей"
   ]
  },
  {
   "cell_type": "code",
   "execution_count": 60,
   "id": "b52e0230-88e7-4667-a2e5-034ce2173196",
   "metadata": {},
   "outputs": [],
   "source": [
    "embeddings = merged_df['embedding'].tolist()\n",
    "trackids = merged_df.index.tolist()"
   ]
  },
  {
   "cell_type": "code",
   "execution_count": 63,
   "id": "12de574d-2973-4201-b463-43cc33ac9b1d",
   "metadata": {},
   "outputs": [],
   "source": [
    "predictions = []\n",
    "for chunk_result in pairwise_distances_chunked(\n",
    "        embeddings, metric='cosine', reduce_func=reduce_func, working_memory=100\n",
    "):\n",
    "    for query_indx, query_nearest_items in chunk_result:\n",
    "        predictions.append((trackids[query_indx], [trackids[nn_indx] for nn_indx in query_nearest_items]))"
   ]
  },
  {
   "cell_type": "code",
   "execution_count": 65,
   "id": "043eb7a4-03f9-4b14-a6bc-a332d1436f68",
   "metadata": {},
   "outputs": [
    {
     "data": {
      "text/plain": [
       "'outputs_test'"
      ]
     },
     "execution_count": 65,
     "metadata": {},
     "output_type": "execute_result"
    }
   ],
   "source": [
    "trainer.cfg.pipeline.test_output_dir"
   ]
  },
  {
   "cell_type": "code",
   "execution_count": 72,
   "id": "2ec76e9a-a4c8-4cc0-b0fa-8388994b7e6d",
   "metadata": {},
   "outputs": [],
   "source": [
    "save_test_predictions(\n",
    "    predictions, output_dir='outputs_test', experiment_number='stacking_mean_46'\n",
    ")"
   ]
  },
  {
   "cell_type": "markdown",
   "id": "3ba20525-c8f4-4269-acc3-46009aacf263",
   "metadata": {},
   "source": [
    "###### стакинг без нормировки\n",
    "\n",
    "Сработал хуже"
   ]
  },
  {
   "cell_type": "code",
   "execution_count": 73,
   "id": "021228b9-c922-4003-882b-6af3b8821cc2",
   "metadata": {},
   "outputs": [],
   "source": [
    "emb_6_pd = pd.read_parquet('/home/evgenshuben/Desktop/gitReps/YandexCup/outputs_val/run-6/data/test_embeddings.pq')\n",
    "emb_4_pd = pd.read_parquet('/home/evgenshuben/Desktop/gitReps/YandexCup/outputs_val/run-4/data/test_embeddings.pq')"
   ]
  },
  {
   "cell_type": "code",
   "execution_count": 75,
   "id": "ec88107f-c07a-45a7-9145-399a6942942c",
   "metadata": {},
   "outputs": [],
   "source": [
    "merged_df = emb_6_pd.join(emb_4_pd, how='inner', lsuffix='_6', rsuffix='_4')\n",
    "\n",
    "merged_df['embedding'] = merged_df.apply(\n",
    "    lambda row: np.mean([row['embedding_6'], row['embedding_4']], axis=0),\n",
    "    axis=1\n",
    ")"
   ]
  },
  {
   "cell_type": "code",
   "execution_count": 76,
   "id": "1a575f3b-8da0-463a-97ac-eaaa04bea26e",
   "metadata": {},
   "outputs": [],
   "source": [
    "embeddings = merged_df['embedding'].tolist()\n",
    "trackids = merged_df.index.tolist()"
   ]
  },
  {
   "cell_type": "code",
   "execution_count": 79,
   "id": "b698be15-906b-4d65-9b2d-6a33753a65e5",
   "metadata": {},
   "outputs": [
    {
     "name": "stderr",
     "output_type": "stream",
     "text": [
      "233it [03:05,  1.25it/s]\n"
     ]
    }
   ],
   "source": [
    "predictions = []\n",
    "for chunk_result in tqdm(pairwise_distances_chunked(\n",
    "        embeddings, metric='cosine', reduce_func=reduce_func, working_memory=100\n",
    ")):\n",
    "    for query_indx, query_nearest_items in chunk_result:\n",
    "        predictions.append((trackids[query_indx], [trackids[nn_indx] for nn_indx in query_nearest_items]))"
   ]
  },
  {
   "cell_type": "code",
   "execution_count": 141,
   "id": "4018ee59-8ddc-4254-a245-22fd2e30d909",
   "metadata": {},
   "outputs": [],
   "source": [
    "# predictions[0]"
   ]
  },
  {
   "cell_type": "code",
   "execution_count": 80,
   "id": "ac23b521-43e3-4920-93f0-c79ccf2be730",
   "metadata": {},
   "outputs": [],
   "source": [
    "save_test_predictions(\n",
    "    predictions, output_dir='outputs_test', experiment_number='stacking_mean_without_normalize_46'\n",
    ")"
   ]
  },
  {
   "cell_type": "markdown",
   "id": "10ef82d1-0795-4ac0-a138-d7ce6235c861",
   "metadata": {},
   "source": [
    "###### Скоры от моделей\n",
    "\n",
    "Теперь попробуем сложить не эмбеды а скоры от моделей\n",
    "\n",
    "для этого надо изменить редьюсер, чтобы он возвращал еще и скор"
   ]
  },
  {
   "cell_type": "code",
   "execution_count": 102,
   "id": "22ccc680-198c-49c2-9ff2-a33c48a8a73a",
   "metadata": {},
   "outputs": [],
   "source": [
    "def score_reduce_func(D_chunk, start, top_size=100):\n",
    "    # Находим индексы ближайших соседей\n",
    "    nearest_items = np.argsort(D_chunk, axis=1)[:, :top_size + 1]\n",
    "    \n",
    "    # Извлекаем соответствующие косинусные расстояния\n",
    "    nearest_distances = np.take_along_axis(D_chunk, nearest_items, axis=1)\n",
    "    \n",
    "    # Возвращаем пары (индексы и близости)\n",
    "    return [\n",
    "        (i, items[items != i], 1 - nearest_distances[idx][items != i])  # 1 - расстояние для получения близости\n",
    "        for idx, (i, items) in enumerate(zip(range(start, start + D_chunk.shape[0]), nearest_items))\n",
    "    ]"
   ]
  },
  {
   "cell_type": "code",
   "execution_count": 99,
   "id": "273f57dd-1d7a-4b46-9fc3-d928756a4fb0",
   "metadata": {},
   "outputs": [],
   "source": [
    "emb_6_pd = pd.read_parquet('/home/evgenshuben/Desktop/gitReps/YandexCup/outputs_val/run-6/data/test_embeddings.pq')\n",
    "embeddings = emb_6_pd['embedding'].tolist()\n",
    "trackids = emb_6_pd.index.tolist()"
   ]
  },
  {
   "cell_type": "code",
   "execution_count": 105,
   "id": "7f79cad4-010d-488e-b580-b6658066d562",
   "metadata": {},
   "outputs": [
    {
     "name": "stderr",
     "output_type": "stream",
     "text": [
      "233it [03:04,  1.26it/s]\n"
     ]
    }
   ],
   "source": [
    "predictions = []\n",
    "for chunk_result in tqdm(pairwise_distances_chunked(\n",
    "        embeddings, metric='cosine', reduce_func=score_reduce_func, working_memory=100\n",
    ")):\n",
    "    for query_indx, query_nearest_items, query_similarities in chunk_result:\n",
    "        # Добавляем результаты: (ID трека запроса, [ID соседей], [косинусные близости соседей])\n",
    "        predictions.append(\n",
    "            (trackids[query_indx],\n",
    "             [trackids[nn_indx] for nn_indx in query_nearest_items],\n",
    "             query_similarities.tolist())  # Преобразуем близости в список\n",
    "        )"
   ]
  },
  {
   "cell_type": "code",
   "execution_count": 113,
   "id": "5349b440-ce79-41ef-a5a6-ee7f4569c076",
   "metadata": {},
   "outputs": [],
   "source": [
    "result6_dict = {}\n",
    "\n",
    "# Проходимся по списку predictions и заполняем словарь\n",
    "for track_id, candidate_ids, similarities in predictions:\n",
    "    # Создаем пары (candidate_id, similarity) и добавляем в словарь\n",
    "    result6_dict[track_id] = list(zip(candidate_ids, similarities))\n"
   ]
  },
  {
   "cell_type": "code",
   "execution_count": 116,
   "id": "c26c9ead-84b9-402e-ba8b-5fca1ae44272",
   "metadata": {},
   "outputs": [
    {
     "data": {
      "text/plain": [
       "[(53098, 0.44250911474227905),\n",
       " (44946, 0.4099239706993103),\n",
       " (18000, 0.40310966968536377),\n",
       " (7711, 0.3896787166595459),\n",
       " (11825, 0.38576972484588623)]"
      ]
     },
     "execution_count": 116,
     "metadata": {},
     "output_type": "execute_result"
    }
   ],
   "source": [
    "result6_dict[1][:5]"
   ]
  },
  {
   "cell_type": "code",
   "execution_count": 107,
   "id": "791522b9-50f4-4ac6-a06a-a92c046db9c0",
   "metadata": {},
   "outputs": [],
   "source": [
    "emb_4_pd = pd.read_parquet('/home/evgenshuben/Desktop/gitReps/YandexCup/outputs_val/run-4/data/test_embeddings.pq')\n",
    "embeddings = emb_4_pd['embedding'].tolist()\n",
    "trackids = emb_4_pd.index.tolist()"
   ]
  },
  {
   "cell_type": "code",
   "execution_count": 108,
   "id": "932a15fc-e9f6-454f-b7bc-f0787bea7627",
   "metadata": {},
   "outputs": [
    {
     "name": "stderr",
     "output_type": "stream",
     "text": [
      "233it [03:05,  1.26it/s]\n"
     ]
    }
   ],
   "source": [
    "predictions_4 = []\n",
    "for chunk_result in tqdm(pairwise_distances_chunked(\n",
    "        embeddings, metric='cosine', reduce_func=score_reduce_func, working_memory=100\n",
    ")):\n",
    "    for query_indx, query_nearest_items, query_similarities in chunk_result:\n",
    "        # Добавляем результаты: (ID трека запроса, [ID соседей], [косинусные близости соседей])\n",
    "        predictions_4.append(\n",
    "            (trackids[query_indx],\n",
    "             [trackids[nn_indx] for nn_indx in query_nearest_items],\n",
    "             query_similarities.tolist())  # Преобразуем близости в список\n",
    "        )"
   ]
  },
  {
   "cell_type": "code",
   "execution_count": 111,
   "id": "631cf57f-9ded-47e2-bdeb-491a02027c6c",
   "metadata": {},
   "outputs": [],
   "source": [
    "result4_dict = {}\n",
    "\n",
    "# Проходимся по списку predictions и заполняем словарь\n",
    "for track_id, candidate_ids, similarities in predictions_4:\n",
    "    # Создаем пары (candidate_id, similarity) и добавляем в словарь\n",
    "    result4_dict[track_id] = list(zip(candidate_ids, similarities))\n"
   ]
  },
  {
   "cell_type": "code",
   "execution_count": 117,
   "id": "d1a4ee49-cae4-46ee-8037-46782b79b69d",
   "metadata": {},
   "outputs": [
    {
     "data": {
      "text/plain": [
       "[(27655, 0.38579368591308594),\n",
       " (23797, 0.3703147768974304),\n",
       " (23017, 0.36620032787323),\n",
       " (44929, 0.335546612739563),\n",
       " (5910, 0.3270080089569092)]"
      ]
     },
     "execution_count": 117,
     "metadata": {},
     "output_type": "execute_result"
    }
   ],
   "source": [
    "result4_dict[1][:5]"
   ]
  },
  {
   "cell_type": "code",
   "execution_count": 118,
   "id": "a4664da4-6e42-41be-a724-8159db5d38d4",
   "metadata": {},
   "outputs": [],
   "source": [
    "from collections import defaultdict"
   ]
  },
  {
   "cell_type": "code",
   "execution_count": 119,
   "id": "f42345fe-14b3-4f3a-ba89-f30e01addf76",
   "metadata": {},
   "outputs": [],
   "source": [
    "combined_scores = defaultdict(lambda: defaultdict(list))\n",
    "\n",
    "# Добавляем данные из первого словаря\n",
    "for track_id, candidates in result4_dict.items():\n",
    "    for candidate_id, similarity in candidates:\n",
    "        combined_scores[track_id][candidate_id].append(similarity)\n",
    "\n",
    "# Добавляем данные из второго словаря\n",
    "for track_id, candidates in result6_dict.items():\n",
    "    for candidate_id, similarity in candidates:\n",
    "        combined_scores[track_id][candidate_id].append(similarity)"
   ]
  },
  {
   "cell_type": "code",
   "execution_count": 127,
   "id": "cd8060a1-3538-4751-a747-1da49e4d8dda",
   "metadata": {},
   "outputs": [],
   "source": [
    "# Усредняем скоры и формируем окончательный словарь\n",
    "result_dict = {}\n",
    "for track_id, candidate_scores in combined_scores.items():\n",
    "    averaged_candidates = [\n",
    "        (candidate_id, sum(scores) / len(scores))  # Усредняем скоры\n",
    "        for candidate_id, scores in candidate_scores.items()\n",
    "    ]\n",
    "    # Сортируем кандидатов по убыванию усредненного similarity\n",
    "    averaged_candidates.sort(key=lambda x: x[1], reverse=True)\n",
    "    result_dict[track_id] = averaged_candidates\n",
    "\n",
    "# Пример вывода первых нескольких элементов\n",
    "# print(list(result_dict.items())[:5])"
   ]
  },
  {
   "cell_type": "code",
   "execution_count": 140,
   "id": "d9a2effe-970c-4f81-88bc-212d8c61fcd6",
   "metadata": {},
   "outputs": [
    {
     "data": {
      "text/plain": [
       "[(53098, 0.44250911474227905),\n",
       " (44946, 0.4099239706993103),\n",
       " (18000, 0.40310966968536377),\n",
       " (7711, 0.3896787166595459),\n",
       " (27655, 0.38579368591308594),\n",
       " (11825, 0.38576972484588623),\n",
       " (23797, 0.3703147768974304),\n",
       " (47143, 0.36950981616973877),\n",
       " (12057, 0.3681948184967041),\n",
       " (23017, 0.36620032787323),\n",
       " (43451, 0.3638312816619873),\n",
       " (7309, 0.36325711011886597),\n",
       " (14646, 0.3602888584136963),\n",
       " (40312, 0.35778361558914185),\n",
       " (54764, 0.35691606998443604),\n",
       " (5922, 0.35435497760772705),\n",
       " (31379, 0.3540458679199219),\n",
       " (6765, 0.35104990005493164),\n",
       " (45792, 0.3501570224761963),\n",
       " (52400, 0.3492717742919922),\n",
       " (45217, 0.348804235458374),\n",
       " (37628, 0.3467860221862793),\n",
       " (36329, 0.3449831008911133),\n",
       " (12409, 0.34446918964385986),\n",
       " (48235, 0.343350350856781),\n",
       " (41785, 0.3378169536590576),\n",
       " (3934, 0.33765870332717896),\n",
       " (50139, 0.33763760328292847),\n",
       " (8872, 0.3368837833404541),\n",
       " (36702, 0.33583152294158936),\n",
       " (42406, 0.3357158899307251),\n",
       " (44929, 0.335546612739563),\n",
       " (16472, 0.3354657292366028),\n",
       " (49456, 0.3349059820175171),\n",
       " (22952, 0.33464717864990234),\n",
       " (5910, 0.33403944969177246),\n",
       " (7289, 0.3332687020301819),\n",
       " (733, 0.3316512107849121),\n",
       " (45084, 0.33109575510025024),\n",
       " (48892, 0.33105504512786865),\n",
       " (6736, 0.32956618070602417),\n",
       " (45174, 0.3295398950576782),\n",
       " (15356, 0.3260156810283661),\n",
       " (39304, 0.32457035779953003),\n",
       " (40892, 0.3236093521118164),\n",
       " (30953, 0.32239651679992676),\n",
       " (20240, 0.32123374938964844),\n",
       " (38008, 0.321111798286438),\n",
       " (54147, 0.32052087783813477),\n",
       " (19521, 0.32037490606307983),\n",
       " (18109, 0.3199434280395508),\n",
       " (53571, 0.319374144077301),\n",
       " (830, 0.31929296255111694),\n",
       " (1630, 0.3189365863800049),\n",
       " (51591, 0.318135142326355),\n",
       " (39321, 0.3181212544441223),\n",
       " (34386, 0.3178778886795044),\n",
       " (47133, 0.31762999296188354),\n",
       " (35211, 0.3174157738685608),\n",
       " (54663, 0.3160783052444458),\n",
       " (654, 0.3154557943344116),\n",
       " (33613, 0.31488037109375),\n",
       " (1341, 0.31484904885292053),\n",
       " (31606, 0.3146247863769531),\n",
       " (35427, 0.31444138288497925),\n",
       " (12945, 0.3141898810863495),\n",
       " (29839, 0.3135984539985657),\n",
       " (51235, 0.31330955028533936),\n",
       " (40058, 0.31262320280075073),\n",
       " (1899, 0.3123779296875),\n",
       " (31443, 0.31209659576416016),\n",
       " (34947, 0.31184816360473633),\n",
       " (37566, 0.31140434741973877),\n",
       " (33869, 0.3110705614089966),\n",
       " (40645, 0.31097495555877686),\n",
       " (25759, 0.3104727268218994),\n",
       " (21677, 0.3104473352432251),\n",
       " (19483, 0.3104243874549866),\n",
       " (16914, 0.30976974964141846),\n",
       " (24674, 0.3094441890716553),\n",
       " (899, 0.308832049369812),\n",
       " (7008, 0.3085514307022095),\n",
       " (16994, 0.3082171082496643),\n",
       " (47295, 0.3079606294631958),\n",
       " (44622, 0.30795150995254517),\n",
       " (38070, 0.3078117370605469),\n",
       " (430, 0.3069303035736084),\n",
       " (52077, 0.30668210983276367),\n",
       " (34232, 0.30658113956451416),\n",
       " (52674, 0.3062703609466553),\n",
       " (24782, 0.30622947216033936),\n",
       " (7030, 0.3059578537940979),\n",
       " (20758, 0.30587106943130493),\n",
       " (43018, 0.3056439161300659),\n",
       " (6767, 0.3055450916290283),\n",
       " (33800, 0.30542242527008057),\n",
       " (36859, 0.3052881956100464),\n",
       " (23127, 0.3041011095046997),\n",
       " (49157, 0.3025966286659241),\n",
       " (17520, 0.3022412061691284),\n",
       " (35223, 0.30143845081329346),\n",
       " (6044, 0.300167977809906),\n",
       " (39885, 0.2990553379058838),\n",
       " (55142, 0.2987966537475586),\n",
       " (25009, 0.298738956451416),\n",
       " (31118, 0.2978630065917969),\n",
       " (47841, 0.297782301902771),\n",
       " (22522, 0.29762518405914307),\n",
       " (49155, 0.29538071155548096),\n",
       " (43403, 0.2940201163291931),\n",
       " (8283, 0.29390716552734375),\n",
       " (42450, 0.2938019037246704),\n",
       " (18617, 0.292856365442276),\n",
       " (14551, 0.2921409606933594),\n",
       " (48988, 0.29172462224960327),\n",
       " (34260, 0.2900294363498688),\n",
       " (51872, 0.2897205352783203),\n",
       " (39963, 0.28850263357162476),\n",
       " (41744, 0.2884977459907532),\n",
       " (34749, 0.28490275144577026),\n",
       " (42685, 0.2831672728061676),\n",
       " (656, 0.28290343284606934),\n",
       " (1857, 0.28240084648132324),\n",
       " (5827, 0.28074225783348083),\n",
       " (14473, 0.2796816825866699),\n",
       " (49147, 0.27910763025283813),\n",
       " (30546, 0.27684974670410156),\n",
       " (46733, 0.27553510665893555),\n",
       " (27594, 0.2740333080291748),\n",
       " (32921, 0.2730863094329834),\n",
       " (9371, 0.271437406539917),\n",
       " (37159, 0.2711654305458069),\n",
       " (23446, 0.2704068422317505),\n",
       " (43809, 0.2703133821487427),\n",
       " (49921, 0.2702583074569702),\n",
       " (1756, 0.26961731910705566),\n",
       " (46213, 0.26912206411361694),\n",
       " (511, 0.26665252447128296),\n",
       " (48375, 0.2664750814437866),\n",
       " (16607, 0.26601487398147583),\n",
       " (19275, 0.2653324604034424),\n",
       " (54572, 0.2649865746498108),\n",
       " (8324, 0.2645605802536011),\n",
       " (40487, 0.2644004821777344),\n",
       " (19916, 0.26368534564971924),\n",
       " (47172, 0.2633481025695801),\n",
       " (25847, 0.2631933093070984),\n",
       " (18395, 0.2627037763595581),\n",
       " (35015, 0.2618982195854187),\n",
       " (52758, 0.26134616136550903),\n",
       " (22386, 0.26049238443374634),\n",
       " (13107, 0.26043570041656494),\n",
       " (32402, 0.25998222827911377),\n",
       " (34538, 0.25997447967529297),\n",
       " (54237, 0.25993144512176514),\n",
       " (17332, 0.259605348110199),\n",
       " (41538, 0.25953853130340576),\n",
       " (35858, 0.259335994720459),\n",
       " (2573, 0.2591363191604614),\n",
       " (7306, 0.2577528953552246),\n",
       " (36517, 0.25706446170806885),\n",
       " (51720, 0.2565436363220215),\n",
       " (6874, 0.25616455078125),\n",
       " (28894, 0.2558591365814209),\n",
       " (26709, 0.25559544563293457),\n",
       " (20397, 0.2548704743385315),\n",
       " (31014, 0.2543689012527466),\n",
       " (35429, 0.25402164459228516),\n",
       " (14526, 0.2532881498336792),\n",
       " (25849, 0.2522979974746704),\n",
       " (19271, 0.25202417373657227),\n",
       " (53190, 0.25180482864379883),\n",
       " (2422, 0.25108110904693604),\n",
       " (37696, 0.2508028745651245),\n",
       " (38497, 0.25066202878952026),\n",
       " (31814, 0.25042325258255005),\n",
       " (48405, 0.25014013051986694),\n",
       " (12054, 0.24922406673431396),\n",
       " (47930, 0.24831479787826538),\n",
       " (27119, 0.24794495105743408),\n",
       " (34417, 0.24789315462112427),\n",
       " (41532, 0.24749648571014404)]"
      ]
     },
     "execution_count": 140,
     "metadata": {},
     "output_type": "execute_result"
    }
   ],
   "source": [
    "result_dict[1]"
   ]
  },
  {
   "cell_type": "code",
   "execution_count": 142,
   "id": "057f4700-bc2e-4cdd-96c3-13bd40de59d0",
   "metadata": {},
   "outputs": [],
   "source": [
    "predictions_combined = [\n",
    "    (track_id, [candidate_id for candidate_id, _ in candidates[:100]])\n",
    "    for track_id, candidates in result_dict.items()\n",
    "]"
   ]
  },
  {
   "cell_type": "code",
   "execution_count": 145,
   "id": "3497baf0-0c67-46b5-bbdf-3ec96a455d49",
   "metadata": {},
   "outputs": [],
   "source": [
    "save_test_predictions(\n",
    "    predictions_combined, output_dir='outputs_test', experiment_number='stacking_models_score_46'\n",
    ")"
   ]
  },
  {
   "cell_type": "code",
   "execution_count": null,
   "id": "485633ba-50b3-457e-8ae0-5da11b8a9152",
   "metadata": {},
   "outputs": [],
   "source": []
  },
  {
   "cell_type": "code",
   "execution_count": null,
   "id": "90f83395-815b-4e0e-a8d2-3687b0244e69",
   "metadata": {},
   "outputs": [],
   "source": []
  },
  {
   "cell_type": "code",
   "execution_count": null,
   "id": "2ef07dad-e46a-4066-bf79-f53f2403d776",
   "metadata": {},
   "outputs": [],
   "source": []
  },
  {
   "cell_type": "code",
   "execution_count": null,
   "id": "e7e297d8-61d4-4f2c-b7e0-a45bd19b9c7f",
   "metadata": {},
   "outputs": [],
   "source": []
  },
  {
   "cell_type": "code",
   "execution_count": null,
   "id": "f777a446-7a66-4bc8-bbd7-32e380c83988",
   "metadata": {},
   "outputs": [],
   "source": []
  },
  {
   "cell_type": "code",
   "execution_count": null,
   "id": "79ab4601-c075-48da-98e6-58a433de1471",
   "metadata": {},
   "outputs": [],
   "source": []
  },
  {
   "cell_type": "code",
   "execution_count": null,
   "id": "9c74cb52-ebb4-401d-9f8c-90b83890d0cf",
   "metadata": {},
   "outputs": [],
   "source": []
  },
  {
   "cell_type": "code",
   "execution_count": null,
   "id": "7063ee5e-4ac4-4242-ac17-e160b9a37283",
   "metadata": {},
   "outputs": [],
   "source": []
  },
  {
   "cell_type": "code",
   "execution_count": null,
   "id": "73bcf627-0d58-4ff1-85e3-ead43db8d82a",
   "metadata": {},
   "outputs": [],
   "source": []
  },
  {
   "cell_type": "code",
   "execution_count": null,
   "id": "c2f3d923-e31b-43b6-98d7-ab6ee6376b48",
   "metadata": {},
   "outputs": [],
   "source": []
  },
  {
   "cell_type": "code",
   "execution_count": null,
   "id": "cbbe6775-78c6-4508-990e-8739df42723b",
   "metadata": {},
   "outputs": [],
   "source": []
  }
 ],
 "metadata": {
  "kernelspec": {
   "display_name": "Python 3.10",
   "language": "python",
   "name": "dl24"
  },
  "language_info": {
   "codemirror_mode": {
    "name": "ipython",
    "version": 3
   },
   "file_extension": ".py",
   "mimetype": "text/x-python",
   "name": "python",
   "nbconvert_exporter": "python",
   "pygments_lexer": "ipython3",
   "version": "3.10.15"
  }
 },
 "nbformat": 4,
 "nbformat_minor": 5
}
