{
 "cells": [
  {
   "cell_type": "code",
   "execution_count": 1,
   "id": "923102dc-4bcc-46fe-ba77-afdc8dcc9db1",
   "metadata": {},
   "outputs": [],
   "source": [
    "import sys\n",
    "import os\n",
    "\n",
    "PROJECT_DIR = '/home/evgenshuben/Desktop/gitReps/YandexCup/'\n",
    "sys.path.append(PROJECT_DIR)\n",
    "os.chdir(PROJECT_DIR)"
   ]
  },
  {
   "cell_type": "code",
   "execution_count": 2,
   "id": "e532318b-6d8a-486b-85fc-e424baf84ee1",
   "metadata": {},
   "outputs": [],
   "source": [
    "from omegaconf import DictConfig, OmegaConf\n",
    "import hydra\n",
    "from hydra import initialize, compose, initialize_config_dir\n",
    "from hydra.utils import instantiate\n",
    "\n",
    "import torch.nn as nn\n",
    "import torch\n",
    "import torch.nn.functional as F\n",
    "import pandas as pd\n",
    "import numpy as np\n",
    "from tqdm import tqdm\n",
    "from functools import reduce"
   ]
  },
  {
   "cell_type": "code",
   "execution_count": 3,
   "id": "45d4a5fa-2a45-401e-8b47-b533e75f8ee4",
   "metadata": {},
   "outputs": [],
   "source": [
    "%load_ext autoreload\n",
    "%autoreload 2\n",
    "\n",
    "from scr.train import Trainer\n",
    "from scr.utils import (reduce_func, save_test_predictions)"
   ]
  },
  {
   "cell_type": "markdown",
   "id": "d650ad39-54fe-4883-8f8b-e72af181f7dc",
   "metadata": {},
   "source": [
    "# info\n",
    "\n",
    "Тут попробуем сделать стекинг нескольких моделей предобученных\n",
    "\n",
    "Пробую взять вектора от моделей на тесте и усреднить их просто\n",
    "\n",
    "Написал функцию для сохранения тестовых эмбеддингов"
   ]
  },
  {
   "cell_type": "markdown",
   "id": "abdfd53a-a97e-4528-9942-3562ab9b7bad",
   "metadata": {},
   "source": [
    "# Load config"
   ]
  },
  {
   "cell_type": "code",
   "execution_count": null,
   "id": "a1c7503e-f628-479d-8046-ba2c40cf5829",
   "metadata": {},
   "outputs": [],
   "source": [
    "# config_dir = '/home/evgenshuben/Desktop/gitReps/YandexCup/configs'\n",
    "# config_name = 'config'\n",
    "\n",
    "\n",
    "# with initialize_config_dir(config_dir=config_dir, version_base=None):\n",
    "#     cfg = compose(config_name=config_name)\n",
    "#     # cfg['dataset']['train']['train']['dataset_path']"
   ]
  },
  {
   "cell_type": "code",
   "execution_count": 4,
   "id": "b58753b4-d6bd-4a2a-ade6-7912830e1fda",
   "metadata": {},
   "outputs": [
    {
     "data": {
      "text/plain": [
       "{'_target_': 'scr.models.cnn.CNN1d', 'emb_size': 512, 'num_classes': '${num_classes}', 'input_norm': True}"
      ]
     },
     "execution_count": 4,
     "metadata": {},
     "output_type": "execute_result"
    }
   ],
   "source": [
    "# Путь к конфигурационному файлу, сохраненному Hydra\n",
    "config_path = \"/home/evgenshuben/Desktop/gitReps/YandexCup/outputs_val/run-2/hydra/.hydra/config.yaml\"\n",
    "\n",
    "\n",
    "\n",
    "cfg = OmegaConf.load(config_path)\n",
    "cfg.enviroment.device = 'cpu'\n",
    "cfg.model"
   ]
  },
  {
   "cell_type": "code",
   "execution_count": 5,
   "id": "cc95eb82-c1ac-4c80-919f-17db6fcb8fe9",
   "metadata": {},
   "outputs": [],
   "source": [
    "trainer = Trainer(cfg)"
   ]
  },
  {
   "cell_type": "markdown",
   "id": "712d044b-315d-4238-bb0e-dfd08d18ecee",
   "metadata": {},
   "source": [
    "### embeddings calculate\n",
    "\n",
    "Насчитаем эмбеддинги на каждой сильной модели"
   ]
  },
  {
   "cell_type": "markdown",
   "id": "31bd3ea5-cf87-4efc-854a-4949afa95af5",
   "metadata": {},
   "source": [
    "###### 6"
   ]
  },
  {
   "cell_type": "code",
   "execution_count": 28,
   "id": "b73a4ea9-20fb-4220-8270-25a2431f26ef",
   "metadata": {},
   "outputs": [
    {
     "data": {
      "text/plain": [
       "{'_target_': 'scr.models.backbone.BackBone', 'backbone_name': 'hgnetv2_b4.ssld_stage2_ft_in1k', 'emb_size': 512, 'num_classes': '${num_classes}'}"
      ]
     },
     "execution_count": 28,
     "metadata": {},
     "output_type": "execute_result"
    }
   ],
   "source": [
    "# Путь к конфигурационному файлу, сохраненному Hydra\n",
    "config_path = \"/home/evgenshuben/Desktop/gitReps/YandexCup/outputs_val/run-6/hydra/.hydra/config.yaml\"\n",
    "cfg = OmegaConf.load(config_path)\n",
    "# cfg.enviroment.device = 'cpu'\n",
    "cfg.model"
   ]
  },
  {
   "cell_type": "code",
   "execution_count": 29,
   "id": "6275c582-1a0f-4851-83b6-380d178601a9",
   "metadata": {},
   "outputs": [
    {
     "name": "stderr",
     "output_type": "stream",
     "text": [
      "/home/evgenshuben/Desktop/gitReps/YandexCup/scr/train.py:51: FutureWarning: You are using `torch.load` with `weights_only=False` (the current default value), which uses the default pickle module implicitly. It is possible to construct malicious pickle data which will execute arbitrary code during unpickling (See https://github.com/pytorch/pytorch/blob/main/SECURITY.md#untrusted-models for more details). In a future release, the default value for `weights_only` will be flipped to `True`. This limits the functions that could be executed during unpickling. Arbitrary objects will no longer be allowed to be loaded via this mode unless they are explicitly allowlisted by the user via `torch.serialization.add_safe_globals`. We recommend you start setting `weights_only=True` for any use case where you don't have full control of the loaded file. Please open an issue on GitHub for any issues related to this experimental feature.\n",
      "  self.model.load_state_dict(torch.load(self.cfg.pipeline.model_ckpt), strict=False)\n"
     ]
    }
   ],
   "source": [
    "trainer = Trainer(cfg)"
   ]
  },
  {
   "cell_type": "code",
   "execution_count": 30,
   "id": "1e195a1b-b2b7-44d0-8eb3-bb032b1acb77",
   "metadata": {},
   "outputs": [
    {
     "name": "stderr",
     "output_type": "stream",
     "text": [
      "100%|██████████| 55170/55170 [05:04<00:00, 180.94it/s]\n"
     ]
    },
    {
     "name": "stdout",
     "output_type": "stream",
     "text": [
      "CPU times: user 5min 4s, sys: 24.1 s, total: 5min 28s\n",
      "Wall time: 5min 5s\n"
     ]
    }
   ],
   "source": [
    "%%time\n",
    "trainer.test_embeddings()"
   ]
  },
  {
   "cell_type": "markdown",
   "id": "3ab4d259-5275-45a0-978e-5ab7b6eeeb91",
   "metadata": {},
   "source": [
    "###### 4"
   ]
  },
  {
   "cell_type": "code",
   "execution_count": 31,
   "id": "4babc0a6-982f-4179-bdc1-19cb7817064e",
   "metadata": {},
   "outputs": [
    {
     "data": {
      "text/plain": [
       "{'_target_': 'scr.models.backbone.BackBone', 'backbone_name': 'tf_efficientnet_b4.ns_jft_in1k', 'emb_size': 512, 'num_classes': '${num_classes}'}"
      ]
     },
     "execution_count": 31,
     "metadata": {},
     "output_type": "execute_result"
    }
   ],
   "source": [
    "# Путь к конфигурационному файлу, сохраненному Hydra\n",
    "config_path = \"/home/evgenshuben/Desktop/gitReps/YandexCup/outputs_val/run-4/hydra/.hydra/config.yaml\"\n",
    "cfg = OmegaConf.load(config_path)\n",
    "# cfg.enviroment.device = 'cpu'\n",
    "cfg.model"
   ]
  },
  {
   "cell_type": "code",
   "execution_count": 32,
   "id": "65c6af22-a9b2-42eb-b1a9-ace78a04fafc",
   "metadata": {},
   "outputs": [
    {
     "name": "stderr",
     "output_type": "stream",
     "text": [
      "/home/evgenshuben/Desktop/gitReps/YandexCup/scr/train.py:51: FutureWarning: You are using `torch.load` with `weights_only=False` (the current default value), which uses the default pickle module implicitly. It is possible to construct malicious pickle data which will execute arbitrary code during unpickling (See https://github.com/pytorch/pytorch/blob/main/SECURITY.md#untrusted-models for more details). In a future release, the default value for `weights_only` will be flipped to `True`. This limits the functions that could be executed during unpickling. Arbitrary objects will no longer be allowed to be loaded via this mode unless they are explicitly allowlisted by the user via `torch.serialization.add_safe_globals`. We recommend you start setting `weights_only=True` for any use case where you don't have full control of the loaded file. Please open an issue on GitHub for any issues related to this experimental feature.\n",
      "  self.model.load_state_dict(torch.load(self.cfg.pipeline.model_ckpt), strict=False)\n"
     ]
    }
   ],
   "source": [
    "trainer = Trainer(cfg)"
   ]
  },
  {
   "cell_type": "code",
   "execution_count": 33,
   "id": "d375be07-2f80-48ce-aea8-7b83b26e4e55",
   "metadata": {},
   "outputs": [
    {
     "name": "stderr",
     "output_type": "stream",
     "text": [
      "100%|██████████| 55170/55170 [09:02<00:00, 101.67it/s]\n"
     ]
    },
    {
     "name": "stdout",
     "output_type": "stream",
     "text": [
      "CPU times: user 9min 3s, sys: 26.7 s, total: 9min 30s\n",
      "Wall time: 9min 3s\n"
     ]
    }
   ],
   "source": [
    "%%time\n",
    "trainer.test_embeddings()"
   ]
  },
  {
   "cell_type": "markdown",
   "id": "72144745-0dee-4eec-a14c-b3556865316e",
   "metadata": {},
   "source": [
    "###### 14"
   ]
  },
  {
   "cell_type": "code",
   "execution_count": 148,
   "id": "f9673dee-1676-4d71-9b21-cbd0fcff039a",
   "metadata": {},
   "outputs": [
    {
     "data": {
      "text/plain": [
       "{'_target_': 'scr.models.backbone.BackBone', 'backbone_name': 'regnety_040.ra3_in1k', 'emb_size': 512, 'num_classes': '${num_classes}'}"
      ]
     },
     "execution_count": 148,
     "metadata": {},
     "output_type": "execute_result"
    }
   ],
   "source": [
    "# Путь к конфигурационному файлу, сохраненному Hydra\n",
    "config_path = \"/home/evgenshuben/Desktop/gitReps/YandexCup/outputs_val/run-14/hydra/.hydra/config.yaml\"\n",
    "cfg = OmegaConf.load(config_path)\n",
    "# cfg.enviroment.device = 'cpu'\n",
    "cfg.model"
   ]
  },
  {
   "cell_type": "code",
   "execution_count": 149,
   "id": "4671cae9-1a37-4601-b468-c36dac1c4827",
   "metadata": {},
   "outputs": [
    {
     "name": "stderr",
     "output_type": "stream",
     "text": [
      "/home/evgenshuben/Desktop/gitReps/YandexCup/scr/train.py:51: FutureWarning: You are using `torch.load` with `weights_only=False` (the current default value), which uses the default pickle module implicitly. It is possible to construct malicious pickle data which will execute arbitrary code during unpickling (See https://github.com/pytorch/pytorch/blob/main/SECURITY.md#untrusted-models for more details). In a future release, the default value for `weights_only` will be flipped to `True`. This limits the functions that could be executed during unpickling. Arbitrary objects will no longer be allowed to be loaded via this mode unless they are explicitly allowlisted by the user via `torch.serialization.add_safe_globals`. We recommend you start setting `weights_only=True` for any use case where you don't have full control of the loaded file. Please open an issue on GitHub for any issues related to this experimental feature.\n",
      "  self.model.load_state_dict(torch.load(self.cfg.pipeline.model_ckpt), strict=False)\n"
     ]
    }
   ],
   "source": [
    "trainer = Trainer(cfg)"
   ]
  },
  {
   "cell_type": "code",
   "execution_count": 150,
   "id": "3a07f42f-4a25-4115-a1d2-31b244a3ec9f",
   "metadata": {},
   "outputs": [
    {
     "name": "stderr",
     "output_type": "stream",
     "text": [
      "100%|██████████| 55170/55170 [07:08<00:00, 128.82it/s]\n"
     ]
    },
    {
     "name": "stdout",
     "output_type": "stream",
     "text": [
      "CPU times: user 7min 8s, sys: 26.4 s, total: 7min 34s\n",
      "Wall time: 7min 8s\n"
     ]
    }
   ],
   "source": [
    "%%time\n",
    "trainer.test_embeddings()"
   ]
  },
  {
   "cell_type": "markdown",
   "id": "8f57d953-8bd2-4230-a7b7-b0b9befb6a86",
   "metadata": {},
   "source": [
    "###### 15"
   ]
  },
  {
   "cell_type": "code",
   "execution_count": 31,
   "id": "ef4fee64-d357-47ab-a552-e52183250b08",
   "metadata": {},
   "outputs": [
    {
     "name": "stdout",
     "output_type": "stream",
     "text": [
      "hgnetv2_b4.ssld_stage2_ft_in1k\n",
      "/home/evgenshuben/Desktop/gitReps/YandexCup/outputs_val/run-15/data/model/best-model-epoch=1-max_secs=50.pt\n"
     ]
    }
   ],
   "source": [
    "# Путь к конфигурационному файлу, сохраненному Hydra\n",
    "config_path = \"/home/evgenshuben/Desktop/gitReps/YandexCup/outputs_val/run-15/hydra/.hydra/config.yaml\"\n",
    "cfg = OmegaConf.load(config_path)\n",
    "# cfg.enviroment.device = 'cpu'\n",
    "print(cfg.model.backbone_name)\n",
    "print(cfg.pipeline.model_ckpt)"
   ]
  },
  {
   "cell_type": "code",
   "execution_count": 32,
   "id": "8944e062-da03-44cc-8887-5da24efe1174",
   "metadata": {},
   "outputs": [
    {
     "name": "stderr",
     "output_type": "stream",
     "text": [
      "/home/evgenshuben/Desktop/gitReps/YandexCup/scr/train.py:51: FutureWarning: You are using `torch.load` with `weights_only=False` (the current default value), which uses the default pickle module implicitly. It is possible to construct malicious pickle data which will execute arbitrary code during unpickling (See https://github.com/pytorch/pytorch/blob/main/SECURITY.md#untrusted-models for more details). In a future release, the default value for `weights_only` will be flipped to `True`. This limits the functions that could be executed during unpickling. Arbitrary objects will no longer be allowed to be loaded via this mode unless they are explicitly allowlisted by the user via `torch.serialization.add_safe_globals`. We recommend you start setting `weights_only=True` for any use case where you don't have full control of the loaded file. Please open an issue on GitHub for any issues related to this experimental feature.\n",
      "  self.model.load_state_dict(torch.load(self.cfg.pipeline.model_ckpt), strict=False)\n"
     ]
    }
   ],
   "source": [
    "trainer = Trainer(cfg)"
   ]
  },
  {
   "cell_type": "code",
   "execution_count": 33,
   "id": "b95bd512-3617-4251-b7be-2dda331c0829",
   "metadata": {},
   "outputs": [
    {
     "name": "stderr",
     "output_type": "stream",
     "text": [
      "100%|██████████| 55170/55170 [05:07<00:00, 179.37it/s]\n"
     ]
    },
    {
     "name": "stdout",
     "output_type": "stream",
     "text": [
      "CPU times: user 5min 7s, sys: 24.5 s, total: 5min 31s\n",
      "Wall time: 5min 8s\n"
     ]
    }
   ],
   "source": [
    "%%time\n",
    "trainer.test_embeddings()"
   ]
  },
  {
   "cell_type": "markdown",
   "id": "39aad27b-bb8f-44fd-bdaf-12b9af38adcc",
   "metadata": {},
   "source": [
    "###### 17"
   ]
  },
  {
   "cell_type": "code",
   "execution_count": 10,
   "id": "3f77c951-f951-420f-90d7-1e4379bd6941",
   "metadata": {},
   "outputs": [
    {
     "name": "stdout",
     "output_type": "stream",
     "text": [
      "edgenext_base.in21k_ft_in1k\n",
      "/home/evgenshuben/Desktop/gitReps/YandexCup/outputs_val/run-17/data/model/best-model-epoch=1-max_secs=50.pt\n"
     ]
    }
   ],
   "source": [
    "# Путь к конфигурационному файлу, сохраненному Hydra\n",
    "config_path = \"/home/evgenshuben/Desktop/gitReps/YandexCup/outputs_val/run-17/hydra/.hydra/config.yaml\"\n",
    "cfg = OmegaConf.load(config_path)\n",
    "# cfg.enviroment.device = 'cpu'\n",
    "print(cfg.model.backbone_name)\n",
    "print(cfg.pipeline.model_ckpt)"
   ]
  },
  {
   "cell_type": "code",
   "execution_count": 5,
   "id": "a1f9c5a4-357c-442d-8126-5fe1765d7126",
   "metadata": {},
   "outputs": [
    {
     "name": "stderr",
     "output_type": "stream",
     "text": [
      "/home/evgenshuben/Desktop/gitReps/YandexCup/scr/train.py:51: FutureWarning: You are using `torch.load` with `weights_only=False` (the current default value), which uses the default pickle module implicitly. It is possible to construct malicious pickle data which will execute arbitrary code during unpickling (See https://github.com/pytorch/pytorch/blob/main/SECURITY.md#untrusted-models for more details). In a future release, the default value for `weights_only` will be flipped to `True`. This limits the functions that could be executed during unpickling. Arbitrary objects will no longer be allowed to be loaded via this mode unless they are explicitly allowlisted by the user via `torch.serialization.add_safe_globals`. We recommend you start setting `weights_only=True` for any use case where you don't have full control of the loaded file. Please open an issue on GitHub for any issues related to this experimental feature.\n",
      "  self.model.load_state_dict(torch.load(self.cfg.pipeline.model_ckpt), strict=False)\n"
     ]
    }
   ],
   "source": [
    "trainer = Trainer(cfg)"
   ]
  },
  {
   "cell_type": "code",
   "execution_count": 6,
   "id": "4cec6ceb-9edd-4667-aed1-3e5b8378de7c",
   "metadata": {},
   "outputs": [
    {
     "name": "stderr",
     "output_type": "stream",
     "text": [
      "100%|██████████| 55170/55170 [05:20<00:00, 172.15it/s]\n"
     ]
    },
    {
     "name": "stdout",
     "output_type": "stream",
     "text": [
      "CPU times: user 5min 20s, sys: 24.3 s, total: 5min 45s\n",
      "Wall time: 5min 20s\n"
     ]
    }
   ],
   "source": [
    "%%time\n",
    "trainer.test_embeddings()"
   ]
  },
  {
   "cell_type": "markdown",
   "id": "b5cd4e52-d32b-442a-93f6-c947bfd43f15",
   "metadata": {},
   "source": [
    "###### 18"
   ]
  },
  {
   "cell_type": "code",
   "execution_count": 4,
   "id": "e65c51e6-46b0-47d0-8bb9-8e2388a0aaf1",
   "metadata": {},
   "outputs": [
    {
     "name": "stdout",
     "output_type": "stream",
     "text": [
      "tf_efficientnet_b4.ns_jft_in1k\n",
      "/home/evgenshuben/Desktop/gitReps/YandexCup/outputs_val/run-18/data/model/best-model-epoch=0-max_secs=50.pt\n"
     ]
    }
   ],
   "source": [
    "# Путь к конфигурационному файлу, сохраненному Hydra\n",
    "config_path = \"/home/evgenshuben/Desktop/gitReps/YandexCup/outputs_val/run-18/hydra/.hydra/config.yaml\"\n",
    "cfg = OmegaConf.load(config_path)\n",
    "# cfg.enviroment.device = 'cpu'\n",
    "print(cfg.model.backbone_name)\n",
    "print(cfg.pipeline.model_ckpt)"
   ]
  },
  {
   "cell_type": "code",
   "execution_count": 5,
   "id": "6e863a88-17b1-4bf6-ac36-4c410470b355",
   "metadata": {},
   "outputs": [
    {
     "name": "stderr",
     "output_type": "stream",
     "text": [
      "/home/evgenshuben/Desktop/gitReps/YandexCup/scr/train.py:51: FutureWarning: You are using `torch.load` with `weights_only=False` (the current default value), which uses the default pickle module implicitly. It is possible to construct malicious pickle data which will execute arbitrary code during unpickling (See https://github.com/pytorch/pytorch/blob/main/SECURITY.md#untrusted-models for more details). In a future release, the default value for `weights_only` will be flipped to `True`. This limits the functions that could be executed during unpickling. Arbitrary objects will no longer be allowed to be loaded via this mode unless they are explicitly allowlisted by the user via `torch.serialization.add_safe_globals`. We recommend you start setting `weights_only=True` for any use case where you don't have full control of the loaded file. Please open an issue on GitHub for any issues related to this experimental feature.\n",
      "  self.model.load_state_dict(torch.load(self.cfg.pipeline.model_ckpt), strict=False)\n"
     ]
    }
   ],
   "source": [
    "trainer = Trainer(cfg)"
   ]
  },
  {
   "cell_type": "code",
   "execution_count": 6,
   "id": "d1cf73b6-34fd-4443-9406-85311fd29985",
   "metadata": {},
   "outputs": [
    {
     "name": "stderr",
     "output_type": "stream",
     "text": [
      "100%|██████████| 55170/55170 [08:55<00:00, 103.05it/s]\n"
     ]
    },
    {
     "name": "stdout",
     "output_type": "stream",
     "text": [
      "CPU times: user 8min 55s, sys: 26.9 s, total: 9min 22s\n",
      "Wall time: 8min 55s\n"
     ]
    }
   ],
   "source": [
    "%%time\n",
    "trainer.test_embeddings()"
   ]
  },
  {
   "cell_type": "markdown",
   "id": "ff276650-c20c-44b4-a0f9-a8d01358248f",
   "metadata": {},
   "source": [
    "### Embeddings pooling\n",
    "\n",
    "Тут попробую усреднить эмбеды от предобученных моделей\n",
    "с нормировкой эмбедов"
   ]
  },
  {
   "cell_type": "code",
   "execution_count": 7,
   "id": "62bc6057-d422-469a-9faf-7fb2136032e0",
   "metadata": {},
   "outputs": [],
   "source": [
    "emb_6_pd = pd.read_parquet('/home/evgenshuben/Desktop/gitReps/YandexCup/outputs_val/run-6/data/test_embeddings.pq')\n",
    "emb_4_pd = pd.read_parquet('/home/evgenshuben/Desktop/gitReps/YandexCup/outputs_val/run-4/data/test_embeddings.pq')\n",
    "emb_14_pd = pd.read_parquet('/home/evgenshuben/Desktop/gitReps/YandexCup/outputs_val/run-14/data/test_embeddings.pq')\n",
    "\n",
    "emb_15_pd = pd.read_parquet('/home/evgenshuben/Desktop/gitReps/YandexCup/outputs_val/run-15/data/test_embeddings.pq')\n",
    "emb_17_pd = pd.read_parquet('/home/evgenshuben/Desktop/gitReps/YandexCup/outputs_val/run-17/data/test_embeddings.pq')\n",
    "emb_18_pd = pd.read_parquet('/home/evgenshuben/Desktop/gitReps/YandexCup/outputs_val/run-18/data/test_embeddings.pq')"
   ]
  },
  {
   "cell_type": "code",
   "execution_count": 8,
   "id": "318cfdb8-168d-467f-9cbe-2c0b62a4bbdc",
   "metadata": {},
   "outputs": [],
   "source": [
    "from sklearn.preprocessing import normalize\n",
    "\n",
    "def normalize_embeddings(embedding):\n",
    "    return embedding / np.linalg.norm(embedding)"
   ]
  },
  {
   "cell_type": "code",
   "execution_count": 38,
   "id": "9fdf39e0-b659-4e8c-99ad-660275377176",
   "metadata": {},
   "outputs": [],
   "source": [
    "emb_6_pd['embedding'] = emb_6_pd['embedding'].apply(normalize_embeddings)\n",
    "emb_4_pd['embedding'] = emb_4_pd['embedding'].apply(normalize_embeddings)\n",
    "emb_14_pd['embedding'] = emb_14_pd['embedding'].apply(normalize_embeddings)\n",
    "\n",
    "\n",
    "\n",
    "# models with triplet loss\n",
    "emb_15_pd['embedding'] = emb_15_pd['embedding'].apply(normalize_embeddings)\n",
    "emb_17_pd['embedding'] = emb_17_pd['embedding'].apply(normalize_embeddings)\n",
    "emb_18_pd['embedding'] = emb_18_pd['embedding'].apply(normalize_embeddings)"
   ]
  },
  {
   "cell_type": "code",
   "execution_count": 39,
   "id": "7a68177a-e5ec-44aa-b33d-e1485e469bc3",
   "metadata": {},
   "outputs": [
    {
     "data": {
      "text/html": [
       "<div>\n",
       "<style scoped>\n",
       "    .dataframe tbody tr th:only-of-type {\n",
       "        vertical-align: middle;\n",
       "    }\n",
       "\n",
       "    .dataframe tbody tr th {\n",
       "        vertical-align: top;\n",
       "    }\n",
       "\n",
       "    .dataframe thead th {\n",
       "        text-align: right;\n",
       "    }\n",
       "</style>\n",
       "<table border=\"1\" class=\"dataframe\">\n",
       "  <thead>\n",
       "    <tr style=\"text-align: right;\">\n",
       "      <th></th>\n",
       "      <th>embedding</th>\n",
       "    </tr>\n",
       "    <tr>\n",
       "      <th>trackids</th>\n",
       "      <th></th>\n",
       "    </tr>\n",
       "  </thead>\n",
       "  <tbody>\n",
       "    <tr>\n",
       "      <th>1</th>\n",
       "      <td>[-0.0030853231, -0.02447258, -0.028792497, 0.0...</td>\n",
       "    </tr>\n",
       "    <tr>\n",
       "      <th>7159</th>\n",
       "      <td>[-0.06812119, 0.016167352, 0.0121013215, 0.060...</td>\n",
       "    </tr>\n",
       "    <tr>\n",
       "      <th>13557</th>\n",
       "      <td>[-0.026385978, -0.026964271, 0.08554763, 0.004...</td>\n",
       "    </tr>\n",
       "    <tr>\n",
       "      <th>14915</th>\n",
       "      <td>[-0.0010185345, -0.017236805, 0.030508729, -0....</td>\n",
       "    </tr>\n",
       "    <tr>\n",
       "      <th>16415</th>\n",
       "      <td>[-0.0097744325, -0.008882094, 0.013141353, -0....</td>\n",
       "    </tr>\n",
       "  </tbody>\n",
       "</table>\n",
       "</div>"
      ],
      "text/plain": [
       "                                                  embedding\n",
       "trackids                                                   \n",
       "1         [-0.0030853231, -0.02447258, -0.028792497, 0.0...\n",
       "7159      [-0.06812119, 0.016167352, 0.0121013215, 0.060...\n",
       "13557     [-0.026385978, -0.026964271, 0.08554763, 0.004...\n",
       "14915     [-0.0010185345, -0.017236805, 0.030508729, -0....\n",
       "16415     [-0.0097744325, -0.008882094, 0.013141353, -0...."
      ]
     },
     "execution_count": 39,
     "metadata": {},
     "output_type": "execute_result"
    }
   ],
   "source": [
    "emb_6_pd.head()"
   ]
  },
  {
   "cell_type": "code",
   "execution_count": 40,
   "id": "31a3a17a-a0af-4c24-8eac-33b95af4d19d",
   "metadata": {},
   "outputs": [
    {
     "data": {
      "text/html": [
       "<div>\n",
       "<style scoped>\n",
       "    .dataframe tbody tr th:only-of-type {\n",
       "        vertical-align: middle;\n",
       "    }\n",
       "\n",
       "    .dataframe tbody tr th {\n",
       "        vertical-align: top;\n",
       "    }\n",
       "\n",
       "    .dataframe thead th {\n",
       "        text-align: right;\n",
       "    }\n",
       "</style>\n",
       "<table border=\"1\" class=\"dataframe\">\n",
       "  <thead>\n",
       "    <tr style=\"text-align: right;\">\n",
       "      <th></th>\n",
       "      <th>embedding</th>\n",
       "    </tr>\n",
       "    <tr>\n",
       "      <th>trackids</th>\n",
       "      <th></th>\n",
       "    </tr>\n",
       "  </thead>\n",
       "  <tbody>\n",
       "    <tr>\n",
       "      <th>1</th>\n",
       "      <td>[0.08058438, 0.08385501, 0.018948672, -0.03416...</td>\n",
       "    </tr>\n",
       "    <tr>\n",
       "      <th>7159</th>\n",
       "      <td>[-0.0025522916, -0.0077180434, 0.03273831, -0....</td>\n",
       "    </tr>\n",
       "    <tr>\n",
       "      <th>13557</th>\n",
       "      <td>[0.087729946, -0.04127993, 0.039063964, -0.136...</td>\n",
       "    </tr>\n",
       "    <tr>\n",
       "      <th>14915</th>\n",
       "      <td>[0.022985322, 0.0041295085, 0.019760234, -0.01...</td>\n",
       "    </tr>\n",
       "    <tr>\n",
       "      <th>16415</th>\n",
       "      <td>[0.024934666, -0.033551645, 0.010015408, 0.011...</td>\n",
       "    </tr>\n",
       "  </tbody>\n",
       "</table>\n",
       "</div>"
      ],
      "text/plain": [
       "                                                  embedding\n",
       "trackids                                                   \n",
       "1         [0.08058438, 0.08385501, 0.018948672, -0.03416...\n",
       "7159      [-0.0025522916, -0.0077180434, 0.03273831, -0....\n",
       "13557     [0.087729946, -0.04127993, 0.039063964, -0.136...\n",
       "14915     [0.022985322, 0.0041295085, 0.019760234, -0.01...\n",
       "16415     [0.024934666, -0.033551645, 0.010015408, 0.011..."
      ]
     },
     "execution_count": 40,
     "metadata": {},
     "output_type": "execute_result"
    }
   ],
   "source": [
    "emb_4_pd.head()"
   ]
  },
  {
   "cell_type": "code",
   "execution_count": 41,
   "id": "a756ae67-99b4-4014-91b2-db59e407f126",
   "metadata": {},
   "outputs": [],
   "source": [
    "def merge_dfs(df1, df2, suffix1, suffix2):\n",
    "    return df1.join(df2, how='inner', lsuffix=suffix1, rsuffix=suffix2)"
   ]
  },
  {
   "cell_type": "code",
   "execution_count": 47,
   "id": "8b3993a0-a514-4575-b9df-a8a6234f58ed",
   "metadata": {},
   "outputs": [],
   "source": [
    "# dataframes = [emb_6_pd, emb_4_pd, emb_14_pd] \n",
    "# dataframes = [emb_15_pd, emb_17_pd] \n",
    "dataframes = [emb_15_pd, emb_17_pd, emb_18_pd]\n",
    "merged_df = dataframes[0]\n",
    "\n",
    "suffixes = [f'_{i}' for i in range(len(dataframes))]\n",
    "\n",
    "for i in range(1, len(dataframes)):\n",
    "    merged_df = merged_df.join(dataframes[i], how='inner', lsuffix=suffixes[i-1], rsuffix=suffixes[i])\n",
    "\n",
    "merged_df.rename(columns={'embedding': f'embedding_{len(dataframes)}'}, inplace=True)"
   ]
  },
  {
   "cell_type": "code",
   "execution_count": 48,
   "id": "f9c89fc5-6234-47f2-9b5c-29e53fa01cf9",
   "metadata": {},
   "outputs": [
    {
     "data": {
      "text/html": [
       "<div>\n",
       "<style scoped>\n",
       "    .dataframe tbody tr th:only-of-type {\n",
       "        vertical-align: middle;\n",
       "    }\n",
       "\n",
       "    .dataframe tbody tr th {\n",
       "        vertical-align: top;\n",
       "    }\n",
       "\n",
       "    .dataframe thead th {\n",
       "        text-align: right;\n",
       "    }\n",
       "</style>\n",
       "<table border=\"1\" class=\"dataframe\">\n",
       "  <thead>\n",
       "    <tr style=\"text-align: right;\">\n",
       "      <th></th>\n",
       "      <th>embedding_0</th>\n",
       "      <th>embedding_1</th>\n",
       "      <th>embedding_3</th>\n",
       "    </tr>\n",
       "    <tr>\n",
       "      <th>trackids</th>\n",
       "      <th></th>\n",
       "      <th></th>\n",
       "      <th></th>\n",
       "    </tr>\n",
       "  </thead>\n",
       "  <tbody>\n",
       "    <tr>\n",
       "      <th>1</th>\n",
       "      <td>[0.018272612, -0.014089603, -0.040340662, -0.0...</td>\n",
       "      <td>[0.091081716, 0.012505637, -0.011082284, -0.02...</td>\n",
       "      <td>[0.09066888, 0.0798861, 0.018319473, -0.039311...</td>\n",
       "    </tr>\n",
       "    <tr>\n",
       "      <th>7159</th>\n",
       "      <td>[-0.058170993, 0.021963112, 0.017867245, 0.008...</td>\n",
       "      <td>[-0.05287865, 0.018171588, 0.021432236, 0.0584...</td>\n",
       "      <td>[-0.017877255, -0.018921899, 0.031645253, -0.0...</td>\n",
       "    </tr>\n",
       "    <tr>\n",
       "      <th>13557</th>\n",
       "      <td>[-0.0060864966, -0.0036351182, 0.07458528, -0....</td>\n",
       "      <td>[0.017754987, -0.042093378, -0.06652825, -0.05...</td>\n",
       "      <td>[0.05131675, -0.03151136, 0.039902043, -0.1274...</td>\n",
       "    </tr>\n",
       "    <tr>\n",
       "      <th>14915</th>\n",
       "      <td>[-0.0007465994, -0.011728341, 0.03194917, -0.0...</td>\n",
       "      <td>[-0.09001222, 0.061880987, 0.0017957928, -0.02...</td>\n",
       "      <td>[0.0017303933, -0.0074767605, 0.026748134, -0....</td>\n",
       "    </tr>\n",
       "    <tr>\n",
       "      <th>16415</th>\n",
       "      <td>[-0.0030945095, -0.0014259226, 0.025636166, -0...</td>\n",
       "      <td>[0.021413006, -0.02855268, -0.008170322, -0.02...</td>\n",
       "      <td>[0.004860509, -0.02693684, 0.01238834, 0.00049...</td>\n",
       "    </tr>\n",
       "  </tbody>\n",
       "</table>\n",
       "</div>"
      ],
      "text/plain": [
       "                                                embedding_0  \\\n",
       "trackids                                                      \n",
       "1         [0.018272612, -0.014089603, -0.040340662, -0.0...   \n",
       "7159      [-0.058170993, 0.021963112, 0.017867245, 0.008...   \n",
       "13557     [-0.0060864966, -0.0036351182, 0.07458528, -0....   \n",
       "14915     [-0.0007465994, -0.011728341, 0.03194917, -0.0...   \n",
       "16415     [-0.0030945095, -0.0014259226, 0.025636166, -0...   \n",
       "\n",
       "                                                embedding_1  \\\n",
       "trackids                                                      \n",
       "1         [0.091081716, 0.012505637, -0.011082284, -0.02...   \n",
       "7159      [-0.05287865, 0.018171588, 0.021432236, 0.0584...   \n",
       "13557     [0.017754987, -0.042093378, -0.06652825, -0.05...   \n",
       "14915     [-0.09001222, 0.061880987, 0.0017957928, -0.02...   \n",
       "16415     [0.021413006, -0.02855268, -0.008170322, -0.02...   \n",
       "\n",
       "                                                embedding_3  \n",
       "trackids                                                     \n",
       "1         [0.09066888, 0.0798861, 0.018319473, -0.039311...  \n",
       "7159      [-0.017877255, -0.018921899, 0.031645253, -0.0...  \n",
       "13557     [0.05131675, -0.03151136, 0.039902043, -0.1274...  \n",
       "14915     [0.0017303933, -0.0074767605, 0.026748134, -0....  \n",
       "16415     [0.004860509, -0.02693684, 0.01238834, 0.00049...  "
      ]
     },
     "execution_count": 48,
     "metadata": {},
     "output_type": "execute_result"
    }
   ],
   "source": [
    "merged_df.head()"
   ]
  },
  {
   "cell_type": "code",
   "execution_count": 49,
   "id": "b782e21d-c1c8-434c-adc1-321c14642458",
   "metadata": {},
   "outputs": [],
   "source": [
    "def average_embeddings(merged_df, weights=None):\n",
    "    # Находим все столбцы, имена которых начинаются с 'embedding_'\n",
    "    embedding_columns = [col for col in merged_df.columns if col.startswith('embedding_')]\n",
    "    \n",
    "    # Убедимся, что есть хотя бы один столбец для усреднения\n",
    "    if not embedding_columns:\n",
    "        raise ValueError(\"Нет столбцов с эмбеддингами для усреднения.\")\n",
    "    \n",
    "    # Если веса не переданы, используем равные веса\n",
    "    if weights is None:\n",
    "        weights = np.ones(len(embedding_columns))\n",
    "    elif len(weights) != len(embedding_columns):\n",
    "        raise ValueError(\"Длина списка весов должна совпадать с количеством эмбеддингов.\")\n",
    "\n",
    "    # Применяем взвешенное усреднение по найденным столбцам\n",
    "    merged_df['embedding'] = merged_df[embedding_columns].apply(\n",
    "        lambda row: np.average(row, weights=weights), axis=1\n",
    "    )"
   ]
  },
  {
   "cell_type": "code",
   "execution_count": 50,
   "id": "cfebc329-5cbe-43cd-96f5-787e80eb4483",
   "metadata": {},
   "outputs": [],
   "source": [
    "# average_embeddings(merged_df, weights=[1.0, 1.0, 0.7])\n",
    "# average_embeddings(merged_df, weights=[1.0, 0.9, 0.8])\n",
    "average_embeddings(merged_df, weights=[1.0, 0.9, 0.9])"
   ]
  },
  {
   "cell_type": "code",
   "execution_count": 51,
   "id": "c9c89608-a5c4-493c-8d83-06019fe83307",
   "metadata": {},
   "outputs": [
    {
     "data": {
      "text/html": [
       "<div>\n",
       "<style scoped>\n",
       "    .dataframe tbody tr th:only-of-type {\n",
       "        vertical-align: middle;\n",
       "    }\n",
       "\n",
       "    .dataframe tbody tr th {\n",
       "        vertical-align: top;\n",
       "    }\n",
       "\n",
       "    .dataframe thead th {\n",
       "        text-align: right;\n",
       "    }\n",
       "</style>\n",
       "<table border=\"1\" class=\"dataframe\">\n",
       "  <thead>\n",
       "    <tr style=\"text-align: right;\">\n",
       "      <th></th>\n",
       "      <th>embedding_0</th>\n",
       "      <th>embedding_1</th>\n",
       "      <th>embedding_3</th>\n",
       "      <th>embedding</th>\n",
       "    </tr>\n",
       "    <tr>\n",
       "      <th>trackids</th>\n",
       "      <th></th>\n",
       "      <th></th>\n",
       "      <th></th>\n",
       "      <th></th>\n",
       "    </tr>\n",
       "  </thead>\n",
       "  <tbody>\n",
       "    <tr>\n",
       "      <th>1</th>\n",
       "      <td>[0.018272612, -0.014089603, -0.040340662, -0.0...</td>\n",
       "      <td>[0.091081716, 0.012505637, -0.011082284, -0.02...</td>\n",
       "      <td>[0.09066888, 0.0798861, 0.018319473, -0.039311...</td>\n",
       "      <td>[0.06494577, 0.024665345, -0.012081141, -0.020...</td>\n",
       "    </tr>\n",
       "    <tr>\n",
       "      <th>7159</th>\n",
       "      <td>[-0.058170993, 0.021963112, 0.017867245, 0.008...</td>\n",
       "      <td>[-0.05287865, 0.018171588, 0.021432236, 0.0584...</td>\n",
       "      <td>[-0.017877255, -0.018921899, 0.031645253, -0.0...</td>\n",
       "      <td>[-0.043518327, 0.007602797, 0.023441778, 0.017...</td>\n",
       "    </tr>\n",
       "    <tr>\n",
       "      <th>13557</th>\n",
       "      <td>[-0.0060864966, -0.0036351182, 0.07458528, -0....</td>\n",
       "      <td>[0.017754987, -0.042093378, -0.06652825, -0.05...</td>\n",
       "      <td>[0.05131675, -0.03151136, 0.039902043, -0.1274...</td>\n",
       "      <td>[0.02002788, -0.024956923, 0.018079177, -0.059...</td>\n",
       "    </tr>\n",
       "    <tr>\n",
       "      <th>14915</th>\n",
       "      <td>[-0.0007465994, -0.011728341, 0.03194917, -0.0...</td>\n",
       "      <td>[-0.09001222, 0.061880987, 0.0017957928, -0.02...</td>\n",
       "      <td>[0.0017303933, -0.0074767605, 0.026748134, -0....</td>\n",
       "      <td>[-0.028642943, 0.01329838, 0.020585252, -0.016...</td>\n",
       "    </tr>\n",
       "    <tr>\n",
       "      <th>16415</th>\n",
       "      <td>[-0.0030945095, -0.0014259226, 0.025636166, -0...</td>\n",
       "      <td>[0.021413006, -0.02855268, -0.008170322, -0.02...</td>\n",
       "      <td>[0.004860509, -0.02693684, 0.01238834, 0.00049...</td>\n",
       "      <td>[0.0073398766, -0.018345173, 0.010511565, -0.0...</td>\n",
       "    </tr>\n",
       "  </tbody>\n",
       "</table>\n",
       "</div>"
      ],
      "text/plain": [
       "                                                embedding_0  \\\n",
       "trackids                                                      \n",
       "1         [0.018272612, -0.014089603, -0.040340662, -0.0...   \n",
       "7159      [-0.058170993, 0.021963112, 0.017867245, 0.008...   \n",
       "13557     [-0.0060864966, -0.0036351182, 0.07458528, -0....   \n",
       "14915     [-0.0007465994, -0.011728341, 0.03194917, -0.0...   \n",
       "16415     [-0.0030945095, -0.0014259226, 0.025636166, -0...   \n",
       "\n",
       "                                                embedding_1  \\\n",
       "trackids                                                      \n",
       "1         [0.091081716, 0.012505637, -0.011082284, -0.02...   \n",
       "7159      [-0.05287865, 0.018171588, 0.021432236, 0.0584...   \n",
       "13557     [0.017754987, -0.042093378, -0.06652825, -0.05...   \n",
       "14915     [-0.09001222, 0.061880987, 0.0017957928, -0.02...   \n",
       "16415     [0.021413006, -0.02855268, -0.008170322, -0.02...   \n",
       "\n",
       "                                                embedding_3  \\\n",
       "trackids                                                      \n",
       "1         [0.09066888, 0.0798861, 0.018319473, -0.039311...   \n",
       "7159      [-0.017877255, -0.018921899, 0.031645253, -0.0...   \n",
       "13557     [0.05131675, -0.03151136, 0.039902043, -0.1274...   \n",
       "14915     [0.0017303933, -0.0074767605, 0.026748134, -0....   \n",
       "16415     [0.004860509, -0.02693684, 0.01238834, 0.00049...   \n",
       "\n",
       "                                                  embedding  \n",
       "trackids                                                     \n",
       "1         [0.06494577, 0.024665345, -0.012081141, -0.020...  \n",
       "7159      [-0.043518327, 0.007602797, 0.023441778, 0.017...  \n",
       "13557     [0.02002788, -0.024956923, 0.018079177, -0.059...  \n",
       "14915     [-0.028642943, 0.01329838, 0.020585252, -0.016...  \n",
       "16415     [0.0073398766, -0.018345173, 0.010511565, -0.0...  "
      ]
     },
     "execution_count": 51,
     "metadata": {},
     "output_type": "execute_result"
    }
   ],
   "source": [
    "merged_df.head()"
   ]
  },
  {
   "cell_type": "code",
   "execution_count": 52,
   "id": "70b4ab92-8d89-49eb-8507-78397bc47ca9",
   "metadata": {},
   "outputs": [],
   "source": [
    "from sklearn.metrics import pairwise_distances_chunked"
   ]
  },
  {
   "cell_type": "code",
   "execution_count": 53,
   "id": "a77450eb-12fb-42da-b154-ab9ff5b3885b",
   "metadata": {},
   "outputs": [],
   "source": [
    "embeddings = merged_df['embedding'].tolist()\n",
    "trackids = merged_df.index.tolist()"
   ]
  },
  {
   "cell_type": "code",
   "execution_count": 54,
   "id": "eeb28a4c-041b-4ca5-a14d-22fa4685dd71",
   "metadata": {},
   "outputs": [
    {
     "name": "stderr",
     "output_type": "stream",
     "text": [
      "233it [03:01,  1.28it/s]\n"
     ]
    }
   ],
   "source": [
    "predictions = []\n",
    "for chunk_result in tqdm(pairwise_distances_chunked(\n",
    "        embeddings, metric='cosine', reduce_func=reduce_func, working_memory=100\n",
    ")):\n",
    "    for query_indx, query_nearest_items in chunk_result:\n",
    "        predictions.append((trackids[query_indx], [trackids[nn_indx] for nn_indx in query_nearest_items]))"
   ]
  },
  {
   "cell_type": "code",
   "execution_count": 55,
   "id": "a605f062-4911-43ff-909d-a91067d34bcc",
   "metadata": {},
   "outputs": [],
   "source": [
    "save_test_predictions(\n",
    "    predictions, output_dir='outputs_test', experiment_number='stacking_mean_normalized_15_17_18_1099'\n",
    ")"
   ]
  },
  {
   "cell_type": "markdown",
   "id": "10ef82d1-0795-4ac0-a138-d7ce6235c861",
   "metadata": {},
   "source": [
    "### Скоры от моделей\n",
    "\n",
    "Теперь попробуем сложить не эмбеды а скоры от моделей\n",
    "\n",
    "для этого надо изменить редьюсер, чтобы он возвращал еще и скор"
   ]
  },
  {
   "cell_type": "code",
   "execution_count": 56,
   "id": "22ccc680-198c-49c2-9ff2-a33c48a8a73a",
   "metadata": {},
   "outputs": [],
   "source": [
    "def score_reduce_func(D_chunk, start, top_size=500):\n",
    "    # Находим индексы ближайших соседей\n",
    "    nearest_items = np.argsort(D_chunk, axis=1)[:, :top_size + 1]\n",
    "    \n",
    "    # Извлекаем соответствующие косинусные расстояния\n",
    "    nearest_distances = np.take_along_axis(D_chunk, nearest_items, axis=1)\n",
    "    \n",
    "    # Возвращаем пары (индексы и близости)\n",
    "    return [\n",
    "        (i, items[items != i], 1 - nearest_distances[idx][items != i])  # 1 - расстояние для получения близости\n",
    "        for idx, (i, items) in enumerate(zip(range(start, start + D_chunk.shape[0]), nearest_items))\n",
    "    ]"
   ]
  },
  {
   "cell_type": "code",
   "execution_count": 57,
   "id": "7f79cad4-010d-488e-b580-b6658066d562",
   "metadata": {},
   "outputs": [
    {
     "name": "stderr",
     "output_type": "stream",
     "text": [
      "233it [03:06,  1.25it/s]\n"
     ]
    }
   ],
   "source": [
    "predictions_for_stack = []\n",
    "for chunk_result in tqdm(pairwise_distances_chunked(\n",
    "        embeddings, metric='cosine', reduce_func=score_reduce_func, working_memory=100\n",
    ")):\n",
    "    for query_indx, query_nearest_items, query_similarities in chunk_result:\n",
    "        # Добавляем результаты: (ID трека запроса, [ID соседей], [косинусные близости соседей])\n",
    "        predictions_for_stack.append(\n",
    "            (trackids[query_indx],\n",
    "             [trackids[nn_indx] for nn_indx in query_nearest_items],\n",
    "             query_similarities.tolist())  # Преобразуем близости в список\n",
    "        )"
   ]
  },
  {
   "cell_type": "code",
   "execution_count": 58,
   "id": "5349b440-ce79-41ef-a5a6-ee7f4569c076",
   "metadata": {},
   "outputs": [],
   "source": [
    "result_dict = {}\n",
    "\n",
    "# Проходимся по списку predictions и заполняем словарь\n",
    "for track_id, candidate_ids, similarities in predictions_for_stack:\n",
    "    # Создаем пары (candidate_id, similarity) и добавляем в словарь\n",
    "    result_dict[track_id] = list(zip(candidate_ids, similarities))\n"
   ]
  },
  {
   "cell_type": "code",
   "execution_count": 65,
   "id": "c26c9ead-84b9-402e-ba8b-5fca1ae44272",
   "metadata": {},
   "outputs": [
    {
     "data": {
      "text/plain": [
       "500"
      ]
     },
     "execution_count": 65,
     "metadata": {},
     "output_type": "execute_result"
    }
   ],
   "source": [
    "len(result_dict[1])"
   ]
  },
  {
   "cell_type": "code",
   "execution_count": 62,
   "id": "90f83395-815b-4e0e-a8d2-3687b0244e69",
   "metadata": {},
   "outputs": [],
   "source": [
    "import pickle"
   ]
  },
  {
   "cell_type": "code",
   "execution_count": 64,
   "id": "2ef07dad-e46a-4066-bf79-f53f2403d776",
   "metadata": {},
   "outputs": [],
   "source": [
    "with open(\"result_15_17_18.pkl\", \"wb\") as file:\n",
    "    pickle.dump(result_dict, file)"
   ]
  },
  {
   "cell_type": "code",
   "execution_count": null,
   "id": "e7e297d8-61d4-4f2c-b7e0-a45bd19b9c7f",
   "metadata": {},
   "outputs": [],
   "source": []
  },
  {
   "cell_type": "code",
   "execution_count": null,
   "id": "f777a446-7a66-4bc8-bbd7-32e380c83988",
   "metadata": {},
   "outputs": [],
   "source": []
  },
  {
   "cell_type": "code",
   "execution_count": null,
   "id": "79ab4601-c075-48da-98e6-58a433de1471",
   "metadata": {},
   "outputs": [],
   "source": []
  },
  {
   "cell_type": "code",
   "execution_count": null,
   "id": "9c74cb52-ebb4-401d-9f8c-90b83890d0cf",
   "metadata": {},
   "outputs": [],
   "source": []
  },
  {
   "cell_type": "code",
   "execution_count": null,
   "id": "7063ee5e-4ac4-4242-ac17-e160b9a37283",
   "metadata": {},
   "outputs": [],
   "source": []
  },
  {
   "cell_type": "code",
   "execution_count": null,
   "id": "73bcf627-0d58-4ff1-85e3-ead43db8d82a",
   "metadata": {},
   "outputs": [],
   "source": []
  },
  {
   "cell_type": "code",
   "execution_count": null,
   "id": "c2f3d923-e31b-43b6-98d7-ab6ee6376b48",
   "metadata": {},
   "outputs": [],
   "source": []
  },
  {
   "cell_type": "code",
   "execution_count": null,
   "id": "cbbe6775-78c6-4508-990e-8739df42723b",
   "metadata": {},
   "outputs": [],
   "source": []
  }
 ],
 "metadata": {
  "kernelspec": {
   "display_name": "Python 3.10",
   "language": "python",
   "name": "dl24"
  },
  "language_info": {
   "codemirror_mode": {
    "name": "ipython",
    "version": 3
   },
   "file_extension": ".py",
   "mimetype": "text/x-python",
   "name": "python",
   "nbconvert_exporter": "python",
   "pygments_lexer": "ipython3",
   "version": "3.10.15"
  }
 },
 "nbformat": 4,
 "nbformat_minor": 5
}
