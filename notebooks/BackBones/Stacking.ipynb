{
 "cells": [
  {
   "cell_type": "code",
   "execution_count": 1,
   "id": "923102dc-4bcc-46fe-ba77-afdc8dcc9db1",
   "metadata": {},
   "outputs": [],
   "source": [
    "import sys\n",
    "import os\n",
    "\n",
    "PROJECT_DIR = '/home/evgenshuben/Desktop/gitReps/YandexCup/'\n",
    "sys.path.append(PROJECT_DIR)\n",
    "os.chdir(PROJECT_DIR)"
   ]
  },
  {
   "cell_type": "code",
   "execution_count": 2,
   "id": "e532318b-6d8a-486b-85fc-e424baf84ee1",
   "metadata": {},
   "outputs": [],
   "source": [
    "from omegaconf import DictConfig, OmegaConf\n",
    "import hydra\n",
    "from hydra import initialize, compose, initialize_config_dir\n",
    "from hydra.utils import instantiate\n",
    "\n",
    "import torch.nn as nn\n",
    "import torch\n",
    "import torch.nn.functional as F\n",
    "import pandas as pd\n",
    "import numpy as np\n",
    "from tqdm import tqdm\n",
    "from functools import reduce"
   ]
  },
  {
   "cell_type": "code",
   "execution_count": 3,
   "id": "45d4a5fa-2a45-401e-8b47-b533e75f8ee4",
   "metadata": {},
   "outputs": [],
   "source": [
    "%load_ext autoreload\n",
    "%autoreload 2\n",
    "\n",
    "from scr.train import Trainer\n",
    "from scr.utils import (reduce_func, save_test_predictions)"
   ]
  },
  {
   "cell_type": "markdown",
   "id": "d650ad39-54fe-4883-8f8b-e72af181f7dc",
   "metadata": {},
   "source": [
    "# info\n",
    "\n",
    "Тут попробуем сделать стекинг нескольких моделей предобученных\n",
    "\n",
    "Пробую взять вектора от моделей на тесте и усреднить их просто\n",
    "\n",
    "Написал функцию для сохранения тестовых эмбеддингов"
   ]
  },
  {
   "cell_type": "markdown",
   "id": "abdfd53a-a97e-4528-9942-3562ab9b7bad",
   "metadata": {},
   "source": [
    "# Load config"
   ]
  },
  {
   "cell_type": "code",
   "execution_count": 4,
   "id": "a1c7503e-f628-479d-8046-ba2c40cf5829",
   "metadata": {},
   "outputs": [],
   "source": [
    "# config_dir = '/home/evgenshuben/Desktop/gitReps/YandexCup/configs'\n",
    "# config_name = 'config'\n",
    "\n",
    "\n",
    "# with initialize_config_dir(config_dir=config_dir, version_base=None):\n",
    "#     cfg = compose(config_name=config_name)\n",
    "#     # cfg['dataset']['train']['train']['dataset_path']"
   ]
  },
  {
   "cell_type": "code",
   "execution_count": 5,
   "id": "b58753b4-d6bd-4a2a-ade6-7912830e1fda",
   "metadata": {},
   "outputs": [
    {
     "data": {
      "text/plain": [
       "{'_target_': 'scr.models.cnn.CNN1d', 'emb_size': 512, 'num_classes': '${num_classes}', 'input_norm': True}"
      ]
     },
     "execution_count": 5,
     "metadata": {},
     "output_type": "execute_result"
    }
   ],
   "source": [
    "# # Путь к конфигурационному файлу, сохраненному Hydra\n",
    "# config_path = \"/home/evgenshuben/Desktop/gitReps/YandexCup/outputs_val/run-2/hydra/.hydra/config.yaml\"\n",
    "\n",
    "\n",
    "\n",
    "# cfg = OmegaConf.load(config_path)\n",
    "# cfg.enviroment.device = 'cpu'\n",
    "# cfg.model"
   ]
  },
  {
   "cell_type": "code",
   "execution_count": 5,
   "id": "cc95eb82-c1ac-4c80-919f-17db6fcb8fe9",
   "metadata": {},
   "outputs": [],
   "source": [
    "# trainer = Trainer(cfg)"
   ]
  },
  {
   "cell_type": "markdown",
   "id": "712d044b-315d-4238-bb0e-dfd08d18ecee",
   "metadata": {},
   "source": [
    "### embeddings calculate\n",
    "\n",
    "Насчитаем эмбеддинги на каждой сильной модели"
   ]
  },
  {
   "cell_type": "markdown",
   "id": "31bd3ea5-cf87-4efc-854a-4949afa95af5",
   "metadata": {},
   "source": [
    "###### 6"
   ]
  },
  {
   "cell_type": "code",
   "execution_count": 6,
   "id": "b73a4ea9-20fb-4220-8270-25a2431f26ef",
   "metadata": {},
   "outputs": [],
   "source": [
    "# # Путь к конфигурационному файлу, сохраненному Hydra\n",
    "# config_path = \"/home/evgenshuben/Desktop/gitReps/YandexCup/outputs_val/run-6/hydra/.hydra/config.yaml\"\n",
    "# cfg = OmegaConf.load(config_path)\n",
    "# # cfg.enviroment.device = 'cpu'\n",
    "# cfg.model"
   ]
  },
  {
   "cell_type": "code",
   "execution_count": 7,
   "id": "6275c582-1a0f-4851-83b6-380d178601a9",
   "metadata": {},
   "outputs": [],
   "source": [
    "# trainer = Trainer(cfg)"
   ]
  },
  {
   "cell_type": "code",
   "execution_count": 8,
   "id": "1e195a1b-b2b7-44d0-8eb3-bb032b1acb77",
   "metadata": {},
   "outputs": [],
   "source": [
    "# %%time\n",
    "# trainer.test_embeddings()"
   ]
  },
  {
   "cell_type": "markdown",
   "id": "3ab4d259-5275-45a0-978e-5ab7b6eeeb91",
   "metadata": {},
   "source": [
    "###### 4"
   ]
  },
  {
   "cell_type": "code",
   "execution_count": 9,
   "id": "4babc0a6-982f-4179-bdc1-19cb7817064e",
   "metadata": {},
   "outputs": [],
   "source": [
    "# # Путь к конфигурационному файлу, сохраненному Hydra\n",
    "# config_path = \"/home/evgenshuben/Desktop/gitReps/YandexCup/outputs_val/run-4/hydra/.hydra/config.yaml\"\n",
    "# cfg = OmegaConf.load(config_path)\n",
    "# # cfg.enviroment.device = 'cpu'\n",
    "# cfg.model"
   ]
  },
  {
   "cell_type": "code",
   "execution_count": 10,
   "id": "65c6af22-a9b2-42eb-b1a9-ace78a04fafc",
   "metadata": {},
   "outputs": [],
   "source": [
    "# trainer = Trainer(cfg)"
   ]
  },
  {
   "cell_type": "code",
   "execution_count": 11,
   "id": "d375be07-2f80-48ce-aea8-7b83b26e4e55",
   "metadata": {},
   "outputs": [],
   "source": [
    "# %%time\n",
    "# trainer.test_embeddings()"
   ]
  },
  {
   "cell_type": "markdown",
   "id": "72144745-0dee-4eec-a14c-b3556865316e",
   "metadata": {},
   "source": [
    "###### 14"
   ]
  },
  {
   "cell_type": "code",
   "execution_count": 12,
   "id": "f9673dee-1676-4d71-9b21-cbd0fcff039a",
   "metadata": {},
   "outputs": [],
   "source": [
    "# # Путь к конфигурационному файлу, сохраненному Hydra\n",
    "# config_path = \"/home/evgenshuben/Desktop/gitReps/YandexCup/outputs_val/run-14/hydra/.hydra/config.yaml\"\n",
    "# cfg = OmegaConf.load(config_path)\n",
    "# # cfg.enviroment.device = 'cpu'\n",
    "# cfg.model"
   ]
  },
  {
   "cell_type": "code",
   "execution_count": 13,
   "id": "4671cae9-1a37-4601-b468-c36dac1c4827",
   "metadata": {},
   "outputs": [],
   "source": [
    "# trainer = Trainer(cfg)"
   ]
  },
  {
   "cell_type": "code",
   "execution_count": 14,
   "id": "3a07f42f-4a25-4115-a1d2-31b244a3ec9f",
   "metadata": {},
   "outputs": [],
   "source": [
    "# %%time\n",
    "# trainer.test_embeddings()"
   ]
  },
  {
   "cell_type": "markdown",
   "id": "8f57d953-8bd2-4230-a7b7-b0b9befb6a86",
   "metadata": {},
   "source": [
    "###### 15"
   ]
  },
  {
   "cell_type": "code",
   "execution_count": 31,
   "id": "ef4fee64-d357-47ab-a552-e52183250b08",
   "metadata": {},
   "outputs": [
    {
     "name": "stdout",
     "output_type": "stream",
     "text": [
      "hgnetv2_b4.ssld_stage2_ft_in1k\n",
      "/home/evgenshuben/Desktop/gitReps/YandexCup/outputs_val/run-15/data/model/best-model-epoch=1-max_secs=50.pt\n"
     ]
    }
   ],
   "source": [
    "# Путь к конфигурационному файлу, сохраненному Hydra\n",
    "config_path = \"/home/evgenshuben/Desktop/gitReps/YandexCup/outputs_val/run-15/hydra/.hydra/config.yaml\"\n",
    "cfg = OmegaConf.load(config_path)\n",
    "# cfg.enviroment.device = 'cpu'\n",
    "print(cfg.model.backbone_name)\n",
    "print(cfg.pipeline.model_ckpt)"
   ]
  },
  {
   "cell_type": "code",
   "execution_count": 32,
   "id": "8944e062-da03-44cc-8887-5da24efe1174",
   "metadata": {},
   "outputs": [
    {
     "name": "stderr",
     "output_type": "stream",
     "text": [
      "/home/evgenshuben/Desktop/gitReps/YandexCup/scr/train.py:51: FutureWarning: You are using `torch.load` with `weights_only=False` (the current default value), which uses the default pickle module implicitly. It is possible to construct malicious pickle data which will execute arbitrary code during unpickling (See https://github.com/pytorch/pytorch/blob/main/SECURITY.md#untrusted-models for more details). In a future release, the default value for `weights_only` will be flipped to `True`. This limits the functions that could be executed during unpickling. Arbitrary objects will no longer be allowed to be loaded via this mode unless they are explicitly allowlisted by the user via `torch.serialization.add_safe_globals`. We recommend you start setting `weights_only=True` for any use case where you don't have full control of the loaded file. Please open an issue on GitHub for any issues related to this experimental feature.\n",
      "  self.model.load_state_dict(torch.load(self.cfg.pipeline.model_ckpt), strict=False)\n"
     ]
    }
   ],
   "source": [
    "trainer = Trainer(cfg)"
   ]
  },
  {
   "cell_type": "code",
   "execution_count": 33,
   "id": "b95bd512-3617-4251-b7be-2dda331c0829",
   "metadata": {},
   "outputs": [
    {
     "name": "stderr",
     "output_type": "stream",
     "text": [
      "100%|██████████| 55170/55170 [05:07<00:00, 179.37it/s]\n"
     ]
    },
    {
     "name": "stdout",
     "output_type": "stream",
     "text": [
      "CPU times: user 5min 7s, sys: 24.5 s, total: 5min 31s\n",
      "Wall time: 5min 8s\n"
     ]
    }
   ],
   "source": [
    "%%time\n",
    "trainer.test_embeddings()"
   ]
  },
  {
   "cell_type": "markdown",
   "id": "39aad27b-bb8f-44fd-bdaf-12b9af38adcc",
   "metadata": {},
   "source": [
    "###### 17"
   ]
  },
  {
   "cell_type": "code",
   "execution_count": 10,
   "id": "3f77c951-f951-420f-90d7-1e4379bd6941",
   "metadata": {},
   "outputs": [
    {
     "name": "stdout",
     "output_type": "stream",
     "text": [
      "edgenext_base.in21k_ft_in1k\n",
      "/home/evgenshuben/Desktop/gitReps/YandexCup/outputs_val/run-17/data/model/best-model-epoch=1-max_secs=50.pt\n"
     ]
    }
   ],
   "source": [
    "# Путь к конфигурационному файлу, сохраненному Hydra\n",
    "config_path = \"/home/evgenshuben/Desktop/gitReps/YandexCup/outputs_val/run-17/hydra/.hydra/config.yaml\"\n",
    "cfg = OmegaConf.load(config_path)\n",
    "# cfg.enviroment.device = 'cpu'\n",
    "print(cfg.model.backbone_name)\n",
    "print(cfg.pipeline.model_ckpt)"
   ]
  },
  {
   "cell_type": "code",
   "execution_count": 5,
   "id": "a1f9c5a4-357c-442d-8126-5fe1765d7126",
   "metadata": {},
   "outputs": [
    {
     "name": "stderr",
     "output_type": "stream",
     "text": [
      "/home/evgenshuben/Desktop/gitReps/YandexCup/scr/train.py:51: FutureWarning: You are using `torch.load` with `weights_only=False` (the current default value), which uses the default pickle module implicitly. It is possible to construct malicious pickle data which will execute arbitrary code during unpickling (See https://github.com/pytorch/pytorch/blob/main/SECURITY.md#untrusted-models for more details). In a future release, the default value for `weights_only` will be flipped to `True`. This limits the functions that could be executed during unpickling. Arbitrary objects will no longer be allowed to be loaded via this mode unless they are explicitly allowlisted by the user via `torch.serialization.add_safe_globals`. We recommend you start setting `weights_only=True` for any use case where you don't have full control of the loaded file. Please open an issue on GitHub for any issues related to this experimental feature.\n",
      "  self.model.load_state_dict(torch.load(self.cfg.pipeline.model_ckpt), strict=False)\n"
     ]
    }
   ],
   "source": [
    "trainer = Trainer(cfg)"
   ]
  },
  {
   "cell_type": "code",
   "execution_count": 6,
   "id": "4cec6ceb-9edd-4667-aed1-3e5b8378de7c",
   "metadata": {},
   "outputs": [
    {
     "name": "stderr",
     "output_type": "stream",
     "text": [
      "100%|██████████| 55170/55170 [05:20<00:00, 172.15it/s]\n"
     ]
    },
    {
     "name": "stdout",
     "output_type": "stream",
     "text": [
      "CPU times: user 5min 20s, sys: 24.3 s, total: 5min 45s\n",
      "Wall time: 5min 20s\n"
     ]
    }
   ],
   "source": [
    "%%time\n",
    "trainer.test_embeddings()"
   ]
  },
  {
   "cell_type": "markdown",
   "id": "b5cd4e52-d32b-442a-93f6-c947bfd43f15",
   "metadata": {},
   "source": [
    "###### 18"
   ]
  },
  {
   "cell_type": "code",
   "execution_count": 4,
   "id": "e65c51e6-46b0-47d0-8bb9-8e2388a0aaf1",
   "metadata": {},
   "outputs": [
    {
     "name": "stdout",
     "output_type": "stream",
     "text": [
      "tf_efficientnet_b4.ns_jft_in1k\n",
      "/home/evgenshuben/Desktop/gitReps/YandexCup/outputs_val/run-18/data/model/best-model-epoch=0-max_secs=50.pt\n"
     ]
    }
   ],
   "source": [
    "# Путь к конфигурационному файлу, сохраненному Hydra\n",
    "config_path = \"/home/evgenshuben/Desktop/gitReps/YandexCup/outputs_val/run-18/hydra/.hydra/config.yaml\"\n",
    "cfg = OmegaConf.load(config_path)\n",
    "# cfg.enviroment.device = 'cpu'\n",
    "print(cfg.model.backbone_name)\n",
    "print(cfg.pipeline.model_ckpt)"
   ]
  },
  {
   "cell_type": "code",
   "execution_count": 5,
   "id": "6e863a88-17b1-4bf6-ac36-4c410470b355",
   "metadata": {},
   "outputs": [
    {
     "name": "stderr",
     "output_type": "stream",
     "text": [
      "/home/evgenshuben/Desktop/gitReps/YandexCup/scr/train.py:51: FutureWarning: You are using `torch.load` with `weights_only=False` (the current default value), which uses the default pickle module implicitly. It is possible to construct malicious pickle data which will execute arbitrary code during unpickling (See https://github.com/pytorch/pytorch/blob/main/SECURITY.md#untrusted-models for more details). In a future release, the default value for `weights_only` will be flipped to `True`. This limits the functions that could be executed during unpickling. Arbitrary objects will no longer be allowed to be loaded via this mode unless they are explicitly allowlisted by the user via `torch.serialization.add_safe_globals`. We recommend you start setting `weights_only=True` for any use case where you don't have full control of the loaded file. Please open an issue on GitHub for any issues related to this experimental feature.\n",
      "  self.model.load_state_dict(torch.load(self.cfg.pipeline.model_ckpt), strict=False)\n"
     ]
    }
   ],
   "source": [
    "trainer = Trainer(cfg)"
   ]
  },
  {
   "cell_type": "code",
   "execution_count": 6,
   "id": "d1cf73b6-34fd-4443-9406-85311fd29985",
   "metadata": {},
   "outputs": [
    {
     "name": "stderr",
     "output_type": "stream",
     "text": [
      "100%|██████████| 55170/55170 [08:55<00:00, 103.05it/s]\n"
     ]
    },
    {
     "name": "stdout",
     "output_type": "stream",
     "text": [
      "CPU times: user 8min 55s, sys: 26.9 s, total: 9min 22s\n",
      "Wall time: 8min 55s\n"
     ]
    }
   ],
   "source": [
    "%%time\n",
    "trainer.test_embeddings()"
   ]
  },
  {
   "cell_type": "markdown",
   "id": "d9dc3b68-e27d-409a-bd1f-ab4d728703fc",
   "metadata": {},
   "source": [
    "###### 21"
   ]
  },
  {
   "cell_type": "code",
   "execution_count": 9,
   "id": "670c4faa-5f0e-455c-a112-037eb151b4ab",
   "metadata": {},
   "outputs": [
    {
     "name": "stdout",
     "output_type": "stream",
     "text": [
      "rexnetr_300.sw_in12k_ft_in1k\n",
      "/home/evgenshuben/Desktop/gitReps/YandexCup/outputs_val/run-21/data/model/best-model-epoch=0-max_secs=50.pt\n"
     ]
    }
   ],
   "source": [
    "# Путь к конфигурационному файлу, сохраненному Hydra\n",
    "config_path = \"/home/evgenshuben/Desktop/gitReps/YandexCup/outputs_val/run-21/hydra/.hydra/config.yaml\"\n",
    "cfg = OmegaConf.load(config_path)\n",
    "# cfg.enviroment.device = 'cpu'\n",
    "print(cfg.model.backbone_name)\n",
    "print(cfg.pipeline.model_ckpt)"
   ]
  },
  {
   "cell_type": "code",
   "execution_count": 10,
   "id": "67fb49ce-a080-4165-88c6-5f350810d37c",
   "metadata": {},
   "outputs": [
    {
     "name": "stderr",
     "output_type": "stream",
     "text": [
      "/home/evgenshuben/Desktop/gitReps/YandexCup/scr/train.py:51: FutureWarning: You are using `torch.load` with `weights_only=False` (the current default value), which uses the default pickle module implicitly. It is possible to construct malicious pickle data which will execute arbitrary code during unpickling (See https://github.com/pytorch/pytorch/blob/main/SECURITY.md#untrusted-models for more details). In a future release, the default value for `weights_only` will be flipped to `True`. This limits the functions that could be executed during unpickling. Arbitrary objects will no longer be allowed to be loaded via this mode unless they are explicitly allowlisted by the user via `torch.serialization.add_safe_globals`. We recommend you start setting `weights_only=True` for any use case where you don't have full control of the loaded file. Please open an issue on GitHub for any issues related to this experimental feature.\n",
      "  self.model.load_state_dict(torch.load(self.cfg.pipeline.model_ckpt), strict=False)\n"
     ]
    }
   ],
   "source": [
    "trainer = Trainer(cfg)"
   ]
  },
  {
   "cell_type": "code",
   "execution_count": 11,
   "id": "ee255c4a-6e7f-4fc6-9faf-72951103211a",
   "metadata": {},
   "outputs": [
    {
     "name": "stderr",
     "output_type": "stream",
     "text": [
      "100%|██████████| 55170/55170 [05:45<00:00, 159.82it/s]\n"
     ]
    },
    {
     "name": "stdout",
     "output_type": "stream",
     "text": [
      "CPU times: user 5min 34s, sys: 26 s, total: 5min 59s\n",
      "Wall time: 5min 45s\n"
     ]
    }
   ],
   "source": [
    "%%time\n",
    "trainer.test_embeddings()"
   ]
  },
  {
   "cell_type": "markdown",
   "id": "61e35571-5ee7-4269-917d-93d94cbdc0ce",
   "metadata": {},
   "source": [
    "###### 22"
   ]
  },
  {
   "cell_type": "code",
   "execution_count": 12,
   "id": "46e62e92-ca6b-4382-b16f-b6caaf82067a",
   "metadata": {},
   "outputs": [
    {
     "name": "stdout",
     "output_type": "stream",
     "text": [
      "efficientnet_b5.sw_in12k_ft_in1k\n",
      "/home/evgenshuben/Desktop/gitReps/YandexCup/outputs_val/run-22/data/model/best-model-epoch=0-max_secs=50.pt\n"
     ]
    }
   ],
   "source": [
    "# Путь к конфигурационному файлу, сохраненному Hydra\n",
    "config_path = \"/home/evgenshuben/Desktop/gitReps/YandexCup/outputs_val/run-22/hydra/.hydra/config.yaml\"\n",
    "cfg = OmegaConf.load(config_path)\n",
    "# cfg.enviroment.device = 'cpu'\n",
    "print(cfg.model.backbone_name)\n",
    "print(cfg.pipeline.model_ckpt)"
   ]
  },
  {
   "cell_type": "code",
   "execution_count": 13,
   "id": "90ab9810-580f-4648-97f8-2e1312bacae6",
   "metadata": {},
   "outputs": [
    {
     "name": "stderr",
     "output_type": "stream",
     "text": [
      "/home/evgenshuben/Desktop/gitReps/YandexCup/scr/train.py:51: FutureWarning: You are using `torch.load` with `weights_only=False` (the current default value), which uses the default pickle module implicitly. It is possible to construct malicious pickle data which will execute arbitrary code during unpickling (See https://github.com/pytorch/pytorch/blob/main/SECURITY.md#untrusted-models for more details). In a future release, the default value for `weights_only` will be flipped to `True`. This limits the functions that could be executed during unpickling. Arbitrary objects will no longer be allowed to be loaded via this mode unless they are explicitly allowlisted by the user via `torch.serialization.add_safe_globals`. We recommend you start setting `weights_only=True` for any use case where you don't have full control of the loaded file. Please open an issue on GitHub for any issues related to this experimental feature.\n",
      "  self.model.load_state_dict(torch.load(self.cfg.pipeline.model_ckpt), strict=False)\n"
     ]
    }
   ],
   "source": [
    "trainer = Trainer(cfg)"
   ]
  },
  {
   "cell_type": "code",
   "execution_count": 14,
   "id": "b3062c21-0a38-42bc-a046-96e9a64d15dd",
   "metadata": {},
   "outputs": [
    {
     "name": "stderr",
     "output_type": "stream",
     "text": [
      "100%|██████████| 55170/55170 [10:08<00:00, 90.69it/s]\n"
     ]
    },
    {
     "name": "stdout",
     "output_type": "stream",
     "text": [
      "CPU times: user 10min 8s, sys: 27.4 s, total: 10min 35s\n",
      "Wall time: 10min 8s\n"
     ]
    }
   ],
   "source": [
    "%%time\n",
    "trainer.test_embeddings()"
   ]
  },
  {
   "cell_type": "code",
   "execution_count": 85,
   "id": "b98a8b15-0fdc-4b2f-89ca-bed292962973",
   "metadata": {},
   "outputs": [
    {
     "data": {
      "text/plain": [
       "<scr.train.Trainer at 0x77f7c9103d00>"
      ]
     },
     "execution_count": 85,
     "metadata": {},
     "output_type": "execute_result"
    }
   ],
   "source": [
    "trainer.train_dataloader"
   ]
  },
  {
   "cell_type": "markdown",
   "id": "19ec2f12-c02b-4f0c-8599-7a55b0cbc5f8",
   "metadata": {},
   "source": [
    "###### 26"
   ]
  },
  {
   "cell_type": "code",
   "execution_count": null,
   "id": "ae0df9d6-bb5a-4cf1-a07c-f0d65edc064d",
   "metadata": {},
   "outputs": [],
   "source": [
    "# # Путь к конфигурационному файлу, сохраненному Hydra\n",
    "# config_path = \"/home/evgenshuben/Desktop/gitReps/YandexCup/outputs_val/run-26/hydra/.hydra/config.yaml\"\n",
    "# cfg = OmegaConf.load(config_path)\n",
    "# # cfg.enviroment.device = 'cpu'\n",
    "# print(cfg.model.backbone_name)\n",
    "# print(cfg.pipeline.model_ckpt)"
   ]
  },
  {
   "cell_type": "code",
   "execution_count": null,
   "id": "80e72598-302a-41da-96f3-20f36a3e5b13",
   "metadata": {},
   "outputs": [],
   "source": [
    "# trainer = Trainer(cfg)"
   ]
  },
  {
   "cell_type": "code",
   "execution_count": null,
   "id": "b6ecd20f-b237-47ef-9dc9-433ece3c4ae0",
   "metadata": {},
   "outputs": [],
   "source": [
    "# %%time\n",
    "# trainer.test_embeddings()"
   ]
  },
  {
   "cell_type": "markdown",
   "id": "69c2094a-c718-416f-80a3-9d435365df9e",
   "metadata": {},
   "source": [
    "###### 27"
   ]
  },
  {
   "cell_type": "code",
   "execution_count": null,
   "id": "af933f4f-3a51-491d-b7f5-21b3b656bc35",
   "metadata": {},
   "outputs": [],
   "source": [
    "# # Путь к конфигурационному файлу, сохраненному Hydra\n",
    "# config_path = \"/home/evgenshuben/Desktop/gitReps/YandexCup/outputs_val/run-27/hydra/.hydra/config.yaml\"\n",
    "# cfg = OmegaConf.load(config_path)\n",
    "# # cfg.enviroment.device = 'cpu'\n",
    "# print(cfg.model.backbone_name)\n",
    "# print(cfg.pipeline.model_ckpt)"
   ]
  },
  {
   "cell_type": "code",
   "execution_count": null,
   "id": "f732a4d2-5728-417f-b7ca-70b8ba347c44",
   "metadata": {},
   "outputs": [],
   "source": [
    "# trainer = Trainer(cfg)"
   ]
  },
  {
   "cell_type": "code",
   "execution_count": null,
   "id": "edb574a9-48c0-466e-9227-e42dc0217b4c",
   "metadata": {},
   "outputs": [],
   "source": [
    "# %%time\n",
    "# trainer.test_embeddings()"
   ]
  },
  {
   "cell_type": "markdown",
   "id": "12116e6d-2761-48c7-a06a-2fd8db5d086c",
   "metadata": {},
   "source": [
    "###### 28"
   ]
  },
  {
   "cell_type": "code",
   "execution_count": null,
   "id": "8f21baad-b64d-4c3e-a379-046c2a2490aa",
   "metadata": {},
   "outputs": [],
   "source": [
    "# # Путь к конфигурационному файлу, сохраненному Hydra\n",
    "# config_path = \"/home/evgenshuben/Desktop/gitReps/YandexCup/outputs_val/run-28/hydra/.hydra/config.yaml\"\n",
    "# cfg = OmegaConf.load(config_path)\n",
    "# # cfg.enviroment.device = 'cpu'\n",
    "# print(cfg.model.backbone_name)\n",
    "# print(cfg.pipeline.model_ckpt)"
   ]
  },
  {
   "cell_type": "code",
   "execution_count": null,
   "id": "2be4a740-a456-4408-83e4-11e605a12c88",
   "metadata": {},
   "outputs": [],
   "source": [
    "# trainer = Trainer(cfg)"
   ]
  },
  {
   "cell_type": "code",
   "execution_count": null,
   "id": "39e82b3d-9da7-4606-a2a8-72c2ef7c8a06",
   "metadata": {},
   "outputs": [],
   "source": [
    "# %%time\n",
    "# trainer.test_embeddings()"
   ]
  },
  {
   "cell_type": "markdown",
   "id": "ff276650-c20c-44b4-a0f9-a8d01358248f",
   "metadata": {},
   "source": [
    "### Embeddings pooling\n",
    "\n",
    "Тут попробую усреднить эмбеды от предобученных моделей\n",
    "с нормировкой эмбедов\n",
    "\n",
    "Нужно указать файл с тестов от моделей"
   ]
  },
  {
   "cell_type": "code",
   "execution_count": 15,
   "id": "62bc6057-d422-469a-9faf-7fb2136032e0",
   "metadata": {},
   "outputs": [],
   "source": [
    "# emb_6_pd = pd.read_parquet('/home/evgenshuben/Desktop/gitReps/YandexCup/outputs_val/run-6/data/test_embeddings.pq')\n",
    "# emb_4_pd = pd.read_parquet('/home/evgenshuben/Desktop/gitReps/YandexCup/outputs_val/run-4/data/test_embeddings.pq')\n",
    "# emb_14_pd = pd.read_parquet('/home/evgenshuben/Desktop/gitReps/YandexCup/outputs_val/run-14/data/test_embeddings.pq')\n",
    "emb_15_pd = pd.read_parquet('/home/evgenshuben/Desktop/gitReps/YandexCup/outputs_val/run-15/data/test_embeddings.pq')\n",
    "emb_17_pd = pd.read_parquet('/home/evgenshuben/Desktop/gitReps/YandexCup/outputs_val/run-17/data/test_embeddings.pq')\n",
    "emb_18_pd = pd.read_parquet('/home/evgenshuben/Desktop/gitReps/YandexCup/outputs_val/run-18/data/test_embeddings.pq')\n",
    "emb_21_pd = pd.read_parquet('/home/evgenshuben/Desktop/gitReps/YandexCup/outputs_val/run-21/data/test_embeddings.pq')\n",
    "emb_22_pd = pd.read_parquet('/home/evgenshuben/Desktop/gitReps/YandexCup/outputs_val/run-22/data/test_embeddings.pq')\n",
    "\n",
    "# emb_26_pd = pd.read_parquet('/home/evgenshuben/Desktop/gitReps/YandexCup/outputs_val/run-26/data/test_embeddings.pq')\n",
    "# emb_27_pd = pd.read_parquet('/home/evgenshuben/Desktop/gitReps/YandexCup/outputs_val/run-27/data/test_embeddings.pq')\n",
    "# emb_28_pd = pd.read_parquet('/home/evgenshuben/Desktop/gitReps/YandexCup/outputs_val/run-28/data/test_embeddings.pq')"
   ]
  },
  {
   "cell_type": "code",
   "execution_count": 19,
   "id": "318cfdb8-168d-467f-9cbe-2c0b62a4bbdc",
   "metadata": {},
   "outputs": [],
   "source": [
    "from sklearn.preprocessing import normalize\n",
    "\n",
    "def normalize_embeddings(embedding):\n",
    "    return embedding / np.linalg.norm(embedding)"
   ]
  },
  {
   "cell_type": "code",
   "execution_count": 20,
   "id": "9fdf39e0-b659-4e8c-99ad-660275377176",
   "metadata": {},
   "outputs": [],
   "source": [
    "# emb_6_pd['embedding'] = emb_6_pd['embedding'].apply(normalize_embeddings)\n",
    "# emb_4_pd['embedding'] = emb_4_pd['embedding'].apply(normalize_embeddings)\n",
    "# emb_14_pd['embedding'] = emb_14_pd['embedding'].apply(normalize_embeddings)\n",
    "\n",
    "\n",
    "emb_15_pd['embedding'] = emb_15_pd['embedding'].apply(normalize_embeddings)\n",
    "emb_17_pd['embedding'] = emb_17_pd['embedding'].apply(normalize_embeddings)\n",
    "emb_18_pd['embedding'] = emb_18_pd['embedding'].apply(normalize_embeddings)\n",
    "emb_21_pd['embedding'] = emb_21_pd['embedding'].apply(normalize_embeddings)\n",
    "emb_22_pd['embedding'] = emb_22_pd['embedding'].apply(normalize_embeddings)\n",
    "\n",
    "\n",
    "# emb_26_pd['embedding'] = emb_26_pd['embedding'].apply(normalize_embeddings)\n",
    "# emb_27_pd['embedding'] = emb_27_pd['embedding'].apply(normalize_embeddings)\n",
    "# emb_28_pd['embedding'] = emb_28_pd['embedding'].apply(normalize_embeddings)"
   ]
  },
  {
   "cell_type": "code",
   "execution_count": 24,
   "id": "a756ae67-99b4-4014-91b2-db59e407f126",
   "metadata": {},
   "outputs": [],
   "source": [
    "def merge_dfs(df1, df2, suffix1, suffix2):\n",
    "    return df1.join(df2, how='inner', lsuffix=suffix1, rsuffix=suffix2)"
   ]
  },
  {
   "cell_type": "code",
   "execution_count": 25,
   "id": "8b3993a0-a514-4575-b9df-a8a6234f58ed",
   "metadata": {},
   "outputs": [],
   "source": [
    "# dataframes = [emb_6_pd, emb_4_pd, emb_14_pd] \n",
    "# dataframes = [emb_15_pd, emb_17_pd] \n",
    "# dataframes = [emb_15_pd, emb_17_pd, emb_18_pd]\n",
    "# dataframes = [emb_15_pd, emb_17_pd, emb_18_pd, emb_21_pd, emb_22_pd, emb_26_pd, emb_27_pd, emb_28_pd]\n",
    "\n",
    "dataframes = [emb_15_pd, emb_17_pd, emb_18_pd, emb_21_pd, emb_22_pd]\n",
    "merged_df = dataframes[0]\n",
    "\n",
    "suffixes = [f'_{i}' for i in range(len(dataframes))]\n",
    "\n",
    "for i in range(1, len(dataframes)):\n",
    "    merged_df = merged_df.join(dataframes[i], how='inner', lsuffix=suffixes[i-1], rsuffix=suffixes[i])\n",
    "\n",
    "merged_df.rename(columns={'embedding': f'embedding_{len(dataframes)}'}, inplace=True)"
   ]
  },
  {
   "cell_type": "code",
   "execution_count": 1,
   "id": "f9c89fc5-6234-47f2-9b5c-29e53fa01cf9",
   "metadata": {},
   "outputs": [],
   "source": [
    "# merged_df.head()"
   ]
  },
  {
   "cell_type": "code",
   "execution_count": 27,
   "id": "b782e21d-c1c8-434c-adc1-321c14642458",
   "metadata": {},
   "outputs": [],
   "source": [
    "def average_embeddings(merged_df, weights=None):\n",
    "    # Находим все столбцы, имена которых начинаются с 'embedding_'\n",
    "    embedding_columns = [col for col in merged_df.columns if col.startswith('embedding_')]\n",
    "    \n",
    "    # Убедимся, что есть хотя бы один столбец для усреднения\n",
    "    if not embedding_columns:\n",
    "        raise ValueError(\"Нет столбцов с эмбеддингами для усреднения.\")\n",
    "    \n",
    "    # Если веса не переданы, используем равные веса\n",
    "    if weights is None:\n",
    "        weights = np.ones(len(embedding_columns))\n",
    "    elif len(weights) != len(embedding_columns):\n",
    "        raise ValueError(\"Длина списка весов должна совпадать с количеством эмбеддингов.\")\n",
    "\n",
    "    # Применяем взвешенное усреднение по найденным столбцам\n",
    "    merged_df['embedding'] = merged_df[embedding_columns].apply(\n",
    "        lambda row: np.average(row, weights=weights), axis=1\n",
    "    )"
   ]
  },
  {
   "cell_type": "code",
   "execution_count": 40,
   "id": "cfebc329-5cbe-43cd-96f5-787e80eb4483",
   "metadata": {},
   "outputs": [],
   "source": [
    "average_embeddings(merged_df, weights=[1.0, 0.9, 0.7, 0.9, 0.7])"
   ]
  },
  {
   "cell_type": "code",
   "execution_count": 2,
   "id": "c9c89608-a5c4-493c-8d83-06019fe83307",
   "metadata": {},
   "outputs": [],
   "source": [
    "# merged_df.head()"
   ]
  },
  {
   "cell_type": "code",
   "execution_count": 42,
   "id": "70b4ab92-8d89-49eb-8507-78397bc47ca9",
   "metadata": {},
   "outputs": [],
   "source": [
    "from sklearn.metrics import pairwise_distances_chunked"
   ]
  },
  {
   "cell_type": "code",
   "execution_count": 43,
   "id": "a77450eb-12fb-42da-b154-ab9ff5b3885b",
   "metadata": {},
   "outputs": [],
   "source": [
    "embeddings = merged_df['embedding'].tolist()\n",
    "trackids = merged_df.index.tolist()"
   ]
  },
  {
   "cell_type": "code",
   "execution_count": 44,
   "id": "eeb28a4c-041b-4ca5-a14d-22fa4685dd71",
   "metadata": {},
   "outputs": [
    {
     "name": "stderr",
     "output_type": "stream",
     "text": [
      "233it [03:03,  1.27it/s]\n"
     ]
    }
   ],
   "source": [
    "predictions = []\n",
    "for chunk_result in tqdm(pairwise_distances_chunked(\n",
    "        embeddings, metric='cosine', reduce_func=reduce_func, working_memory=100\n",
    ")):\n",
    "    for query_indx, query_nearest_items in chunk_result:\n",
    "        predictions.append((trackids[query_indx], [trackids[nn_indx] for nn_indx in query_nearest_items]))"
   ]
  },
  {
   "cell_type": "markdown",
   "id": "2461a9e9-0710-436b-bac9-ebece3aef1f2",
   "metadata": {},
   "source": [
    "Тут указать директорию, в которой создаются ответы"
   ]
  },
  {
   "cell_type": "code",
   "execution_count": 45,
   "id": "a605f062-4911-43ff-909d-a91067d34bcc",
   "metadata": {},
   "outputs": [],
   "source": [
    "save_test_predictions(\n",
    "    predictions, output_dir='outputs_test', experiment_number='submission_final'\n",
    ")"
   ]
  }
 ],
 "metadata": {
  "kernelspec": {
   "display_name": "Python 3.10",
   "language": "python",
   "name": "dl24"
  },
  "language_info": {
   "codemirror_mode": {
    "name": "ipython",
    "version": 3
   },
   "file_extension": ".py",
   "mimetype": "text/x-python",
   "name": "python",
   "nbconvert_exporter": "python",
   "pygments_lexer": "ipython3",
   "version": "3.10.15"
  }
 },
 "nbformat": 4,
 "nbformat_minor": 5
}
