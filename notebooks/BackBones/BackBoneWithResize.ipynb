{
 "cells": [
  {
   "cell_type": "code",
   "execution_count": 1,
   "id": "e07ed6d4-4fc7-4df5-ac73-d410a202704f",
   "metadata": {},
   "outputs": [],
   "source": [
    "import sys\n",
    "import os\n",
    "\n",
    "PROJECT_DIR = '/home/evgenshuben/Desktop/gitReps/YandexCup/'\n",
    "sys.path.append(PROJECT_DIR)\n",
    "os.chdir(PROJECT_DIR)"
   ]
  },
  {
   "cell_type": "code",
   "execution_count": 2,
   "id": "7d6d6c8b-b08c-4d6c-b018-8183fe909cee",
   "metadata": {},
   "outputs": [],
   "source": [
    "from omegaconf import DictConfig, OmegaConf\n",
    "import hydra\n",
    "from hydra import initialize, compose, initialize_config_dir\n",
    "from hydra.utils import instantiate\n",
    "\n",
    "import torch.nn as nn\n",
    "import torch\n",
    "import torch.nn.functional as F"
   ]
  },
  {
   "cell_type": "code",
   "execution_count": 3,
   "id": "7a7d81b1-79bf-4f1d-b8ad-eab825e6cd1e",
   "metadata": {},
   "outputs": [],
   "source": [
    "%load_ext autoreload\n",
    "%autoreload 2\n",
    "\n",
    "from scr.train import Trainer"
   ]
  },
  {
   "cell_type": "markdown",
   "id": "d757bcb8-9ca6-4b14-9e54-385e00469be8",
   "metadata": {},
   "source": [
    "# Info"
   ]
  },
  {
   "cell_type": "code",
   "execution_count": 4,
   "id": "76d73012-330b-44bd-be3a-63928431b445",
   "metadata": {},
   "outputs": [
    {
     "name": "stderr",
     "output_type": "stream",
     "text": [
      "/home/evgenshuben/miniconda3/envs/DL24/lib/python3.10/site-packages/hydra/_internal/defaults_list.py:251: UserWarning: In 'config': Defaults list is missing `_self_`. See https://hydra.cc/docs/1.2/upgrades/1.0_to_1.1/default_composition_order for more information\n",
      "  warnings.warn(msg, UserWarning)\n"
     ]
    }
   ],
   "source": [
    "config_dir = '/home/evgenshuben/Desktop/gitReps/YandexCup/configs'\n",
    "config_name = 'config'\n",
    "\n",
    "\n",
    "with initialize_config_dir(config_dir=config_dir, version_base=None):\n",
    "    cfg = compose(config_name=config_name)\n",
    "    # cfg['dataset']['train']['train']['dataset_path']"
   ]
  },
  {
   "cell_type": "code",
   "execution_count": 5,
   "id": "13a838e3-195e-43f7-81d6-86f241138ff6",
   "metadata": {},
   "outputs": [
    {
     "data": {
      "text/plain": [
       "'hgnetv2_b4.ssld_stage2_ft_in1k'"
      ]
     },
     "execution_count": 5,
     "metadata": {},
     "output_type": "execute_result"
    }
   ],
   "source": [
    "cfg.model.backbone_name"
   ]
  },
  {
   "cell_type": "code",
   "execution_count": null,
   "id": "a9e3e5e3-f756-4b8f-98b8-b728174970e1",
   "metadata": {},
   "outputs": [],
   "source": []
  },
  {
   "cell_type": "code",
   "execution_count": 6,
   "id": "fc990919-5c88-4f61-870d-9a95aee5f29e",
   "metadata": {},
   "outputs": [],
   "source": [
    "trainer = Trainer(cfg)"
   ]
  },
  {
   "cell_type": "code",
   "execution_count": 7,
   "id": "a63a6a26-7da9-401c-aa4f-3c153191909e",
   "metadata": {},
   "outputs": [],
   "source": [
    "for batch in trainer.train_dataloader:\n",
    "    break"
   ]
  },
  {
   "cell_type": "code",
   "execution_count": 10,
   "id": "2cc4933a-3bad-4e2f-a142-d037db15aa3a",
   "metadata": {},
   "outputs": [
    {
     "data": {
      "text/plain": [
       "torch.Size([64, 84, 50])"
      ]
     },
     "execution_count": 10,
     "metadata": {},
     "output_type": "execute_result"
    }
   ],
   "source": [
    "batch['anchor'].shape"
   ]
  },
  {
   "cell_type": "code",
   "execution_count": null,
   "id": "47441e7a-2e90-46a0-862d-e18dce658741",
   "metadata": {},
   "outputs": [],
   "source": []
  },
  {
   "cell_type": "code",
   "execution_count": null,
   "id": "bcb43dd9-69ae-454d-bbbd-f9301d7a47ca",
   "metadata": {},
   "outputs": [],
   "source": []
  },
  {
   "cell_type": "code",
   "execution_count": null,
   "id": "dc9ee5cb-82c1-406b-9782-297502693f18",
   "metadata": {},
   "outputs": [],
   "source": []
  },
  {
   "cell_type": "code",
   "execution_count": 12,
   "id": "61100f38-1615-41d7-bbe3-dbd0383a0d1b",
   "metadata": {},
   "outputs": [
    {
     "data": {
      "text/plain": [
       "torch.Size([64, 84, 50])"
      ]
     },
     "execution_count": 12,
     "metadata": {},
     "output_type": "execute_result"
    }
   ],
   "source": [
    "x = batch['anchor']\n",
    "x.shape"
   ]
  },
  {
   "cell_type": "code",
   "execution_count": 19,
   "id": "82aa55c4-31f6-4bd3-81b2-c05ed7fb40c7",
   "metadata": {},
   "outputs": [
    {
     "data": {
      "text/plain": [
       "torch.Size([64, 4200])"
      ]
     },
     "execution_count": 19,
     "metadata": {},
     "output_type": "execute_result"
    }
   ],
   "source": [
    "x = x.view(x.size(0), -1)\n",
    "x.shape"
   ]
  },
  {
   "cell_type": "code",
   "execution_count": 20,
   "id": "7cdecf6f-04ad-4bd1-b6e2-2e005e4ad874",
   "metadata": {},
   "outputs": [],
   "source": [
    "resize_layer = nn.Sequential(\n",
    "    nn.Linear(84 * 50, 3 * 224 * 224),  # Преобразуем плоский вектор\n",
    "    nn.ReLU(),  # Нелинейность\n",
    "    nn.Unflatten(1, (3, 224, 224))  # Преобразуем в нужную размерность\n",
    ")"
   ]
  },
  {
   "cell_type": "code",
   "execution_count": 22,
   "id": "0f065e3a-64b8-4f82-9d30-c0ab3eccd53d",
   "metadata": {},
   "outputs": [
    {
     "data": {
      "text/plain": [
       "torch.Size([64, 3, 224, 224])"
      ]
     },
     "execution_count": 22,
     "metadata": {},
     "output_type": "execute_result"
    }
   ],
   "source": [
    "resize_layer(x).shape"
   ]
  },
  {
   "cell_type": "markdown",
   "id": "105aee61-0a3d-4d1b-8789-ed3d263baf08",
   "metadata": {},
   "source": [
    "### Заметка\n",
    "\n",
    "Оказалось, что это не очень хорошо, тк в подобном линейном слое очень много параметров около 600кк\n",
    "\n",
    "попробую заменить это сверточными слоями"
   ]
  },
  {
   "cell_type": "code",
   "execution_count": 46,
   "id": "b002ba6d-394b-4491-b038-9e86794f5b10",
   "metadata": {},
   "outputs": [],
   "source": [
    "resize_time = nn.Linear(50, 224) \n",
    "resize_freq = nn.Linear(84, 224) "
   ]
  },
  {
   "cell_type": "code",
   "execution_count": 47,
   "id": "630c0b80-788c-4ba9-846e-3e6ba932ebec",
   "metadata": {},
   "outputs": [],
   "source": [
    "for batch in trainer.train_dataloader:\n",
    "    break"
   ]
  },
  {
   "cell_type": "code",
   "execution_count": 48,
   "id": "825768d7-dd0d-4b46-9635-c5ce657f380b",
   "metadata": {},
   "outputs": [
    {
     "data": {
      "text/plain": [
       "torch.Size([64, 84, 50])"
      ]
     },
     "execution_count": 48,
     "metadata": {},
     "output_type": "execute_result"
    }
   ],
   "source": [
    "x = batch['anchor']\n",
    "x.shape"
   ]
  },
  {
   "cell_type": "code",
   "execution_count": 49,
   "id": "99483521-6d90-4735-b06a-449f9092a795",
   "metadata": {},
   "outputs": [
    {
     "data": {
      "text/plain": [
       "torch.Size([5376, 50])"
      ]
     },
     "execution_count": 49,
     "metadata": {},
     "output_type": "execute_result"
    }
   ],
   "source": [
    "x = x.view(-1, 50)  # (batch_size * 84, 50)\n",
    "x.shape"
   ]
  },
  {
   "cell_type": "code",
   "execution_count": 50,
   "id": "5130d77a-6916-45fd-ab07-20d4f76df818",
   "metadata": {},
   "outputs": [
    {
     "data": {
      "text/plain": [
       "torch.Size([5376, 224])"
      ]
     },
     "execution_count": 50,
     "metadata": {},
     "output_type": "execute_result"
    }
   ],
   "source": [
    "x_time = resize_time(x)  # (batch_size * 84, 224)\n",
    "x_time.shape"
   ]
  },
  {
   "cell_type": "code",
   "execution_count": 51,
   "id": "87ac2b34-08f3-4cfc-9863-dc464c9092c5",
   "metadata": {},
   "outputs": [
    {
     "data": {
      "text/plain": [
       "torch.Size([64, 84, 224])"
      ]
     },
     "execution_count": 51,
     "metadata": {},
     "output_type": "execute_result"
    }
   ],
   "source": [
    "x_time = x_time.view(-1, 84, 224) \n",
    "x_time.shape"
   ]
  },
  {
   "cell_type": "code",
   "execution_count": 53,
   "id": "f739500d-810a-4d29-a610-98ef32173c25",
   "metadata": {},
   "outputs": [
    {
     "data": {
      "text/plain": [
       "torch.Size([14336, 84])"
      ]
     },
     "execution_count": 53,
     "metadata": {},
     "output_type": "execute_result"
    }
   ],
   "source": [
    "x_freq = x_time.permute(0, 2, 1)  # (batch_size, 224, 84)\n",
    "x_freq = x_freq.reshape(-1, 84)\n",
    "x_freq.shape"
   ]
  },
  {
   "cell_type": "code",
   "execution_count": 55,
   "id": "3dd3bba7-816a-4c48-bb3b-77cc1e5b2568",
   "metadata": {},
   "outputs": [
    {
     "data": {
      "text/plain": [
       "torch.Size([14336, 224])"
      ]
     },
     "execution_count": 55,
     "metadata": {},
     "output_type": "execute_result"
    }
   ],
   "source": [
    "x_freq = resize_freq(x_freq)\n",
    "x_freq.shape"
   ]
  },
  {
   "cell_type": "code",
   "execution_count": 56,
   "id": "15d136ff-7d08-4787-9954-6a203a208566",
   "metadata": {},
   "outputs": [
    {
     "data": {
      "text/plain": [
       "torch.Size([64, 224, 224])"
      ]
     },
     "execution_count": 56,
     "metadata": {},
     "output_type": "execute_result"
    }
   ],
   "source": [
    "x_freq = x_freq.view(-1, 224, 224)\n",
    "x_freq.shape"
   ]
  },
  {
   "cell_type": "code",
   "execution_count": 57,
   "id": "18c72c38-f4cd-4558-a553-526367835f36",
   "metadata": {},
   "outputs": [],
   "source": [
    "x_freq = x_freq.unsqueeze(1)  # (batch_size, 1, 224, 224)"
   ]
  },
  {
   "cell_type": "code",
   "execution_count": 58,
   "id": "7bb4d12d-cec7-41e4-8cea-f778f4ec7301",
   "metadata": {},
   "outputs": [
    {
     "data": {
      "text/plain": [
       "torch.Size([64, 1, 224, 224])"
      ]
     },
     "execution_count": 58,
     "metadata": {},
     "output_type": "execute_result"
    }
   ],
   "source": [
    "x_freq.shape"
   ]
  },
  {
   "cell_type": "code",
   "execution_count": null,
   "id": "b83088cb-d8ac-4c14-ae7d-87e76ce2d864",
   "metadata": {},
   "outputs": [],
   "source": []
  },
  {
   "cell_type": "code",
   "execution_count": null,
   "id": "fe5c6408-4a44-4b48-99b3-1d3fa4fa651d",
   "metadata": {},
   "outputs": [],
   "source": []
  },
  {
   "cell_type": "code",
   "execution_count": null,
   "id": "f0d54c77-d451-41f2-b1c8-4838c13ff504",
   "metadata": {},
   "outputs": [],
   "source": []
  },
  {
   "cell_type": "code",
   "execution_count": null,
   "id": "4f05e992-7f15-42f2-98e9-2c0419361711",
   "metadata": {},
   "outputs": [],
   "source": []
  }
 ],
 "metadata": {
  "kernelspec": {
   "display_name": "Python 3.10",
   "language": "python",
   "name": "dl24"
  },
  "language_info": {
   "codemirror_mode": {
    "name": "ipython",
    "version": 3
   },
   "file_extension": ".py",
   "mimetype": "text/x-python",
   "name": "python",
   "nbconvert_exporter": "python",
   "pygments_lexer": "ipython3",
   "version": "3.10.15"
  }
 },
 "nbformat": 4,
 "nbformat_minor": 5
}
