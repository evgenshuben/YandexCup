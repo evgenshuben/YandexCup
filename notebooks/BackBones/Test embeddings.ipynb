{
 "cells": [
  {
   "cell_type": "code",
   "execution_count": 1,
   "id": "40d434ca-a3d0-4411-9cc8-cdccd4ee96ec",
   "metadata": {},
   "outputs": [],
   "source": [
    "import sys\n",
    "import os\n",
    "\n",
    "PROJECT_DIR = '/home/evgenshuben/Desktop/gitReps/YandexCup/'\n",
    "sys.path.append(PROJECT_DIR)\n",
    "os.chdir(PROJECT_DIR)"
   ]
  },
  {
   "cell_type": "code",
   "execution_count": 2,
   "id": "14a96523-6e04-4ad8-a83f-2e0eca436c4a",
   "metadata": {},
   "outputs": [],
   "source": [
    "from omegaconf import DictConfig, OmegaConf\n",
    "import hydra\n",
    "from hydra import initialize, compose, initialize_config_dir\n",
    "from hydra.utils import instantiate\n",
    "\n",
    "import torch.nn as nn\n",
    "import torch\n",
    "import torch.nn.functional as F"
   ]
  },
  {
   "cell_type": "code",
   "execution_count": 13,
   "id": "6f1e6bf4-d3b3-4b07-a9b9-e50df2bdb937",
   "metadata": {},
   "outputs": [
    {
     "name": "stdout",
     "output_type": "stream",
     "text": [
      "The autoreload extension is already loaded. To reload it, use:\n",
      "  %reload_ext autoreload\n"
     ]
    }
   ],
   "source": [
    "%load_ext autoreload\n",
    "%autoreload 2\n",
    "\n",
    "from scr.train import Trainer"
   ]
  },
  {
   "cell_type": "markdown",
   "id": "527719e4-e8fd-4d58-92b9-be386a72e590",
   "metadata": {},
   "source": [
    "# init config"
   ]
  },
  {
   "cell_type": "code",
   "execution_count": 14,
   "id": "42101c50-0f98-4cda-8f1b-dc0d9bf0357d",
   "metadata": {},
   "outputs": [
    {
     "data": {
      "text/plain": [
       "'efficientnet_b0.ra4_e3600_r224_in1k'"
      ]
     },
     "execution_count": 14,
     "metadata": {},
     "output_type": "execute_result"
    }
   ],
   "source": [
    "# Путь к конфигурационному файлу, сохраненному Hydra\n",
    "config_path = \"/home/evgenshuben/Desktop/gitReps/YandexCup/outputs_val/run-12/hydra/.hydra/config.yaml\"\n",
    "\n",
    "\n",
    "\n",
    "cfg = OmegaConf.load(config_path)\n",
    "cfg.enviroment.device = 'cpu'\n",
    "cfg.model.backbone_name"
   ]
  },
  {
   "cell_type": "code",
   "execution_count": 15,
   "id": "fabdc588-e201-45eb-ba1a-735a318729b6",
   "metadata": {},
   "outputs": [],
   "source": [
    "trainer = Trainer(cfg)"
   ]
  },
  {
   "cell_type": "code",
   "execution_count": 12,
   "id": "86f8287c-8110-440c-80fd-77d4b40c0e93",
   "metadata": {},
   "outputs": [
    {
     "data": {
      "text/plain": [
       "55170"
      ]
     },
     "execution_count": 12,
     "metadata": {},
     "output_type": "execute_result"
    }
   ],
   "source": [
    "trainer.test_dataloader"
   ]
  },
  {
   "cell_type": "code",
   "execution_count": 16,
   "id": "e4824fd6-df8c-45e7-bb6e-e0dfe3850bba",
   "metadata": {},
   "outputs": [
    {
     "name": "stderr",
     "output_type": "stream",
     "text": [
      "100%|██████████| 55170/55170 [29:10<00:00, 31.52it/s]\n"
     ]
    }
   ],
   "source": [
    "trackids, embeddings = trainer.test_embeddings()"
   ]
  },
  {
   "cell_type": "code",
   "execution_count": 21,
   "id": "8a047b91-6580-4b4d-994b-4681055fc77c",
   "metadata": {},
   "outputs": [
    {
     "data": {
      "text/plain": [
       "55170"
      ]
     },
     "execution_count": 21,
     "metadata": {},
     "output_type": "execute_result"
    }
   ],
   "source": [
    "len(trackids)"
   ]
  },
  {
   "cell_type": "code",
   "execution_count": 20,
   "id": "656e1409-d6a7-4e50-a9ac-090c145c69b7",
   "metadata": {},
   "outputs": [
    {
     "data": {
      "text/plain": [
       "55170"
      ]
     },
     "execution_count": 20,
     "metadata": {},
     "output_type": "execute_result"
    }
   ],
   "source": [
    "len(embeddings)"
   ]
  },
  {
   "cell_type": "code",
   "execution_count": 23,
   "id": "b9b4eef1-3a0e-4935-84c9-4e2472799d97",
   "metadata": {},
   "outputs": [
    {
     "data": {
      "text/plain": [
       "(512,)"
      ]
     },
     "execution_count": 23,
     "metadata": {},
     "output_type": "execute_result"
    }
   ],
   "source": [
    "embeddings[0].shape"
   ]
  },
  {
   "cell_type": "code",
   "execution_count": 24,
   "id": "221739d0-8787-479e-bf5d-3aebbcd4cac2",
   "metadata": {},
   "outputs": [],
   "source": [
    "import pickle"
   ]
  },
  {
   "cell_type": "code",
   "execution_count": 26,
   "id": "589fdedc-379d-430a-8a57-24eb2c0548d4",
   "metadata": {},
   "outputs": [],
   "source": [
    "track_dict = {track_id: embedding for track_id, embedding in zip(trackids, embeddings)}"
   ]
  },
  {
   "cell_type": "code",
   "execution_count": 25,
   "id": "62f60abf-3d55-47a1-aee5-71184318a4b6",
   "metadata": {},
   "outputs": [
    {
     "name": "stdout",
     "output_type": "stream",
     "text": [
      "/home/evgenshuben/Desktop/gitReps/YandexCup\n"
     ]
    }
   ],
   "source": [
    "!pwd"
   ]
  },
  {
   "cell_type": "code",
   "execution_count": 30,
   "id": "eefbbdc8-4d86-4485-a874-857cfae419fb",
   "metadata": {},
   "outputs": [],
   "source": [
    "with open('track_embeddings.pkl', 'wb') as f:\n",
    "    pickle.dump(track_dict, f)"
   ]
  },
  {
   "cell_type": "code",
   "execution_count": null,
   "id": "fae2ad77-0cce-4253-bdca-fd447814b72f",
   "metadata": {},
   "outputs": [],
   "source": []
  }
 ],
 "metadata": {
  "kernelspec": {
   "display_name": "Python 3.10",
   "language": "python",
   "name": "dl24"
  },
  "language_info": {
   "codemirror_mode": {
    "name": "ipython",
    "version": 3
   },
   "file_extension": ".py",
   "mimetype": "text/x-python",
   "name": "python",
   "nbconvert_exporter": "python",
   "pygments_lexer": "ipython3",
   "version": "3.10.15"
  }
 },
 "nbformat": 4,
 "nbformat_minor": 5
}
