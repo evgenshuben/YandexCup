{
 "cells": [
  {
   "cell_type": "code",
   "execution_count": 1,
   "id": "7fc59478-2399-4d06-a348-902b883622e8",
   "metadata": {},
   "outputs": [],
   "source": [
    "import sys\n",
    "import os\n",
    "\n",
    "PROJECT_DIR = '/Users/evgenshuben/Desktop/gitReps/YandexCup/'\n",
    "sys.path.append(PROJECT_DIR)\n",
    "os.chdir(PROJECT_DIR)"
   ]
  },
  {
   "cell_type": "code",
   "execution_count": 2,
   "id": "706a0947-d8d8-486a-b538-1ae78d2083ca",
   "metadata": {},
   "outputs": [],
   "source": [
    "%load_ext autoreload\n",
    "%autoreload 2\n",
    "\n",
    "from scr.train import Trainer"
   ]
  },
  {
   "cell_type": "code",
   "execution_count": 61,
   "id": "b0c04809-2547-44f5-a3c4-9d10f3756f6b",
   "metadata": {},
   "outputs": [],
   "source": [
    "from omegaconf import DictConfig, OmegaConf\n",
    "import hydra\n",
    "from hydra import initialize, compose, initialize_config_dir\n",
    "from hydra.utils import instantiate"
   ]
  },
  {
   "cell_type": "markdown",
   "id": "285743cb-598e-483c-a355-8d96011d02c0",
   "metadata": {},
   "source": [
    "# Load conf"
   ]
  },
  {
   "cell_type": "code",
   "execution_count": 62,
   "id": "2b088a32-3ac6-4ab4-a361-7ed69d95cd88",
   "metadata": {},
   "outputs": [
    {
     "name": "stderr",
     "output_type": "stream",
     "text": [
      "/opt/miniconda3/lib/python3.12/site-packages/hydra/_internal/defaults_list.py:251: UserWarning: In 'config': Defaults list is missing `_self_`. See https://hydra.cc/docs/1.2/upgrades/1.0_to_1.1/default_composition_order for more information\n",
      "  warnings.warn(msg, UserWarning)\n"
     ]
    }
   ],
   "source": [
    "config_dir = '/Users/evgenshuben/Desktop/gitReps/YandexCup/configs'\n",
    "config_name = 'config'\n",
    "\n",
    "\n",
    "with initialize_config_dir(config_dir=config_dir, version_base=None):\n",
    "    cfg = compose(config_name=config_name)\n",
    "    # cfg['dataset']['train']['train']['dataset_path']"
   ]
  },
  {
   "cell_type": "code",
   "execution_count": 63,
   "id": "732db23c-e486-4817-a37e-0c99e89a393c",
   "metadata": {},
   "outputs": [
    {
     "name": "stderr",
     "output_type": "stream",
     "text": [
      "/Users/evgenshuben/Desktop/gitReps/YandexCup/scr/train.py:52: FutureWarning: You are using `torch.load` with `weights_only=False` (the current default value), which uses the default pickle module implicitly. It is possible to construct malicious pickle data which will execute arbitrary code during unpickling (See https://github.com/pytorch/pytorch/blob/main/SECURITY.md#untrusted-models for more details). In a future release, the default value for `weights_only` will be flipped to `True`. This limits the functions that could be executed during unpickling. Arbitrary objects will no longer be allowed to be loaded via this mode unless they are explicitly allowlisted by the user via `torch.serialization.add_safe_globals`. We recommend you start setting `weights_only=True` for any use case where you don't have full control of the loaded file. Please open an issue on GitHub for any issues related to this experimental feature.\n",
      "  self.model.load_state_dict(torch.load(self.cfg.pipeline.model_ckpt), strict=False)\n"
     ]
    }
   ],
   "source": [
    "trainer = Trainer(cfg)"
   ]
  },
  {
   "cell_type": "code",
   "execution_count": 58,
   "id": "0f77483d-5633-47b1-8bdd-c116f944fdaa",
   "metadata": {},
   "outputs": [
    {
     "ename": "FileExistsError",
     "evalue": "Run with number 0 already exist: outputs_val/run-0",
     "output_type": "error",
     "traceback": [
      "\u001b[0;31m---------------------------------------------------------------------------\u001b[0m",
      "\u001b[0;31mFileExistsError\u001b[0m                           Traceback (most recent call last)",
      "Cell \u001b[0;32mIn[58], line 1\u001b[0m\n\u001b[0;32m----> 1\u001b[0m trainer\u001b[38;5;241m.\u001b[39mpipeline()\n",
      "File \u001b[0;32m~/Desktop/gitReps/YandexCup/scr/train.py:294\u001b[0m, in \u001b[0;36mTrainer.pipeline\u001b[0;34m(self)\u001b[0m\n\u001b[1;32m    292\u001b[0m \u001b[38;5;28;01mdef\u001b[39;00m \u001b[38;5;21mpipeline\u001b[39m(\u001b[38;5;28mself\u001b[39m) \u001b[38;5;241m-\u001b[39m\u001b[38;5;241m>\u001b[39m \u001b[38;5;28;01mNone\u001b[39;00m:\n\u001b[1;32m    293\u001b[0m \u001b[38;5;250m    \u001b[39m\u001b[38;5;124;03m'''Тут короче все обучение и валидация'''\u001b[39;00m\n\u001b[0;32m--> 294\u001b[0m     \u001b[38;5;28mself\u001b[39m\u001b[38;5;241m.\u001b[39mcfg\u001b[38;5;241m.\u001b[39mpipeline\u001b[38;5;241m.\u001b[39moutput_dir \u001b[38;5;241m=\u001b[39m dir_checker(\u001b[38;5;28mself\u001b[39m\u001b[38;5;241m.\u001b[39mcfg\u001b[38;5;241m.\u001b[39mpipeline\u001b[38;5;241m.\u001b[39moutput_dir, \u001b[38;5;28mself\u001b[39m\u001b[38;5;241m.\u001b[39mexperiment_number)\n\u001b[1;32m    295\u001b[0m     \u001b[38;5;66;03m# self._init_mlflow()\u001b[39;00m\n\u001b[1;32m    296\u001b[0m     \u001b[38;5;28mself\u001b[39m\u001b[38;5;241m.\u001b[39mstate \u001b[38;5;241m=\u001b[39m \u001b[38;5;124m\"\u001b[39m\u001b[38;5;124mrunning\u001b[39m\u001b[38;5;124m\"\u001b[39m\n",
      "File \u001b[0;32m~/Desktop/gitReps/YandexCup/scr/utils.py:98\u001b[0m, in \u001b[0;36mdir_checker\u001b[0;34m(output_dir, experiment_number)\u001b[0m\n\u001b[1;32m     96\u001b[0m \u001b[38;5;66;03m# Проверяем, существует ли уже папка с таким номером\u001b[39;00m\n\u001b[1;32m     97\u001b[0m \u001b[38;5;28;01mif\u001b[39;00m os\u001b[38;5;241m.\u001b[39mpath\u001b[38;5;241m.\u001b[39mexists(target_dir):\n\u001b[0;32m---> 98\u001b[0m     \u001b[38;5;28;01mraise\u001b[39;00m \u001b[38;5;167;01mFileExistsError\u001b[39;00m(\u001b[38;5;124mf\u001b[39m\u001b[38;5;124m\"\u001b[39m\u001b[38;5;124mRun with number \u001b[39m\u001b[38;5;132;01m{\u001b[39;00mexperiment_number\u001b[38;5;132;01m}\u001b[39;00m\u001b[38;5;124m already exist: \u001b[39m\u001b[38;5;132;01m{\u001b[39;00mtarget_dir\u001b[38;5;132;01m}\u001b[39;00m\u001b[38;5;124m\"\u001b[39m)\n\u001b[1;32m    100\u001b[0m \u001b[38;5;66;03m# Если не существует, возвращаем путь для нового каталога\u001b[39;00m\n\u001b[1;32m    101\u001b[0m \u001b[38;5;28;01mreturn\u001b[39;00m target_dir\n",
      "\u001b[0;31mFileExistsError\u001b[0m: Run with number 0 already exist: outputs_val/run-0"
     ]
    }
   ],
   "source": [
    "trainer.pipeline()"
   ]
  },
  {
   "cell_type": "code",
   "execution_count": 29,
   "id": "e95263d0-1429-42af-bcd6-ddde25a81fed",
   "metadata": {},
   "outputs": [
    {
     "ename": "AttributeError",
     "evalue": "'Trainer' object has no attribute 'state'",
     "output_type": "error",
     "traceback": [
      "\u001b[0;31m---------------------------------------------------------------------------\u001b[0m",
      "\u001b[0;31mAttributeError\u001b[0m                            Traceback (most recent call last)",
      "Cell \u001b[0;32mIn[29], line 1\u001b[0m\n\u001b[0;32m----> 1\u001b[0m trainer\u001b[38;5;241m.\u001b[39mstate\n",
      "\u001b[0;31mAttributeError\u001b[0m: 'Trainer' object has no attribute 'state'"
     ]
    }
   ],
   "source": [
    "trainer.state"
   ]
  },
  {
   "cell_type": "code",
   "execution_count": 15,
   "id": "c0c41170-fedc-42fe-b2da-2edd99343bdc",
   "metadata": {},
   "outputs": [],
   "source": [
    "trainer.best_model_path"
   ]
  },
  {
   "cell_type": "code",
   "execution_count": 17,
   "id": "85f5f011-97da-4153-bcd3-688b28e5a3a8",
   "metadata": {},
   "outputs": [],
   "source": [
    "# trainer"
   ]
  },
  {
   "cell_type": "code",
   "execution_count": 64,
   "id": "36b6d142-8bb9-41b4-a82c-395e25b3c8e9",
   "metadata": {},
   "outputs": [
    {
     "name": "stderr",
     "output_type": "stream",
     "text": [
      "Warning: Testing from ckpt /Users/evgenshuben/Desktop/gitReps/YandexCup/outputs_val/run-0/model/best-model-epoch=0-max_secs=50.pt\n",
      "100%|███████████████████████████████████████████████████████████████████████████████████████████████████| 55170/55170 [01:32<00:00, 595.78it/s]\n"
     ]
    }
   ],
   "source": [
    "trainer.test()"
   ]
  },
  {
   "cell_type": "code",
   "execution_count": null,
   "id": "6481c859-a919-4f21-a461-5185e1ecbb65",
   "metadata": {},
   "outputs": [],
   "source": []
  },
  {
   "cell_type": "code",
   "execution_count": null,
   "id": "c4bbc28a-b0de-4bb7-830f-6f714a6c6269",
   "metadata": {},
   "outputs": [],
   "source": []
  },
  {
   "cell_type": "code",
   "execution_count": null,
   "id": "54c8e9c8-429d-4d0b-a69d-974582ad134f",
   "metadata": {},
   "outputs": [],
   "source": []
  },
  {
   "cell_type": "code",
   "execution_count": null,
   "id": "d8537c17-e667-441e-aba2-eca389db0aff",
   "metadata": {},
   "outputs": [],
   "source": []
  },
  {
   "cell_type": "code",
   "execution_count": null,
   "id": "640c4186-2d2d-42c1-aa98-30fe653d2ab5",
   "metadata": {},
   "outputs": [],
   "source": []
  },
  {
   "cell_type": "code",
   "execution_count": null,
   "id": "7c4bc65a-9002-4c39-8994-568e694323c3",
   "metadata": {},
   "outputs": [],
   "source": []
  },
  {
   "cell_type": "code",
   "execution_count": null,
   "id": "2b1977f7-cba5-4a0c-8966-24b660fab497",
   "metadata": {},
   "outputs": [],
   "source": []
  },
  {
   "cell_type": "code",
   "execution_count": null,
   "id": "ba554949-93e6-4613-becf-c804d5c54d60",
   "metadata": {},
   "outputs": [],
   "source": []
  }
 ],
 "metadata": {
  "kernelspec": {
   "display_name": "Python 3 (ipykernel)",
   "language": "python",
   "name": "python3"
  },
  "language_info": {
   "codemirror_mode": {
    "name": "ipython",
    "version": 3
   },
   "file_extension": ".py",
   "mimetype": "text/x-python",
   "name": "python",
   "nbconvert_exporter": "python",
   "pygments_lexer": "ipython3",
   "version": "3.12.2"
  }
 },
 "nbformat": 4,
 "nbformat_minor": 5
}
